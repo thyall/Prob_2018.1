{
 "cells": [
  {
   "cell_type": "markdown",
   "metadata": {},
   "source": [
    "## Discrete Distributions\n",
    "### Probability Mass Function "
   ]
  },
  {
   "cell_type": "code",
   "execution_count": 7,
   "metadata": {
    "scrolled": true
   },
   "outputs": [
    {
     "name": "stdout",
     "output_type": "stream",
     "text": [
      "Dice - 6 faces: pmf(X)\n",
      " {1: 1/6, 2: 1/6, 3: 1/6, 4: 1/6, 5: 1/6, 6: 1/6}\n"
     ]
    }
   ],
   "source": [
    "# pmf - probability mass function\n",
    "from sympy.stats import Die, density, FiniteRV\n",
    "\n",
    "X = Die('X',6)\n",
    "#dict - dictionary\n",
    "print(\"Dice - 6 faces: pmf(X)\\n\",density(X).dict)"
   ]
  },
  {
   "cell_type": "code",
   "execution_count": 8,
   "metadata": {},
   "outputs": [
    {
     "name": "stdout",
     "output_type": "stream",
     "text": [
      "Biased Dice - 6 faces: pmf(Y)\n",
      " {1: 0.2, 2: 0.1, 3: 0.3, 4: 0.1, 5: 0.2, 6: 0.1}\n"
     ]
    }
   ],
   "source": [
    "# pmf - probability mass function\n",
    "pmf = {1: 0.2, 2: 0.1, 3: 0.3, 4: 0.1, 5: 0.2, 6: 0.1}\n",
    "Y = FiniteRV('Y',pmf)\n",
    "print(\"Biased Dice - 6 faces: pmf(Y)\\n\",density(Y).dict)"
   ]
  },
  {
   "cell_type": "markdown",
   "metadata": {},
   "source": [
    "### Cumulative Distribution Function"
   ]
  },
  {
   "cell_type": "code",
   "execution_count": 9,
   "metadata": {},
   "outputs": [
    {
     "name": "stdout",
     "output_type": "stream",
     "text": [
      "Dice - 6 faces: pmf(X)\n",
      " {1: 1/6, 2: 1/6, 3: 1/6, 4: 1/6, 5: 1/6, 6: 1/6}\n",
      "Dice - 6 faces: cdf(X)\n",
      " {1: 1/6, 2: 1/3, 3: 1/2, 4: 2/3, 5: 5/6, 6: 1}\n"
     ]
    }
   ],
   "source": [
    "# cdf - cumulative distribution function\n",
    "from sympy.stats import cdf\n",
    "\n",
    "print(\"Dice - 6 faces: pmf(X)\\n\",density(X).dict)\n",
    "print(\"Dice - 6 faces: cdf(X)\\n\", cdf(X))"
   ]
  },
  {
   "cell_type": "code",
   "execution_count": 5,
   "metadata": {},
   "outputs": [
    {
     "name": "stdout",
     "output_type": "stream",
     "text": [
      "Biased Dice - 6 faces: pmf(Y)\n",
      " {1: 0.2, 2: 0.1, 3: 0.3, 4: 0.1, 5: 0.2, 6: 0.1}\n",
      "Biased Dice - 6 faces: cdf(Y)\n",
      " {1: 0.200000000000000, 2: 0.300000000000000, 3: 0.600000000000000, 4: 0.700000000000000, 5: 0.900000000000000, 6: 1.00000000000000}\n"
     ]
    }
   ],
   "source": [
    "print(\"Biased Dice - 6 faces: pmf(Y)\\n\",density(Y).dict)\n",
    "print(\"Biased Dice - 6 faces: cdf(Y)\\n\", cdf(Y))"
   ]
  },
  {
   "cell_type": "markdown",
   "metadata": {},
   "source": [
    "<br>\n",
    "<div class=\"alert alert-info\">\n",
    "<b>Exercise start </b>\n",
    "</div>\n",
    "\n",
    "1. Using cdf create a function that generate randomly a face of a 8 faces dice. \n",
    "    - face = my_dice(n,cdf)\n"
   ]
  },
  {
   "cell_type": "code",
   "execution_count": 9,
   "metadata": {},
   "outputs": [
    {
     "name": "stdout",
     "output_type": "stream",
     "text": [
      "Dice - 8 faces: pmf(X)\n",
      " {1: 1/8, 2: 1/8, 3: 1/8, 4: 1/8, 5: 1/8, 6: 1/8, 7: 1/8, 8: 1/8}\n",
      "Dice - 8 faces: cdf(X)\n",
      " {1: 1/8, 2: 1/4, 3: 3/8, 4: 1/2, 5: 5/8, 6: 3/4, 7: 7/8, 8: 1}\n"
     ]
    }
   ],
   "source": [
    "aux= Die('aux', 8)\n",
    "\n",
    "print(\"Dice - 8 faces: pmf(X)\\n\",density(aux).dict)\n",
    "print(\"Dice - 8 faces: cdf(X)\\n\", cdf(aux))"
   ]
  },
  {
   "cell_type": "code",
   "execution_count": 12,
   "metadata": {},
   "outputs": [],
   "source": [
    "from random import *\n",
    "def my_dice(n, cdf):\n",
    "    for key,value in cdf.items():\n",
    "        if n <= value: return key\n",
    "    "
   ]
  },
  {
   "cell_type": "code",
   "execution_count": 16,
   "metadata": {},
   "outputs": [
    {
     "name": "stdout",
     "output_type": "stream",
     "text": [
      "0.9792365472216288\n"
     ]
    },
    {
     "data": {
      "text/plain": [
       "8"
      ]
     },
     "execution_count": 16,
     "metadata": {},
     "output_type": "execute_result"
    }
   ],
   "source": [
    "x = random()\n",
    "print(x)\n",
    "D8 = Die(\"D8\", 8)\n",
    "face = my_dice(x,cdf(D8))\n",
    "face"
   ]
  },
  {
   "cell_type": "markdown",
   "metadata": {},
   "source": [
    "## Bernoulli Distribution\n",
    "\n",
    "$$\n",
    "\\begin{eqnarray*}\n",
    "P(X = x)  \\Leftrightarrow  f(x)  & = &\n",
    "\\begin{cases}\n",
    "               \\displaystyle q, \\ \\ \\ x = 0\\\\\n",
    "               p, \\ \\ \\ x = 1\n",
    "\\end{cases}\\\\\n",
    "P(X \\leq x) \\Leftrightarrow  F(x)  & = &\n",
    "\\begin{cases}\n",
    "               0, \\ \\ \\ x < 0\\\\\n",
    "               q, \\ \\ \\ 0 \\leq x < 1\\\\\n",
    "               1, \\ \\ \\ x \\geq 1\n",
    "\\end{cases}\n",
    "\\end{eqnarray*}\n",
    "$$"
   ]
  },
  {
   "cell_type": "code",
   "execution_count": 10,
   "metadata": {},
   "outputs": [
    {
     "name": "stdout",
     "output_type": "stream",
     "text": [
      "Bernoulli pmf(x):\n",
      " {1: 0.750000000000000, 0: 0.250000000000000}\n",
      "Bernoulli cdf(x): \n",
      " {0: 0.250000000000000, 1: 1.00000000000000}\n"
     ]
    }
   ],
   "source": [
    "from sympy.stats import Bernoulli, density, cdf\n",
    "from sympy import S\n",
    "\n",
    "X = Bernoulli('X', 3/4)\n",
    "print(\"Bernoulli pmf(x):\\n\", density(X).dict)\n",
    "print(\"Bernoulli cdf(x): \\n\", cdf(X))"
   ]
  },
  {
   "cell_type": "markdown",
   "metadata": {},
   "source": [
    "## Binomial Distribution\n",
    "\n",
    "$$\n",
    "\\begin{eqnarray*}\n",
    "P(X = k)  \\Leftrightarrow  f(k,n,p)  & = &\n",
    "\\begin{cases}\n",
    "               \\displaystyle \\binom{n}{k}p^k(1-p)^{n-k} \\ \\ \\ 0 \\leq k \\leq n\\\\\n",
    "               \\textrm{caso contrário}\n",
    "\\end{cases}\\\\\n",
    "P(X \\leq x) \\Leftrightarrow  F(k,n,p)  & = &\n",
    "               \\displaystyle \\sum_{i=0}^{k}\\binom{n}{i}p^k(1-p)^{n-k} \n",
    "\\end{eqnarray*}\n",
    "$$"
   ]
  },
  {
   "cell_type": "code",
   "execution_count": 11,
   "metadata": {},
   "outputs": [
    {
     "data": {
      "text/html": [
       "\n",
       "    <div class=\"bk-root\">\n",
       "        <a href=\"https://bokeh.pydata.org\" target=\"_blank\" class=\"bk-logo bk-logo-small bk-logo-notebook\"></a>\n",
       "        <span id=\"9a75a455-5f4d-4362-989f-3acb384cc20a\">Loading BokehJS ...</span>\n",
       "    </div>"
      ]
     },
     "metadata": {},
     "output_type": "display_data"
    },
    {
     "data": {
      "application/javascript": [
       "\n",
       "(function(root) {\n",
       "  function now() {\n",
       "    return new Date();\n",
       "  }\n",
       "\n",
       "  var force = true;\n",
       "\n",
       "  if (typeof (root._bokeh_onload_callbacks) === \"undefined\" || force === true) {\n",
       "    root._bokeh_onload_callbacks = [];\n",
       "    root._bokeh_is_loading = undefined;\n",
       "  }\n",
       "\n",
       "  var JS_MIME_TYPE = 'application/javascript';\n",
       "  var HTML_MIME_TYPE = 'text/html';\n",
       "  var EXEC_MIME_TYPE = 'application/vnd.bokehjs_exec.v0+json';\n",
       "  var CLASS_NAME = 'output_bokeh rendered_html';\n",
       "\n",
       "  /**\n",
       "   * Render data to the DOM node\n",
       "   */\n",
       "  function render(props, node) {\n",
       "    var script = document.createElement(\"script\");\n",
       "    node.appendChild(script);\n",
       "  }\n",
       "\n",
       "  /**\n",
       "   * Handle when an output is cleared or removed\n",
       "   */\n",
       "  function handleClearOutput(event, handle) {\n",
       "    var cell = handle.cell;\n",
       "\n",
       "    var id = cell.output_area._bokeh_element_id;\n",
       "    var server_id = cell.output_area._bokeh_server_id;\n",
       "    // Clean up Bokeh references\n",
       "    if (id !== undefined) {\n",
       "      Bokeh.index[id].model.document.clear();\n",
       "      delete Bokeh.index[id];\n",
       "    }\n",
       "\n",
       "    if (server_id !== undefined) {\n",
       "      // Clean up Bokeh references\n",
       "      var cmd = \"from bokeh.io.state import curstate; print(curstate().uuid_to_server['\" + server_id + \"'].get_sessions()[0].document.roots[0]._id)\";\n",
       "      cell.notebook.kernel.execute(cmd, {\n",
       "        iopub: {\n",
       "          output: function(msg) {\n",
       "            var element_id = msg.content.text.trim();\n",
       "            Bokeh.index[element_id].model.document.clear();\n",
       "            delete Bokeh.index[element_id];\n",
       "          }\n",
       "        }\n",
       "      });\n",
       "      // Destroy server and session\n",
       "      var cmd = \"import bokeh.io.notebook as ion; ion.destroy_server('\" + server_id + \"')\";\n",
       "      cell.notebook.kernel.execute(cmd);\n",
       "    }\n",
       "  }\n",
       "\n",
       "  /**\n",
       "   * Handle when a new output is added\n",
       "   */\n",
       "  function handleAddOutput(event, handle) {\n",
       "    var output_area = handle.output_area;\n",
       "    var output = handle.output;\n",
       "\n",
       "    // limit handleAddOutput to display_data with EXEC_MIME_TYPE content only\n",
       "    if ((output.output_type != \"display_data\") || (!output.data.hasOwnProperty(EXEC_MIME_TYPE))) {\n",
       "      return\n",
       "    }\n",
       "\n",
       "    var toinsert = output_area.element.find(\".\" + CLASS_NAME.split(' ')[0]);\n",
       "\n",
       "    if (output.metadata[EXEC_MIME_TYPE][\"id\"] !== undefined) {\n",
       "      toinsert[0].firstChild.textContent = output.data[JS_MIME_TYPE];\n",
       "      // store reference to embed id on output_area\n",
       "      output_area._bokeh_element_id = output.metadata[EXEC_MIME_TYPE][\"id\"];\n",
       "    }\n",
       "    if (output.metadata[EXEC_MIME_TYPE][\"server_id\"] !== undefined) {\n",
       "      var bk_div = document.createElement(\"div\");\n",
       "      bk_div.innerHTML = output.data[HTML_MIME_TYPE];\n",
       "      var script_attrs = bk_div.children[0].attributes;\n",
       "      for (var i = 0; i < script_attrs.length; i++) {\n",
       "        toinsert[0].firstChild.setAttribute(script_attrs[i].name, script_attrs[i].value);\n",
       "      }\n",
       "      // store reference to server id on output_area\n",
       "      output_area._bokeh_server_id = output.metadata[EXEC_MIME_TYPE][\"server_id\"];\n",
       "    }\n",
       "  }\n",
       "\n",
       "  function register_renderer(events, OutputArea) {\n",
       "\n",
       "    function append_mime(data, metadata, element) {\n",
       "      // create a DOM node to render to\n",
       "      var toinsert = this.create_output_subarea(\n",
       "        metadata,\n",
       "        CLASS_NAME,\n",
       "        EXEC_MIME_TYPE\n",
       "      );\n",
       "      this.keyboard_manager.register_events(toinsert);\n",
       "      // Render to node\n",
       "      var props = {data: data, metadata: metadata[EXEC_MIME_TYPE]};\n",
       "      render(props, toinsert[0]);\n",
       "      element.append(toinsert);\n",
       "      return toinsert\n",
       "    }\n",
       "\n",
       "    /* Handle when an output is cleared or removed */\n",
       "    events.on('clear_output.CodeCell', handleClearOutput);\n",
       "    events.on('delete.Cell', handleClearOutput);\n",
       "\n",
       "    /* Handle when a new output is added */\n",
       "    events.on('output_added.OutputArea', handleAddOutput);\n",
       "\n",
       "    /**\n",
       "     * Register the mime type and append_mime function with output_area\n",
       "     */\n",
       "    OutputArea.prototype.register_mime_type(EXEC_MIME_TYPE, append_mime, {\n",
       "      /* Is output safe? */\n",
       "      safe: true,\n",
       "      /* Index of renderer in `output_area.display_order` */\n",
       "      index: 0\n",
       "    });\n",
       "  }\n",
       "\n",
       "  // register the mime type if in Jupyter Notebook environment and previously unregistered\n",
       "  if (root.Jupyter !== undefined) {\n",
       "    var events = require('base/js/events');\n",
       "    var OutputArea = require('notebook/js/outputarea').OutputArea;\n",
       "\n",
       "    if (OutputArea.prototype.mime_types().indexOf(EXEC_MIME_TYPE) == -1) {\n",
       "      register_renderer(events, OutputArea);\n",
       "    }\n",
       "  }\n",
       "\n",
       "  \n",
       "  if (typeof (root._bokeh_timeout) === \"undefined\" || force === true) {\n",
       "    root._bokeh_timeout = Date.now() + 5000;\n",
       "    root._bokeh_failed_load = false;\n",
       "  }\n",
       "\n",
       "  var NB_LOAD_WARNING = {'data': {'text/html':\n",
       "     \"<div style='background-color: #fdd'>\\n\"+\n",
       "     \"<p>\\n\"+\n",
       "     \"BokehJS does not appear to have successfully loaded. If loading BokehJS from CDN, this \\n\"+\n",
       "     \"may be due to a slow or bad network connection. Possible fixes:\\n\"+\n",
       "     \"</p>\\n\"+\n",
       "     \"<ul>\\n\"+\n",
       "     \"<li>re-rerun `output_notebook()` to attempt to load from CDN again, or</li>\\n\"+\n",
       "     \"<li>use INLINE resources instead, as so:</li>\\n\"+\n",
       "     \"</ul>\\n\"+\n",
       "     \"<code>\\n\"+\n",
       "     \"from bokeh.resources import INLINE\\n\"+\n",
       "     \"output_notebook(resources=INLINE)\\n\"+\n",
       "     \"</code>\\n\"+\n",
       "     \"</div>\"}};\n",
       "\n",
       "  function display_loaded() {\n",
       "    var el = document.getElementById(\"9a75a455-5f4d-4362-989f-3acb384cc20a\");\n",
       "    if (el != null) {\n",
       "      el.textContent = \"BokehJS is loading...\";\n",
       "    }\n",
       "    if (root.Bokeh !== undefined) {\n",
       "      if (el != null) {\n",
       "        el.textContent = \"BokehJS \" + root.Bokeh.version + \" successfully loaded.\";\n",
       "      }\n",
       "    } else if (Date.now() < root._bokeh_timeout) {\n",
       "      setTimeout(display_loaded, 100)\n",
       "    }\n",
       "  }\n",
       "\n",
       "\n",
       "  function run_callbacks() {\n",
       "    try {\n",
       "      root._bokeh_onload_callbacks.forEach(function(callback) { callback() });\n",
       "    }\n",
       "    finally {\n",
       "      delete root._bokeh_onload_callbacks\n",
       "    }\n",
       "    console.info(\"Bokeh: all callbacks have finished\");\n",
       "  }\n",
       "\n",
       "  function load_libs(js_urls, callback) {\n",
       "    root._bokeh_onload_callbacks.push(callback);\n",
       "    if (root._bokeh_is_loading > 0) {\n",
       "      console.log(\"Bokeh: BokehJS is being loaded, scheduling callback at\", now());\n",
       "      return null;\n",
       "    }\n",
       "    if (js_urls == null || js_urls.length === 0) {\n",
       "      run_callbacks();\n",
       "      return null;\n",
       "    }\n",
       "    console.log(\"Bokeh: BokehJS not loaded, scheduling load and callback at\", now());\n",
       "    root._bokeh_is_loading = js_urls.length;\n",
       "    for (var i = 0; i < js_urls.length; i++) {\n",
       "      var url = js_urls[i];\n",
       "      var s = document.createElement('script');\n",
       "      s.src = url;\n",
       "      s.async = false;\n",
       "      s.onreadystatechange = s.onload = function() {\n",
       "        root._bokeh_is_loading--;\n",
       "        if (root._bokeh_is_loading === 0) {\n",
       "          console.log(\"Bokeh: all BokehJS libraries loaded\");\n",
       "          run_callbacks()\n",
       "        }\n",
       "      };\n",
       "      s.onerror = function() {\n",
       "        console.warn(\"failed to load library \" + url);\n",
       "      };\n",
       "      console.log(\"Bokeh: injecting script tag for BokehJS library: \", url);\n",
       "      document.getElementsByTagName(\"head\")[0].appendChild(s);\n",
       "    }\n",
       "  };var element = document.getElementById(\"9a75a455-5f4d-4362-989f-3acb384cc20a\");\n",
       "  if (element == null) {\n",
       "    console.log(\"Bokeh: ERROR: autoload.js configured with elementid '9a75a455-5f4d-4362-989f-3acb384cc20a' but no matching script tag was found. \")\n",
       "    return false;\n",
       "  }\n",
       "\n",
       "  var js_urls = [\"https://cdn.pydata.org/bokeh/release/bokeh-0.12.13.min.js\", \"https://cdn.pydata.org/bokeh/release/bokeh-widgets-0.12.13.min.js\", \"https://cdn.pydata.org/bokeh/release/bokeh-tables-0.12.13.min.js\", \"https://cdn.pydata.org/bokeh/release/bokeh-gl-0.12.13.min.js\"];\n",
       "\n",
       "  var inline_js = [\n",
       "    function(Bokeh) {\n",
       "      Bokeh.set_log_level(\"info\");\n",
       "    },\n",
       "    \n",
       "    function(Bokeh) {\n",
       "      \n",
       "    },\n",
       "    function(Bokeh) {\n",
       "      console.log(\"Bokeh: injecting CSS: https://cdn.pydata.org/bokeh/release/bokeh-0.12.13.min.css\");\n",
       "      Bokeh.embed.inject_css(\"https://cdn.pydata.org/bokeh/release/bokeh-0.12.13.min.css\");\n",
       "      console.log(\"Bokeh: injecting CSS: https://cdn.pydata.org/bokeh/release/bokeh-widgets-0.12.13.min.css\");\n",
       "      Bokeh.embed.inject_css(\"https://cdn.pydata.org/bokeh/release/bokeh-widgets-0.12.13.min.css\");\n",
       "      console.log(\"Bokeh: injecting CSS: https://cdn.pydata.org/bokeh/release/bokeh-tables-0.12.13.min.css\");\n",
       "      Bokeh.embed.inject_css(\"https://cdn.pydata.org/bokeh/release/bokeh-tables-0.12.13.min.css\");\n",
       "    }\n",
       "  ];\n",
       "\n",
       "  function run_inline_js() {\n",
       "    \n",
       "    if ((root.Bokeh !== undefined) || (force === true)) {\n",
       "      for (var i = 0; i < inline_js.length; i++) {\n",
       "        inline_js[i].call(root, root.Bokeh);\n",
       "      }if (force === true) {\n",
       "        display_loaded();\n",
       "      }} else if (Date.now() < root._bokeh_timeout) {\n",
       "      setTimeout(run_inline_js, 100);\n",
       "    } else if (!root._bokeh_failed_load) {\n",
       "      console.log(\"Bokeh: BokehJS failed to load within specified timeout.\");\n",
       "      root._bokeh_failed_load = true;\n",
       "    } else if (force !== true) {\n",
       "      var cell = $(document.getElementById(\"9a75a455-5f4d-4362-989f-3acb384cc20a\")).parents('.cell').data().cell;\n",
       "      cell.output_area.append_execute_result(NB_LOAD_WARNING)\n",
       "    }\n",
       "\n",
       "  }\n",
       "\n",
       "  if (root._bokeh_is_loading === 0) {\n",
       "    console.log(\"Bokeh: BokehJS loaded, going straight to plotting\");\n",
       "    run_inline_js();\n",
       "  } else {\n",
       "    load_libs(js_urls, function() {\n",
       "      console.log(\"Bokeh: BokehJS plotting callback run at\", now());\n",
       "      run_inline_js();\n",
       "    });\n",
       "  }\n",
       "}(window));"
      ],
      "application/vnd.bokehjs_load.v0+json": "\n(function(root) {\n  function now() {\n    return new Date();\n  }\n\n  var force = true;\n\n  if (typeof (root._bokeh_onload_callbacks) === \"undefined\" || force === true) {\n    root._bokeh_onload_callbacks = [];\n    root._bokeh_is_loading = undefined;\n  }\n\n  \n\n  \n  if (typeof (root._bokeh_timeout) === \"undefined\" || force === true) {\n    root._bokeh_timeout = Date.now() + 5000;\n    root._bokeh_failed_load = false;\n  }\n\n  var NB_LOAD_WARNING = {'data': {'text/html':\n     \"<div style='background-color: #fdd'>\\n\"+\n     \"<p>\\n\"+\n     \"BokehJS does not appear to have successfully loaded. If loading BokehJS from CDN, this \\n\"+\n     \"may be due to a slow or bad network connection. Possible fixes:\\n\"+\n     \"</p>\\n\"+\n     \"<ul>\\n\"+\n     \"<li>re-rerun `output_notebook()` to attempt to load from CDN again, or</li>\\n\"+\n     \"<li>use INLINE resources instead, as so:</li>\\n\"+\n     \"</ul>\\n\"+\n     \"<code>\\n\"+\n     \"from bokeh.resources import INLINE\\n\"+\n     \"output_notebook(resources=INLINE)\\n\"+\n     \"</code>\\n\"+\n     \"</div>\"}};\n\n  function display_loaded() {\n    var el = document.getElementById(\"9a75a455-5f4d-4362-989f-3acb384cc20a\");\n    if (el != null) {\n      el.textContent = \"BokehJS is loading...\";\n    }\n    if (root.Bokeh !== undefined) {\n      if (el != null) {\n        el.textContent = \"BokehJS \" + root.Bokeh.version + \" successfully loaded.\";\n      }\n    } else if (Date.now() < root._bokeh_timeout) {\n      setTimeout(display_loaded, 100)\n    }\n  }\n\n\n  function run_callbacks() {\n    try {\n      root._bokeh_onload_callbacks.forEach(function(callback) { callback() });\n    }\n    finally {\n      delete root._bokeh_onload_callbacks\n    }\n    console.info(\"Bokeh: all callbacks have finished\");\n  }\n\n  function load_libs(js_urls, callback) {\n    root._bokeh_onload_callbacks.push(callback);\n    if (root._bokeh_is_loading > 0) {\n      console.log(\"Bokeh: BokehJS is being loaded, scheduling callback at\", now());\n      return null;\n    }\n    if (js_urls == null || js_urls.length === 0) {\n      run_callbacks();\n      return null;\n    }\n    console.log(\"Bokeh: BokehJS not loaded, scheduling load and callback at\", now());\n    root._bokeh_is_loading = js_urls.length;\n    for (var i = 0; i < js_urls.length; i++) {\n      var url = js_urls[i];\n      var s = document.createElement('script');\n      s.src = url;\n      s.async = false;\n      s.onreadystatechange = s.onload = function() {\n        root._bokeh_is_loading--;\n        if (root._bokeh_is_loading === 0) {\n          console.log(\"Bokeh: all BokehJS libraries loaded\");\n          run_callbacks()\n        }\n      };\n      s.onerror = function() {\n        console.warn(\"failed to load library \" + url);\n      };\n      console.log(\"Bokeh: injecting script tag for BokehJS library: \", url);\n      document.getElementsByTagName(\"head\")[0].appendChild(s);\n    }\n  };var element = document.getElementById(\"9a75a455-5f4d-4362-989f-3acb384cc20a\");\n  if (element == null) {\n    console.log(\"Bokeh: ERROR: autoload.js configured with elementid '9a75a455-5f4d-4362-989f-3acb384cc20a' but no matching script tag was found. \")\n    return false;\n  }\n\n  var js_urls = [\"https://cdn.pydata.org/bokeh/release/bokeh-0.12.13.min.js\", \"https://cdn.pydata.org/bokeh/release/bokeh-widgets-0.12.13.min.js\", \"https://cdn.pydata.org/bokeh/release/bokeh-tables-0.12.13.min.js\", \"https://cdn.pydata.org/bokeh/release/bokeh-gl-0.12.13.min.js\"];\n\n  var inline_js = [\n    function(Bokeh) {\n      Bokeh.set_log_level(\"info\");\n    },\n    \n    function(Bokeh) {\n      \n    },\n    function(Bokeh) {\n      console.log(\"Bokeh: injecting CSS: https://cdn.pydata.org/bokeh/release/bokeh-0.12.13.min.css\");\n      Bokeh.embed.inject_css(\"https://cdn.pydata.org/bokeh/release/bokeh-0.12.13.min.css\");\n      console.log(\"Bokeh: injecting CSS: https://cdn.pydata.org/bokeh/release/bokeh-widgets-0.12.13.min.css\");\n      Bokeh.embed.inject_css(\"https://cdn.pydata.org/bokeh/release/bokeh-widgets-0.12.13.min.css\");\n      console.log(\"Bokeh: injecting CSS: https://cdn.pydata.org/bokeh/release/bokeh-tables-0.12.13.min.css\");\n      Bokeh.embed.inject_css(\"https://cdn.pydata.org/bokeh/release/bokeh-tables-0.12.13.min.css\");\n    }\n  ];\n\n  function run_inline_js() {\n    \n    if ((root.Bokeh !== undefined) || (force === true)) {\n      for (var i = 0; i < inline_js.length; i++) {\n        inline_js[i].call(root, root.Bokeh);\n      }if (force === true) {\n        display_loaded();\n      }} else if (Date.now() < root._bokeh_timeout) {\n      setTimeout(run_inline_js, 100);\n    } else if (!root._bokeh_failed_load) {\n      console.log(\"Bokeh: BokehJS failed to load within specified timeout.\");\n      root._bokeh_failed_load = true;\n    } else if (force !== true) {\n      var cell = $(document.getElementById(\"9a75a455-5f4d-4362-989f-3acb384cc20a\")).parents('.cell').data().cell;\n      cell.output_area.append_execute_result(NB_LOAD_WARNING)\n    }\n\n  }\n\n  if (root._bokeh_is_loading === 0) {\n    console.log(\"Bokeh: BokehJS loaded, going straight to plotting\");\n    run_inline_js();\n  } else {\n    load_libs(js_urls, function() {\n      console.log(\"Bokeh: BokehJS plotting callback run at\", now());\n      run_inline_js();\n    });\n  }\n}(window));"
     },
     "metadata": {},
     "output_type": "display_data"
    }
   ],
   "source": [
    "import numpy as np\n",
    "from scipy.stats import binom, geom\n",
    "from bokeh.plotting import Figure\n",
    "\n",
    "from bokeh.io import show,output_notebook\n",
    "from bokeh.models import HoverTool\n",
    "from bokeh.layouts import row\n",
    "\n",
    "import random\n",
    "output_notebook()"
   ]
  },
  {
   "cell_type": "code",
   "execution_count": 12,
   "metadata": {
    "scrolled": true
   },
   "outputs": [
    {
     "data": {
      "text/html": [
       "\n",
       "<div class=\"bk-root\">\n",
       "    <div class=\"bk-plotdiv\" id=\"91d36599-118d-49ca-a544-b3fe74fa1ae8\"></div>\n",
       "</div>"
      ]
     },
     "metadata": {},
     "output_type": "display_data"
    },
    {
     "data": {
      "application/javascript": [
       "(function(root) {\n",
       "  function embed_document(root) {\n",
       "    \n",
       "  var docs_json = {\"5245885f-e105-4f68-a60a-090a86f404fb\":{\"roots\":{\"references\":[{\"attributes\":{\"line_color\":{\"value\":\"dodgerblue\"},\"line_width\":{\"value\":3},\"x0\":{\"field\":\"x0\"},\"x1\":{\"field\":\"x1\"},\"y0\":{\"value\":0},\"y1\":{\"field\":\"y1\"}},\"id\":\"699db5eb-1c1d-41c2-a6d1-630711c1c6dc\",\"type\":\"Segment\"},{\"attributes\":{\"source\":{\"id\":\"c2120509-7bbb-4c18-bbf5-babf38097e59\",\"type\":\"ColumnDataSource\"}},\"id\":\"4fbba4db-8e93-4f64-b9d4-e2b61bfcc0af\",\"type\":\"CDSView\"},{\"attributes\":{\"callback\":null,\"column_names\":[\"x0\",\"x1\",\"y1\"],\"data\":{\"x0\":{\"__ndarray__\":\"AAAAAAEAAAACAAAAAwAAAAQAAAAFAAAABgAAAAcAAAAIAAAACQAAAAoAAAALAAAADAAAAA0AAAAOAAAADwAAABAAAAARAAAAEgAAABMAAAAUAAAA\",\"dtype\":\"int32\",\"shape\":[21]},\"x1\":{\"__ndarray__\":\"AAAAAAEAAAACAAAAAwAAAAQAAAAFAAAABgAAAAcAAAAIAAAACQAAAAoAAAALAAAADAAAAA0AAAAOAAAADwAAABAAAAARAAAAEgAAABMAAAAUAAAA\",\"dtype\":\"int32\",\"shape\":[21]},\"y1\":{\"__ndarray__\":\"L2BteTYrwz2bgb8bWvQbPsr9jcBDXWM+AT58SJvxoD6FVy8n0wDVPnMeG61emgM/ETdyvHSWLD/eSu1tGa1QP4uIvDWAnW8/avjn8PGWiD9TB39Kg46fPz4XLFIPvLA/vCjNzxpJvT/q9T1niQbFP2pJyE2gh8g/wohUBPzkxj8Y+dJtorHAP50lZUaeVLI/oQFI36CDnD8LIYGTkAN8P8kNAd91JUo/\",\"dtype\":\"float64\",\"shape\":[21]}}},\"id\":\"a06f38e9-a31d-452f-af38-cf0bdb0a101e\",\"type\":\"ColumnDataSource\"},{\"attributes\":{\"source\":{\"id\":\"9f828371-1b94-4b97-9704-2a6142f7a8fa\",\"type\":\"ColumnDataSource\"}},\"id\":\"05c6629b-d38f-4283-ae37-ba7943d7e783\",\"type\":\"CDSView\"},{\"attributes\":{\"fill_color\":{\"value\":\"red\"},\"line_color\":{\"value\":\"red\"},\"size\":{\"units\":\"screen\",\"value\":7},\"x\":{\"field\":\"x\"},\"y\":{\"field\":\"y\"}},\"id\":\"82382593-d29a-457c-a192-de1d555f1301\",\"type\":\"Circle\"},{\"attributes\":{\"line_alpha\":{\"value\":0.1},\"line_color\":{\"value\":\"#1f77b4\"},\"line_width\":{\"value\":3},\"x0\":{\"field\":\"x0\"},\"x1\":{\"field\":\"x1\"},\"y0\":{\"value\":0},\"y1\":{\"field\":\"y1\"}},\"id\":\"e670edc0-e3a3-486a-8ab5-8862966b71ef\",\"type\":\"Segment\"},{\"attributes\":{\"data_source\":{\"id\":\"aea14bc0-2736-4459-971e-306e4eddcbdc\",\"type\":\"ColumnDataSource\"},\"glyph\":{\"id\":\"699db5eb-1c1d-41c2-a6d1-630711c1c6dc\",\"type\":\"Segment\"},\"hover_glyph\":null,\"muted_glyph\":null,\"nonselection_glyph\":{\"id\":\"e670edc0-e3a3-486a-8ab5-8862966b71ef\",\"type\":\"Segment\"},\"selection_glyph\":null,\"view\":{\"id\":\"99eb14d5-33c8-48e2-a47a-ebaefde7dfab\",\"type\":\"CDSView\"}},\"id\":\"eafb23c9-f837-4421-abe1-f4d881affe32\",\"type\":\"GlyphRenderer\"},{\"attributes\":{\"callback\":null,\"column_names\":[\"x\",\"y\"],\"data\":{\"x\":{\"__ndarray__\":\"AAAAAAEAAAACAAAAAwAAAAQAAAAFAAAABgAAAAcAAAAIAAAACQAAAAoAAAALAAAADAAAAA0AAAAOAAAADwAAABAAAAARAAAAEgAAABMAAAAUAAAA\",\"dtype\":\"int32\",\"shape\":[21]},\"y\":{\"__ndarray__\":\"L2BteTYrwz2bgb8bWvQbPsr9jcBDXWM+AT58SJvxoD6FVy8n0wDVPnMeG61emgM/ETdyvHSWLD/eSu1tGa1QP4uIvDWAnW8/avjn8PGWiD9TB39Kg46fPz4XLFIPvLA/vCjNzxpJvT/q9T1niQbFP2pJyE2gh8g/wohUBPzkxj8Y+dJtorHAP50lZUaeVLI/oQFI36CDnD8LIYGTkAN8P8kNAd91JUo/\",\"dtype\":\"float64\",\"shape\":[21]}}},\"id\":\"9f828371-1b94-4b97-9704-2a6142f7a8fa\",\"type\":\"ColumnDataSource\"},{\"attributes\":{\"data_source\":{\"id\":\"9f828371-1b94-4b97-9704-2a6142f7a8fa\",\"type\":\"ColumnDataSource\"},\"glyph\":{\"id\":\"82382593-d29a-457c-a192-de1d555f1301\",\"type\":\"Circle\"},\"hover_glyph\":null,\"muted_glyph\":null,\"nonselection_glyph\":{\"id\":\"d7c39a75-11d2-4668-a305-c1cd4895aac0\",\"type\":\"Circle\"},\"selection_glyph\":null,\"view\":{\"id\":\"05c6629b-d38f-4283-ae37-ba7943d7e783\",\"type\":\"CDSView\"}},\"id\":\"694c7f8d-4a3c-43bd-8ead-74d2913c9029\",\"type\":\"GlyphRenderer\"},{\"attributes\":{},\"id\":\"c868733b-214b-4469-a8d8-2d40ef0d861b\",\"type\":\"BasicTickFormatter\"},{\"attributes\":{\"fill_alpha\":{\"value\":0.1},\"fill_color\":{\"value\":\"#1f77b4\"},\"line_alpha\":{\"value\":0.1},\"line_color\":{\"value\":\"#1f77b4\"},\"size\":{\"units\":\"screen\",\"value\":7},\"x\":{\"field\":\"x\"},\"y\":{\"field\":\"y\"}},\"id\":\"d7c39a75-11d2-4668-a305-c1cd4895aac0\",\"type\":\"Circle\"},{\"attributes\":{\"source\":{\"id\":\"aea14bc0-2736-4459-971e-306e4eddcbdc\",\"type\":\"ColumnDataSource\"}},\"id\":\"99eb14d5-33c8-48e2-a47a-ebaefde7dfab\",\"type\":\"CDSView\"},{\"attributes\":{},\"id\":\"66506018-82da-44ea-bffa-adfb4a68ff82\",\"type\":\"BasicTickFormatter\"},{\"attributes\":{\"fill_color\":{\"value\":\"dodgerblue\"},\"line_color\":{\"value\":\"dodgerblue\"},\"size\":{\"units\":\"screen\",\"value\":7},\"x\":{\"field\":\"x\"},\"y\":{\"field\":\"y\"}},\"id\":\"5cc3f55c-d401-455d-a6b2-ab0a113b8fa9\",\"type\":\"Circle\"},{\"attributes\":{\"fill_color\":{\"value\":\"red\"},\"line_color\":{\"value\":\"red\"},\"size\":{\"units\":\"screen\",\"value\":7},\"x\":{\"field\":\"x\"},\"y\":{\"field\":\"y\"}},\"id\":\"0c077ea5-1b5d-461b-a9dc-87643abcde42\",\"type\":\"Circle\"},{\"attributes\":{\"data_source\":{\"id\":\"c2120509-7bbb-4c18-bbf5-babf38097e59\",\"type\":\"ColumnDataSource\"},\"glyph\":{\"id\":\"61048422-f073-44dd-a0b4-2f67217d82c5\",\"type\":\"Circle\"},\"hover_glyph\":null,\"muted_glyph\":null,\"nonselection_glyph\":{\"id\":\"729ab1bd-26f7-4edf-b02b-7b9e3d8c53f1\",\"type\":\"Circle\"},\"selection_glyph\":null,\"view\":{\"id\":\"4fbba4db-8e93-4f64-b9d4-e2b61bfcc0af\",\"type\":\"CDSView\"}},\"id\":\"9a13a0b9-f1dc-49a7-bb64-5ad542b52aa0\",\"type\":\"GlyphRenderer\"},{\"attributes\":{\"label\":{\"value\":\"n=20,p=0.70\"},\"renderers\":[{\"id\":\"694c7f8d-4a3c-43bd-8ead-74d2913c9029\",\"type\":\"GlyphRenderer\"},{\"id\":\"2bd3b2aa-80bd-4eee-9bec-d29328eece39\",\"type\":\"GlyphRenderer\"}]},\"id\":\"f1f76abd-5b09-4f85-bfd3-64768fc19150\",\"type\":\"LegendItem\"},{\"attributes\":{\"line_alpha\":{\"value\":0.1},\"line_color\":{\"value\":\"#1f77b4\"},\"line_width\":{\"value\":3},\"x0\":{\"field\":\"x0\"},\"x1\":{\"field\":\"x1\"},\"y0\":{\"value\":0},\"y1\":{\"field\":\"y1\"}},\"id\":\"24936823-d0bc-45c3-999f-8938460d8747\",\"type\":\"Segment\"},{\"attributes\":{\"fill_alpha\":{\"value\":0.1},\"fill_color\":{\"value\":\"#1f77b4\"},\"line_alpha\":{\"value\":0.1},\"line_color\":{\"value\":\"#1f77b4\"},\"size\":{\"units\":\"screen\",\"value\":7},\"x\":{\"field\":\"x\"},\"y\":{\"field\":\"y\"}},\"id\":\"693db125-4e28-4ba8-a3ac-da22cb3d9499\",\"type\":\"Circle\"},{\"attributes\":{\"line_color\":{\"value\":\"red\"},\"line_width\":{\"value\":3},\"x0\":{\"field\":\"x0\"},\"x1\":{\"field\":\"x1\"},\"y0\":{\"value\":0},\"y1\":{\"field\":\"y1\"}},\"id\":\"b500e3ac-8be2-4c0f-9bd8-f438386d55fe\",\"type\":\"Segment\"},{\"attributes\":{\"callback\":null,\"column_names\":[\"x\",\"y\"],\"data\":{\"x\":{\"__ndarray__\":\"AAAAAAEAAAACAAAAAwAAAAQAAAAFAAAABgAAAAcAAAAIAAAACQAAAAoAAAALAAAADAAAAA0AAAAOAAAADwAAABAAAAARAAAAEgAAABMAAAAUAAAA\",\"dtype\":\"int32\",\"shape\":[21]},\"y\":{\"__ndarray__\":\"AAAAAAAAsD7////////0PgIAAAAAYCo///////8bVT///////zN4PwAAAAAAMZU//f///3+FrT//////39fAPwEAAAA4HNA/+////5dc2j8CAAAAtNHiPwAAAADk8ec/AAAAAAjK6z8AAAAAqCfuPwAAAAB4Vu8/AAAAAJjP7z8AAAAAcvXvPwAAAABa/u8/AAAAANb/7z8AAAAA/v/vPwAAAAAAAPA/\",\"dtype\":\"float64\",\"shape\":[21]}}},\"id\":\"966e2299-4fc3-4cc1-8dc3-5a638158b09e\",\"type\":\"ColumnDataSource\"},{\"attributes\":{\"data_source\":{\"id\":\"a06f38e9-a31d-452f-af38-cf0bdb0a101e\",\"type\":\"ColumnDataSource\"},\"glyph\":{\"id\":\"b500e3ac-8be2-4c0f-9bd8-f438386d55fe\",\"type\":\"Segment\"},\"hover_glyph\":null,\"muted_glyph\":null,\"nonselection_glyph\":{\"id\":\"24936823-d0bc-45c3-999f-8938460d8747\",\"type\":\"Segment\"},\"selection_glyph\":null,\"view\":{\"id\":\"a3245317-29aa-4e06-8785-61f2498b02cb\",\"type\":\"CDSView\"}},\"id\":\"2bd3b2aa-80bd-4eee-9bec-d29328eece39\",\"type\":\"GlyphRenderer\"},{\"attributes\":{\"source\":{\"id\":\"966e2299-4fc3-4cc1-8dc3-5a638158b09e\",\"type\":\"ColumnDataSource\"}},\"id\":\"704d00e0-1f2a-4fef-8f3e-47cf1404056a\",\"type\":\"CDSView\"},{\"attributes\":{\"source\":{\"id\":\"a06f38e9-a31d-452f-af38-cf0bdb0a101e\",\"type\":\"ColumnDataSource\"}},\"id\":\"a3245317-29aa-4e06-8785-61f2498b02cb\",\"type\":\"CDSView\"},{\"attributes\":{},\"id\":\"cf4706b4-89c4-4013-b5cb-7cedf409720b\",\"type\":\"BasicTickFormatter\"},{\"attributes\":{\"data_source\":{\"id\":\"966e2299-4fc3-4cc1-8dc3-5a638158b09e\",\"type\":\"ColumnDataSource\"},\"glyph\":{\"id\":\"5cc3f55c-d401-455d-a6b2-ab0a113b8fa9\",\"type\":\"Circle\"},\"hover_glyph\":null,\"muted_glyph\":null,\"nonselection_glyph\":{\"id\":\"693db125-4e28-4ba8-a3ac-da22cb3d9499\",\"type\":\"Circle\"},\"selection_glyph\":null,\"view\":{\"id\":\"704d00e0-1f2a-4fef-8f3e-47cf1404056a\",\"type\":\"CDSView\"}},\"id\":\"0dd6e0df-41bd-40ef-b6c5-4fa38a2e6b4a\",\"type\":\"GlyphRenderer\"},{\"attributes\":{},\"id\":\"ad516cf0-47ec-49b4-b828-5c7a3e709026\",\"type\":\"BasicTickFormatter\"},{\"attributes\":{\"plot\":null,\"text\":\"\"},\"id\":\"68e2330e-16b0-4d95-9abc-6ab53f8e30d6\",\"type\":\"Title\"},{\"attributes\":{\"click_policy\":\"hide\",\"items\":[{\"id\":\"8e029de8-4024-4916-8a1e-0b138288c3f4\",\"type\":\"LegendItem\"},{\"id\":\"f1f76abd-5b09-4f85-bfd3-64768fc19150\",\"type\":\"LegendItem\"}],\"location\":\"top_left\",\"plot\":{\"id\":\"6961d88a-a14e-406b-bb63-3723f6bcc10a\",\"subtype\":\"Figure\",\"type\":\"Plot\"}},\"id\":\"f60ef16a-32db-4bb5-8eda-168eabd863a5\",\"type\":\"Legend\"},{\"attributes\":{\"callback\":null,\"column_names\":[\"x\",\"y\"],\"data\":{\"x\":{\"__ndarray__\":\"AAAAAAEAAAACAAAAAwAAAAQAAAAFAAAABgAAAAcAAAAIAAAACQAAAAoAAAALAAAADAAAAA0AAAAOAAAADwAAABAAAAARAAAAEgAAABMAAAAUAAAA\",\"dtype\":\"int32\",\"shape\":[21]},\"y\":{\"__ndarray__\":\"NWBteTYrwz2i7IrPs40cPi5VCl+xQWQ+YeNsXrY1oj4B9PzyiUfXPgu9eutPgwY/QnOoW6QbMT+sZ9eEAvRUPzgeFLzAC3U/ygN5J2mOkT+XBfw4do6oPxMaqm5KA70/a6E7nzImzT+uyzwDXhbZPzR4EBUXreI/bpolFlZm6D+6WJqxvpLsP239ZnpS3e4/ej1hgW/B7z+9P4iidvnvPwAAAAAAAPA/\",\"dtype\":\"float64\",\"shape\":[21]}}},\"id\":\"d57fb70d-f152-4d86-b990-5dd342dd66db\",\"type\":\"ColumnDataSource\"},{\"attributes\":{\"below\":[{\"id\":\"829910b4-8d41-40a9-9578-8a47579b3f7f\",\"type\":\"LinearAxis\"}],\"left\":[{\"id\":\"2f41ed86-fd6f-4973-9f72-351d1c7fb4e3\",\"type\":\"LinearAxis\"}],\"plot_height\":300,\"plot_width\":400,\"renderers\":[{\"id\":\"829910b4-8d41-40a9-9578-8a47579b3f7f\",\"type\":\"LinearAxis\"},{\"id\":\"a5e0bbcb-70b6-4315-8334-1b8f40c1f46e\",\"type\":\"Grid\"},{\"id\":\"2f41ed86-fd6f-4973-9f72-351d1c7fb4e3\",\"type\":\"LinearAxis\"},{\"id\":\"ca2f05cc-ef4a-4f61-83ea-15827751ea1e\",\"type\":\"Grid\"},{\"id\":\"f60ef16a-32db-4bb5-8eda-168eabd863a5\",\"type\":\"Legend\"},{\"id\":\"9a13a0b9-f1dc-49a7-bb64-5ad542b52aa0\",\"type\":\"GlyphRenderer\"},{\"id\":\"eafb23c9-f837-4421-abe1-f4d881affe32\",\"type\":\"GlyphRenderer\"},{\"id\":\"694c7f8d-4a3c-43bd-8ead-74d2913c9029\",\"type\":\"GlyphRenderer\"},{\"id\":\"2bd3b2aa-80bd-4eee-9bec-d29328eece39\",\"type\":\"GlyphRenderer\"}],\"title\":{\"id\":\"96e58753-50fa-4d4a-b8c3-7f51932cef34\",\"type\":\"Title\"},\"toolbar\":{\"id\":\"5aca1f3e-7f7c-47e0-8793-6b32b2f80206\",\"type\":\"Toolbar\"},\"x_range\":{\"id\":\"a491c932-c619-4166-95d8-ad42f7522444\",\"type\":\"DataRange1d\"},\"x_scale\":{\"id\":\"4b7a1086-7689-4bde-b685-7a6bd6cf25bc\",\"type\":\"LinearScale\"},\"y_range\":{\"id\":\"42111704-03c5-4a66-99ea-55d854423c4e\",\"type\":\"DataRange1d\"},\"y_scale\":{\"id\":\"12d2d74a-f185-4a8d-8878-16c40b7c7273\",\"type\":\"LinearScale\"}},\"id\":\"6961d88a-a14e-406b-bb63-3723f6bcc10a\",\"subtype\":\"Figure\",\"type\":\"Plot\"},{\"attributes\":{\"data_source\":{\"id\":\"d57fb70d-f152-4d86-b990-5dd342dd66db\",\"type\":\"ColumnDataSource\"},\"glyph\":{\"id\":\"0c077ea5-1b5d-461b-a9dc-87643abcde42\",\"type\":\"Circle\"},\"hover_glyph\":null,\"muted_glyph\":null,\"nonselection_glyph\":{\"id\":\"871b242a-aa7e-4f47-a644-dfb9d2515a53\",\"type\":\"Circle\"},\"selection_glyph\":null,\"view\":{\"id\":\"8cc3a176-1a0e-41d1-8907-9d5561287e02\",\"type\":\"CDSView\"}},\"id\":\"940ae3f6-0754-486a-99be-24394a560735\",\"type\":\"GlyphRenderer\"},{\"attributes\":{\"fill_color\":{\"value\":\"dodgerblue\"},\"line_color\":{\"value\":\"dodgerblue\"},\"size\":{\"units\":\"screen\",\"value\":7},\"x\":{\"field\":\"x\"},\"y\":{\"field\":\"y\"}},\"id\":\"61048422-f073-44dd-a0b4-2f67217d82c5\",\"type\":\"Circle\"},{\"attributes\":{\"source\":{\"id\":\"d57fb70d-f152-4d86-b990-5dd342dd66db\",\"type\":\"ColumnDataSource\"}},\"id\":\"8cc3a176-1a0e-41d1-8907-9d5561287e02\",\"type\":\"CDSView\"},{\"attributes\":{\"fill_alpha\":{\"value\":0.1},\"fill_color\":{\"value\":\"#1f77b4\"},\"line_alpha\":{\"value\":0.1},\"line_color\":{\"value\":\"#1f77b4\"},\"size\":{\"units\":\"screen\",\"value\":7},\"x\":{\"field\":\"x\"},\"y\":{\"field\":\"y\"}},\"id\":\"871b242a-aa7e-4f47-a644-dfb9d2515a53\",\"type\":\"Circle\"},{\"attributes\":{\"callback\":null,\"tooltips\":[[\"\",\"$y\"]]},\"id\":\"8404c61c-648d-471d-8916-947c79d86e4e\",\"type\":\"HoverTool\"},{\"attributes\":{\"children\":[{\"id\":\"6961d88a-a14e-406b-bb63-3723f6bcc10a\",\"subtype\":\"Figure\",\"type\":\"Plot\"},{\"id\":\"457d7ec3-c3a9-48f0-b279-aa967ceb8379\",\"subtype\":\"Figure\",\"type\":\"Plot\"}]},\"id\":\"3311280c-04e1-427f-9041-600aaf096fa8\",\"type\":\"Row\"},{\"attributes\":{\"callback\":null},\"id\":\"a491c932-c619-4166-95d8-ad42f7522444\",\"type\":\"DataRange1d\"},{\"attributes\":{\"plot\":null,\"text\":\"Binomial Distribution\"},\"id\":\"96e58753-50fa-4d4a-b8c3-7f51932cef34\",\"type\":\"Title\"},{\"attributes\":{\"active_drag\":\"auto\",\"active_inspect\":\"auto\",\"active_scroll\":\"auto\",\"active_tap\":\"auto\",\"tools\":[{\"id\":\"c6438aec-b2e5-4261-8c92-fc092ad3aaac\",\"type\":\"PanTool\"},{\"id\":\"06fdb37e-e9f2-4b05-b16b-8b96364e2a90\",\"type\":\"WheelZoomTool\"},{\"id\":\"eb7a6227-d9f7-440e-a155-bbd740b23b6a\",\"type\":\"ResetTool\"},{\"id\":\"8163239d-5b9a-4ef2-8f8c-0b4cf7c70a81\",\"type\":\"SaveTool\"}]},\"id\":\"5aca1f3e-7f7c-47e0-8793-6b32b2f80206\",\"type\":\"Toolbar\"},{\"attributes\":{\"label\":{\"value\":\"n=20,p=0.50\"},\"renderers\":[{\"id\":\"9a13a0b9-f1dc-49a7-bb64-5ad542b52aa0\",\"type\":\"GlyphRenderer\"},{\"id\":\"eafb23c9-f837-4421-abe1-f4d881affe32\",\"type\":\"GlyphRenderer\"}]},\"id\":\"8e029de8-4024-4916-8a1e-0b138288c3f4\",\"type\":\"LegendItem\"},{\"attributes\":{},\"id\":\"4b7a1086-7689-4bde-b685-7a6bd6cf25bc\",\"type\":\"LinearScale\"},{\"attributes\":{\"callback\":null},\"id\":\"42111704-03c5-4a66-99ea-55d854423c4e\",\"type\":\"DataRange1d\"},{\"attributes\":{},\"id\":\"12d2d74a-f185-4a8d-8878-16c40b7c7273\",\"type\":\"LinearScale\"},{\"attributes\":{\"below\":[{\"id\":\"cac407a5-cb9e-442a-b7e9-751e72431799\",\"type\":\"LinearAxis\"}],\"left\":[{\"id\":\"fef777fa-7f2b-4e9d-aaac-308c97f447ea\",\"type\":\"LinearAxis\"}],\"plot_height\":300,\"plot_width\":400,\"renderers\":[{\"id\":\"cac407a5-cb9e-442a-b7e9-751e72431799\",\"type\":\"LinearAxis\"},{\"id\":\"16ee3ae7-07da-48e5-a255-ecd4216a4996\",\"type\":\"Grid\"},{\"id\":\"fef777fa-7f2b-4e9d-aaac-308c97f447ea\",\"type\":\"LinearAxis\"},{\"id\":\"c6ffcf23-be59-43ff-a1a4-98e0b71e5090\",\"type\":\"Grid\"},{\"id\":\"0dd6e0df-41bd-40ef-b6c5-4fa38a2e6b4a\",\"type\":\"GlyphRenderer\"},{\"id\":\"940ae3f6-0754-486a-99be-24394a560735\",\"type\":\"GlyphRenderer\"}],\"title\":{\"id\":\"68e2330e-16b0-4d95-9abc-6ab53f8e30d6\",\"type\":\"Title\"},\"toolbar\":{\"id\":\"4a294426-dacd-48e9-b36d-9cb6cae6abde\",\"type\":\"Toolbar\"},\"x_range\":{\"id\":\"a491c932-c619-4166-95d8-ad42f7522444\",\"type\":\"DataRange1d\"},\"x_scale\":{\"id\":\"cf8971fb-04cf-447c-9b4c-478e8a0e0455\",\"type\":\"LinearScale\"},\"y_range\":{\"id\":\"8e60dd88-21ab-4f9c-b842-250eaa3102fc\",\"type\":\"Range1d\"},\"y_scale\":{\"id\":\"90a9481c-a621-4fe7-9f5b-fc96d9a80083\",\"type\":\"LinearScale\"}},\"id\":\"457d7ec3-c3a9-48f0-b279-aa967ceb8379\",\"subtype\":\"Figure\",\"type\":\"Plot\"},{\"attributes\":{\"axis_label\":\"k\",\"formatter\":{\"id\":\"66506018-82da-44ea-bffa-adfb4a68ff82\",\"type\":\"BasicTickFormatter\"},\"plot\":{\"id\":\"6961d88a-a14e-406b-bb63-3723f6bcc10a\",\"subtype\":\"Figure\",\"type\":\"Plot\"},\"ticker\":{\"id\":\"1cd30fe0-f286-4545-bffc-71db4dad88c3\",\"type\":\"BasicTicker\"}},\"id\":\"829910b4-8d41-40a9-9578-8a47579b3f7f\",\"type\":\"LinearAxis\"},{\"attributes\":{},\"id\":\"1cd30fe0-f286-4545-bffc-71db4dad88c3\",\"type\":\"BasicTicker\"},{\"attributes\":{\"plot\":{\"id\":\"6961d88a-a14e-406b-bb63-3723f6bcc10a\",\"subtype\":\"Figure\",\"type\":\"Plot\"},\"ticker\":{\"id\":\"1cd30fe0-f286-4545-bffc-71db4dad88c3\",\"type\":\"BasicTicker\"}},\"id\":\"a5e0bbcb-70b6-4315-8334-1b8f40c1f46e\",\"type\":\"Grid\"},{\"attributes\":{\"axis_label\":\"f(k,n,p)\",\"formatter\":{\"id\":\"c868733b-214b-4469-a8d8-2d40ef0d861b\",\"type\":\"BasicTickFormatter\"},\"plot\":{\"id\":\"6961d88a-a14e-406b-bb63-3723f6bcc10a\",\"subtype\":\"Figure\",\"type\":\"Plot\"},\"ticker\":{\"id\":\"9d337a12-6809-4a23-8a5c-e0b32b311e1f\",\"type\":\"BasicTicker\"}},\"id\":\"2f41ed86-fd6f-4973-9f72-351d1c7fb4e3\",\"type\":\"LinearAxis\"},{\"attributes\":{},\"id\":\"9d337a12-6809-4a23-8a5c-e0b32b311e1f\",\"type\":\"BasicTicker\"},{\"attributes\":{\"dimension\":1,\"plot\":{\"id\":\"6961d88a-a14e-406b-bb63-3723f6bcc10a\",\"subtype\":\"Figure\",\"type\":\"Plot\"},\"ticker\":{\"id\":\"9d337a12-6809-4a23-8a5c-e0b32b311e1f\",\"type\":\"BasicTicker\"}},\"id\":\"ca2f05cc-ef4a-4f61-83ea-15827751ea1e\",\"type\":\"Grid\"},{\"attributes\":{},\"id\":\"c6438aec-b2e5-4261-8c92-fc092ad3aaac\",\"type\":\"PanTool\"},{\"attributes\":{\"active_drag\":\"auto\",\"active_inspect\":\"auto\",\"active_scroll\":\"auto\",\"active_tap\":\"auto\",\"tools\":[{\"id\":\"8404c61c-648d-471d-8916-947c79d86e4e\",\"type\":\"HoverTool\"},{\"id\":\"050fcf00-4fea-415f-8626-9a070a5c742e\",\"type\":\"PanTool\"},{\"id\":\"ce47f74e-ac56-4048-b828-73f764015daa\",\"type\":\"WheelZoomTool\"},{\"id\":\"c4ce1106-ea0d-4632-a602-c9733dd30d40\",\"type\":\"ResetTool\"},{\"id\":\"9c81f786-04b5-4053-a1ab-10aedcf2a7ad\",\"type\":\"SaveTool\"}]},\"id\":\"4a294426-dacd-48e9-b36d-9cb6cae6abde\",\"type\":\"Toolbar\"},{\"attributes\":{\"callback\":null,\"end\":1.05,\"start\":-0.05},\"id\":\"8e60dd88-21ab-4f9c-b842-250eaa3102fc\",\"type\":\"Range1d\"},{\"attributes\":{},\"id\":\"cf8971fb-04cf-447c-9b4c-478e8a0e0455\",\"type\":\"LinearScale\"},{\"attributes\":{},\"id\":\"06fdb37e-e9f2-4b05-b16b-8b96364e2a90\",\"type\":\"WheelZoomTool\"},{\"attributes\":{},\"id\":\"eb7a6227-d9f7-440e-a155-bbd740b23b6a\",\"type\":\"ResetTool\"},{\"attributes\":{\"fill_alpha\":{\"value\":0.1},\"fill_color\":{\"value\":\"#1f77b4\"},\"line_alpha\":{\"value\":0.1},\"line_color\":{\"value\":\"#1f77b4\"},\"size\":{\"units\":\"screen\",\"value\":7},\"x\":{\"field\":\"x\"},\"y\":{\"field\":\"y\"}},\"id\":\"729ab1bd-26f7-4edf-b02b-7b9e3d8c53f1\",\"type\":\"Circle\"},{\"attributes\":{},\"id\":\"8163239d-5b9a-4ef2-8f8c-0b4cf7c70a81\",\"type\":\"SaveTool\"},{\"attributes\":{\"callback\":null,\"column_names\":[\"x0\",\"x1\",\"y1\"],\"data\":{\"x0\":{\"__ndarray__\":\"AAAAAAEAAAACAAAAAwAAAAQAAAAFAAAABgAAAAcAAAAIAAAACQAAAAoAAAALAAAADAAAAA0AAAAOAAAADwAAABAAAAARAAAAEgAAABMAAAAUAAAA\",\"dtype\":\"int32\",\"shape\":[21]},\"x1\":{\"__ndarray__\":\"AAAAAAEAAAACAAAAAwAAAAQAAAAFAAAABgAAAAcAAAAIAAAACQAAAAoAAAALAAAADAAAAA0AAAAOAAAADwAAABAAAAARAAAAEgAAABMAAAAUAAAA\",\"dtype\":\"int32\",\"shape\":[21]},\"y1\":{\"__ndarray__\":\"AAAAAAAAsD79///////zPvr/////vyc/+f/////PUT/0/////+xyP9f/////R44/8P/////soj8NAAAAAO2yPwAAAAAgwb4/9f///7+AxD/5////n43GP/X///+/gMQ/AAAAACDBvj8NAAAAAO2yP/D/////7KI/1/////9Hjj/0/////+xyP/n/////z1E/+v////+/Jz/9///////zPgAAAAAAALA+\",\"dtype\":\"float64\",\"shape\":[21]}}},\"id\":\"aea14bc0-2736-4459-971e-306e4eddcbdc\",\"type\":\"ColumnDataSource\"},{\"attributes\":{},\"id\":\"90a9481c-a621-4fe7-9f5b-fc96d9a80083\",\"type\":\"LinearScale\"},{\"attributes\":{\"callback\":null,\"column_names\":[\"x\",\"y\"],\"data\":{\"x\":{\"__ndarray__\":\"AAAAAAEAAAACAAAAAwAAAAQAAAAFAAAABgAAAAcAAAAIAAAACQAAAAoAAAALAAAADAAAAA0AAAAOAAAADwAAABAAAAARAAAAEgAAABMAAAAUAAAA\",\"dtype\":\"int32\",\"shape\":[21]},\"y\":{\"__ndarray__\":\"AAAAAAAAsD79///////zPvr/////vyc/+f/////PUT/0/////+xyP9f/////R44/8P/////soj8NAAAAAO2yPwAAAAAgwb4/9f///7+AxD/5////n43GP/X///+/gMQ/AAAAACDBvj8NAAAAAO2yP/D/////7KI/1/////9Hjj/0/////+xyP/n/////z1E/+v////+/Jz/9///////zPgAAAAAAALA+\",\"dtype\":\"float64\",\"shape\":[21]}}},\"id\":\"c2120509-7bbb-4c18-bbf5-babf38097e59\",\"type\":\"ColumnDataSource\"},{\"attributes\":{\"plot\":{\"id\":\"457d7ec3-c3a9-48f0-b279-aa967ceb8379\",\"subtype\":\"Figure\",\"type\":\"Plot\"},\"ticker\":{\"id\":\"84c32499-5254-4f7f-8554-7ce339ae8452\",\"type\":\"BasicTicker\"}},\"id\":\"16ee3ae7-07da-48e5-a255-ecd4216a4996\",\"type\":\"Grid\"},{\"attributes\":{\"axis_label\":\"k\",\"formatter\":{\"id\":\"cf4706b4-89c4-4013-b5cb-7cedf409720b\",\"type\":\"BasicTickFormatter\"},\"plot\":{\"id\":\"457d7ec3-c3a9-48f0-b279-aa967ceb8379\",\"subtype\":\"Figure\",\"type\":\"Plot\"},\"ticker\":{\"id\":\"84c32499-5254-4f7f-8554-7ce339ae8452\",\"type\":\"BasicTicker\"}},\"id\":\"cac407a5-cb9e-442a-b7e9-751e72431799\",\"type\":\"LinearAxis\"},{\"attributes\":{},\"id\":\"84c32499-5254-4f7f-8554-7ce339ae8452\",\"type\":\"BasicTicker\"},{\"attributes\":{\"axis_label\":\"F(k,n,p)\",\"formatter\":{\"id\":\"ad516cf0-47ec-49b4-b828-5c7a3e709026\",\"type\":\"BasicTickFormatter\"},\"plot\":{\"id\":\"457d7ec3-c3a9-48f0-b279-aa967ceb8379\",\"subtype\":\"Figure\",\"type\":\"Plot\"},\"ticker\":{\"id\":\"0e7fefac-4c71-4e36-8656-1481b64d4e99\",\"type\":\"BasicTicker\"}},\"id\":\"fef777fa-7f2b-4e9d-aaac-308c97f447ea\",\"type\":\"LinearAxis\"},{\"attributes\":{},\"id\":\"0e7fefac-4c71-4e36-8656-1481b64d4e99\",\"type\":\"BasicTicker\"},{\"attributes\":{\"dimension\":1,\"plot\":{\"id\":\"457d7ec3-c3a9-48f0-b279-aa967ceb8379\",\"subtype\":\"Figure\",\"type\":\"Plot\"},\"ticker\":{\"id\":\"0e7fefac-4c71-4e36-8656-1481b64d4e99\",\"type\":\"BasicTicker\"}},\"id\":\"c6ffcf23-be59-43ff-a1a4-98e0b71e5090\",\"type\":\"Grid\"},{\"attributes\":{},\"id\":\"050fcf00-4fea-415f-8626-9a070a5c742e\",\"type\":\"PanTool\"},{\"attributes\":{},\"id\":\"ce47f74e-ac56-4048-b828-73f764015daa\",\"type\":\"WheelZoomTool\"},{\"attributes\":{},\"id\":\"c4ce1106-ea0d-4632-a602-c9733dd30d40\",\"type\":\"ResetTool\"},{\"attributes\":{},\"id\":\"9c81f786-04b5-4053-a1ab-10aedcf2a7ad\",\"type\":\"SaveTool\"}],\"root_ids\":[\"3311280c-04e1-427f-9041-600aaf096fa8\"]},\"title\":\"Bokeh Application\",\"version\":\"0.12.13\"}};\n",
       "  var render_items = [{\"docid\":\"5245885f-e105-4f68-a60a-090a86f404fb\",\"elementid\":\"91d36599-118d-49ca-a544-b3fe74fa1ae8\",\"modelid\":\"3311280c-04e1-427f-9041-600aaf096fa8\"}];\n",
       "  root.Bokeh.embed.embed_items_notebook(docs_json, render_items);\n",
       "\n",
       "  }\n",
       "  if (root.Bokeh !== undefined) {\n",
       "    embed_document(root);\n",
       "  } else {\n",
       "    var attempts = 0;\n",
       "    var timer = setInterval(function(root) {\n",
       "      if (root.Bokeh !== undefined) {\n",
       "        embed_document(root);\n",
       "        clearInterval(timer);\n",
       "      }\n",
       "      attempts++;\n",
       "      if (attempts > 100) {\n",
       "        console.log(\"Bokeh: ERROR: Unable to run BokehJS code because BokehJS library is missing\")\n",
       "        clearInterval(timer);\n",
       "      }\n",
       "    }, 10, root)\n",
       "  }\n",
       "})(window);"
      ],
      "application/vnd.bokehjs_exec.v0+json": ""
     },
     "metadata": {
      "application/vnd.bokehjs_exec.v0+json": {
       "id": "3311280c-04e1-427f-9041-600aaf096fa8"
      }
     },
     "output_type": "display_data"
    }
   ],
   "source": [
    "k = np.arange(21)\n",
    "n = 20\n",
    "p1 = 0.50\n",
    "p2 = 0.70\n",
    "\n",
    "# Tools for plots\n",
    "tools='pan,wheel_zoom,reset,save'\n",
    "\n",
    "# Set up plots\n",
    "fig_1 = Figure(width=400, height=300, tools=tools, title=\"Binomial Distribution\")\n",
    "fig_2 = Figure(width=400, height=300, tools=[tools,HoverTool(tooltips=[\n",
    "                (\"\", \"$y\")\n",
    "                ])], \n",
    "               y_range=[-0.05, 1.05])\n",
    "\n",
    "fig_1.xaxis.axis_label = 'k'\n",
    "fig_1.yaxis.axis_label = 'f(k,n,p)' \n",
    "\n",
    "fig_2.xaxis.axis_label = 'k'\n",
    "fig_2.yaxis.axis_label = 'F(k,n,p)'\n",
    "\n",
    "# Figure #1\n",
    "y1 = binom.pmf(k,n,p1)\n",
    "fig_1.circle(k, y1, size=7, color='dodgerblue',legend=\"n=20,p=0.50\")\n",
    "fig_1.segment(x0=k, x1=k, y0=0, y1=y1, line_width=3, \n",
    "              color='dodgerblue', legend=\"n=20,p=0.50\")\n",
    "\n",
    "y2 = binom.pmf(k,n,p2)\n",
    "fig_1.circle(k, y2, size=7, color='red',legend=\"n=20,p=0.70\")\n",
    "fig_1.segment(x0=k, x1=k, y0=0, y1=y2, line_width=3, \n",
    "              color='red', legend=\"n=20,p=0.70\")\n",
    "\n",
    "fig_1.legend.location = \"top_left\"\n",
    "fig_1.legend.click_policy=\"hide\"\n",
    "\n",
    "#Figure #2\n",
    "y3 = binom.cdf(k,n,p1)\n",
    "fig_2.circle(k, y3, size=7, color='dodgerblue')\n",
    "\n",
    "y4 = binom.cdf(k,n,p2)\n",
    "fig_2.circle(k, y4, size=7, color='red')\n",
    "\n",
    "# Link the x-axes\n",
    "fig_1.x_range = fig_2.x_range\n",
    "\n",
    "\n",
    "show(row([fig_1, fig_2]))"
   ]
  },
  {
   "cell_type": "markdown",
   "metadata": {},
   "source": [
    "In this example, we'll construct probability distributions. But first, let's look at the dataset we'll be using.\n",
    "\n",
    "In many countries, there are bikesharing programs where anyone can rent a bike from a depot, and return it at other depots throughout a city. There is one such program in Washington, D.C., in the US. We'll be looking at the number of bikes that were rented by day. Here are the relevant columns:\n",
    "\n",
    "- <span style=\"background-color: #F9EBEA; color:##C0392B\">dteday</span> the date that we're looking at.\n",
    "- <span style=\"background-color: #F9EBEA; color:##C0392B\">cnt</span> the total number of bikes rented.\n",
    "\n",
    "This data was collected by <span style=\"background-color: #F9EBEA; color:##C0392B\">Hadi Fanaee-T</span> at the <span style=\"background-color: #F9EBEA; color:##C0392B\">University of Porto</span>, and can be downloaded [here](http://archive.ics.uci.edu/ml/datasets/Bike+Sharing+Dataset)."
   ]
  },
  {
   "cell_type": "code",
   "execution_count": 13,
   "metadata": {
    "scrolled": true
   },
   "outputs": [
    {
     "data": {
      "text/html": [
       "<div>\n",
       "<style scoped>\n",
       "    .dataframe tbody tr th:only-of-type {\n",
       "        vertical-align: middle;\n",
       "    }\n",
       "\n",
       "    .dataframe tbody tr th {\n",
       "        vertical-align: top;\n",
       "    }\n",
       "\n",
       "    .dataframe thead th {\n",
       "        text-align: right;\n",
       "    }\n",
       "</style>\n",
       "<table border=\"1\" class=\"dataframe\">\n",
       "  <thead>\n",
       "    <tr style=\"text-align: right;\">\n",
       "      <th></th>\n",
       "      <th>instant</th>\n",
       "      <th>dteday</th>\n",
       "      <th>season</th>\n",
       "      <th>yr</th>\n",
       "      <th>mnth</th>\n",
       "      <th>holiday</th>\n",
       "      <th>weekday</th>\n",
       "      <th>workingday</th>\n",
       "      <th>weathersit</th>\n",
       "      <th>temp</th>\n",
       "      <th>atemp</th>\n",
       "      <th>hum</th>\n",
       "      <th>windspeed</th>\n",
       "      <th>casual</th>\n",
       "      <th>registered</th>\n",
       "      <th>cnt</th>\n",
       "    </tr>\n",
       "  </thead>\n",
       "  <tbody>\n",
       "    <tr>\n",
       "      <th>0</th>\n",
       "      <td>1</td>\n",
       "      <td>2011-01-01</td>\n",
       "      <td>1</td>\n",
       "      <td>0</td>\n",
       "      <td>1</td>\n",
       "      <td>0</td>\n",
       "      <td>6</td>\n",
       "      <td>0</td>\n",
       "      <td>2</td>\n",
       "      <td>0.344167</td>\n",
       "      <td>0.363625</td>\n",
       "      <td>0.805833</td>\n",
       "      <td>0.160446</td>\n",
       "      <td>331</td>\n",
       "      <td>654</td>\n",
       "      <td>985</td>\n",
       "    </tr>\n",
       "    <tr>\n",
       "      <th>1</th>\n",
       "      <td>2</td>\n",
       "      <td>2011-01-02</td>\n",
       "      <td>1</td>\n",
       "      <td>0</td>\n",
       "      <td>1</td>\n",
       "      <td>0</td>\n",
       "      <td>0</td>\n",
       "      <td>0</td>\n",
       "      <td>2</td>\n",
       "      <td>0.363478</td>\n",
       "      <td>0.353739</td>\n",
       "      <td>0.696087</td>\n",
       "      <td>0.248539</td>\n",
       "      <td>131</td>\n",
       "      <td>670</td>\n",
       "      <td>801</td>\n",
       "    </tr>\n",
       "    <tr>\n",
       "      <th>2</th>\n",
       "      <td>3</td>\n",
       "      <td>2011-01-03</td>\n",
       "      <td>1</td>\n",
       "      <td>0</td>\n",
       "      <td>1</td>\n",
       "      <td>0</td>\n",
       "      <td>1</td>\n",
       "      <td>1</td>\n",
       "      <td>1</td>\n",
       "      <td>0.196364</td>\n",
       "      <td>0.189405</td>\n",
       "      <td>0.437273</td>\n",
       "      <td>0.248309</td>\n",
       "      <td>120</td>\n",
       "      <td>1229</td>\n",
       "      <td>1349</td>\n",
       "    </tr>\n",
       "    <tr>\n",
       "      <th>3</th>\n",
       "      <td>4</td>\n",
       "      <td>2011-01-04</td>\n",
       "      <td>1</td>\n",
       "      <td>0</td>\n",
       "      <td>1</td>\n",
       "      <td>0</td>\n",
       "      <td>2</td>\n",
       "      <td>1</td>\n",
       "      <td>1</td>\n",
       "      <td>0.200000</td>\n",
       "      <td>0.212122</td>\n",
       "      <td>0.590435</td>\n",
       "      <td>0.160296</td>\n",
       "      <td>108</td>\n",
       "      <td>1454</td>\n",
       "      <td>1562</td>\n",
       "    </tr>\n",
       "    <tr>\n",
       "      <th>4</th>\n",
       "      <td>5</td>\n",
       "      <td>2011-01-05</td>\n",
       "      <td>1</td>\n",
       "      <td>0</td>\n",
       "      <td>1</td>\n",
       "      <td>0</td>\n",
       "      <td>3</td>\n",
       "      <td>1</td>\n",
       "      <td>1</td>\n",
       "      <td>0.226957</td>\n",
       "      <td>0.229270</td>\n",
       "      <td>0.436957</td>\n",
       "      <td>0.186900</td>\n",
       "      <td>82</td>\n",
       "      <td>1518</td>\n",
       "      <td>1600</td>\n",
       "    </tr>\n",
       "  </tbody>\n",
       "</table>\n",
       "</div>"
      ],
      "text/plain": [
       "   instant      dteday  season  yr  mnth  holiday  weekday  workingday  \\\n",
       "0        1  2011-01-01       1   0     1        0        6           0   \n",
       "1        2  2011-01-02       1   0     1        0        0           0   \n",
       "2        3  2011-01-03       1   0     1        0        1           1   \n",
       "3        4  2011-01-04       1   0     1        0        2           1   \n",
       "4        5  2011-01-05       1   0     1        0        3           1   \n",
       "\n",
       "   weathersit      temp     atemp       hum  windspeed  casual  registered  \\\n",
       "0           2  0.344167  0.363625  0.805833   0.160446     331         654   \n",
       "1           2  0.363478  0.353739  0.696087   0.248539     131         670   \n",
       "2           1  0.196364  0.189405  0.437273   0.248309     120        1229   \n",
       "3           1  0.200000  0.212122  0.590435   0.160296     108        1454   \n",
       "4           1  0.226957  0.229270  0.436957   0.186900      82        1518   \n",
       "\n",
       "    cnt  \n",
       "0   985  \n",
       "1   801  \n",
       "2  1349  \n",
       "3  1562  \n",
       "4  1600  "
      ]
     },
     "execution_count": 13,
     "metadata": {},
     "output_type": "execute_result"
    }
   ],
   "source": [
    "import pandas as pd\n",
    "bikes = pd.read_csv(\"bike_rental_day.csv\")\n",
    "bikes.head()"
   ]
  },
  {
   "cell_type": "markdown",
   "metadata": {},
   "source": [
    "<br>\n",
    "<div class=\"alert alert-info\">\n",
    "<b>Exercise Start.</b>\n",
    "</div>\n",
    "\n",
    "**Description**:\n",
    "\n",
    "1. Find the probability of there being more than <span style=\"background-color: #F9EBEA; color:##C0392B\">5000</span> riders in a single day (using the <span style=\"background-color: #F9EBEA; color:##C0392B\">cnt</span> column). \n",
    "2. Assign the result to <span style=\"background-color: #F9EBEA; color:##C0392B\">prob\\_over\\_5000</span>\n",
    "3. What is the probability that the bikesharing system has in a month at least 10 days with more than 5k riders?\n"
   ]
  },
  {
   "cell_type": "code",
   "execution_count": 41,
   "metadata": {},
   "outputs": [
    {
     "data": {
      "text/plain": [
       "39.12448700410397"
      ]
     },
     "execution_count": 41,
     "metadata": {},
     "output_type": "execute_result"
    }
   ],
   "source": [
    "#z-score?\n",
    "# 1 and 2\n",
    "count = 0\n",
    "\n",
    "for i in bikes['cnt']:\n",
    "    if(i >= 5000):\n",
    "        count = count +1 \n",
    "\n",
    "prob_over_5000 = count/len(bikes['cnt'])\n",
    "\n",
    "prob_over_5000 * 100"
   ]
  },
  {
   "cell_type": "markdown",
   "metadata": {},
   "source": [
    "## Geometric Distribution\n",
    "\n",
    "\n",
    "$$\n",
    "\\begin{eqnarray*}\n",
    "P(X = k)  \\Leftrightarrow  f(k,p)  & = &\n",
    "\\begin{cases}\n",
    "               \\displaystyle (1-p)^{k-1}*p \\ \\ \\ k = 1,2,3,\\ldots \\\\\n",
    "               \\textrm{caso contrário}\n",
    "\\end{cases}\\\\\n",
    "P(X \\leq k) \\Leftrightarrow  F(k,p)  & = &\n",
    "               \\displaystyle \\sum_{i=1}^{k}  (1-p)^{k-1}*p \\\\\n",
    "               & = & 1 - (1-p)^k\n",
    "\\end{eqnarray*}\n",
    "$$"
   ]
  },
  {
   "cell_type": "code",
   "execution_count": 42,
   "metadata": {
    "scrolled": true
   },
   "outputs": [
    {
     "data": {
      "text/html": [
       "\n",
       "<div class=\"bk-root\">\n",
       "    <div class=\"bk-plotdiv\" id=\"94afb618-35f9-4f34-a9c3-9973612aca22\"></div>\n",
       "</div>"
      ]
     },
     "metadata": {},
     "output_type": "display_data"
    },
    {
     "data": {
      "application/javascript": [
       "(function(root) {\n",
       "  function embed_document(root) {\n",
       "    \n",
       "  var docs_json = {\"eeb3558c-52bf-4ffe-8c4d-eb8115e0a78e\":{\"roots\":{\"references\":[{\"attributes\":{\"axis_label\":\"f(k,p)\",\"formatter\":{\"id\":\"4e1cf097-5ee2-4951-a931-d70158df7c2c\",\"type\":\"BasicTickFormatter\"},\"plot\":{\"id\":\"fbe653ca-a8bc-4b31-a331-85038a150f12\",\"subtype\":\"Figure\",\"type\":\"Plot\"},\"ticker\":{\"id\":\"8fb46fae-e59b-4cdf-b3f0-f241e36c6931\",\"type\":\"BasicTicker\"}},\"id\":\"dfd4bb97-68b1-466d-845d-5322eed89e12\",\"type\":\"LinearAxis\"},{\"attributes\":{},\"id\":\"8fb46fae-e59b-4cdf-b3f0-f241e36c6931\",\"type\":\"BasicTicker\"},{\"attributes\":{\"active_drag\":\"auto\",\"active_inspect\":\"auto\",\"active_scroll\":\"auto\",\"active_tap\":\"auto\",\"tools\":[{\"id\":\"acbf9bf5-bcc0-483b-a077-a374117a12cb\",\"type\":\"HoverTool\"},{\"id\":\"dfe04489-f8cb-4f8a-84e3-96a114137cae\",\"type\":\"PanTool\"},{\"id\":\"b4e96567-a97d-41fc-930b-3a4bb2f80d85\",\"type\":\"WheelZoomTool\"},{\"id\":\"c481eab0-fff1-4520-ac86-9c5f9a9745bd\",\"type\":\"ResetTool\"},{\"id\":\"095984c3-abf7-4f42-9790-613c551fceb4\",\"type\":\"SaveTool\"}]},\"id\":\"c9b0b2d8-5726-42cf-b10c-e57dd1515151\",\"type\":\"Toolbar\"},{\"attributes\":{\"fill_color\":{\"value\":\"dodgerblue\"},\"line_color\":{\"value\":\"dodgerblue\"},\"size\":{\"units\":\"screen\",\"value\":7},\"x\":{\"field\":\"x\"},\"y\":{\"field\":\"y\"}},\"id\":\"67b6b285-ce47-4421-bfb7-86b83466427c\",\"type\":\"Circle\"},{\"attributes\":{\"children\":[{\"id\":\"fbe653ca-a8bc-4b31-a331-85038a150f12\",\"subtype\":\"Figure\",\"type\":\"Plot\"},{\"id\":\"258a7f5c-2e20-4cfb-acb1-43f8eee1f40c\",\"subtype\":\"Figure\",\"type\":\"Plot\"}]},\"id\":\"52a9c2ce-d760-430c-93a5-26b56f735263\",\"type\":\"Row\"},{\"attributes\":{\"dimension\":1,\"plot\":{\"id\":\"fbe653ca-a8bc-4b31-a331-85038a150f12\",\"subtype\":\"Figure\",\"type\":\"Plot\"},\"ticker\":{\"id\":\"8fb46fae-e59b-4cdf-b3f0-f241e36c6931\",\"type\":\"BasicTicker\"}},\"id\":\"f5363157-3523-4e35-808a-6344c1e4997b\",\"type\":\"Grid\"},{\"attributes\":{\"callback\":null,\"end\":1.05,\"start\":-0.05},\"id\":\"53f40846-0382-49b3-afa5-c76e527a4f80\",\"type\":\"Range1d\"},{\"attributes\":{\"data_source\":{\"id\":\"bec2eec6-c89c-43df-8c7c-a97c43f57302\",\"type\":\"ColumnDataSource\"},\"glyph\":{\"id\":\"02b1d1c5-6cd5-4296-9398-0c04d51f3930\",\"type\":\"Circle\"},\"hover_glyph\":null,\"muted_glyph\":null,\"nonselection_glyph\":{\"id\":\"02ff1771-109e-4be3-ac00-53db9a71246a\",\"type\":\"Circle\"},\"selection_glyph\":null,\"view\":{\"id\":\"1fd99d8d-77d6-4965-9f08-62d2bb39f7dd\",\"type\":\"CDSView\"}},\"id\":\"6c4592d7-e9f9-4074-99ff-5ef51e510af2\",\"type\":\"GlyphRenderer\"},{\"attributes\":{},\"id\":\"17c33ba7-2da8-41f8-9e30-17919f948e1f\",\"type\":\"PanTool\"},{\"attributes\":{},\"id\":\"fe5ccb31-70d9-4a27-9257-8f934d61c594\",\"type\":\"LinearScale\"},{\"attributes\":{\"fill_alpha\":{\"value\":0.1},\"fill_color\":{\"value\":\"#1f77b4\"},\"line_alpha\":{\"value\":0.1},\"line_color\":{\"value\":\"#1f77b4\"},\"size\":{\"units\":\"screen\",\"value\":7},\"x\":{\"field\":\"x\"},\"y\":{\"field\":\"y\"}},\"id\":\"02ff1771-109e-4be3-ac00-53db9a71246a\",\"type\":\"Circle\"},{\"attributes\":{\"label\":{\"value\":\"p=0.70\"},\"renderers\":[{\"id\":\"e4215691-deea-429b-8f22-37da0e63cbca\",\"type\":\"GlyphRenderer\"},{\"id\":\"2be31d39-8b88-4652-af6e-a82cc0cc9888\",\"type\":\"GlyphRenderer\"}]},\"id\":\"a1c65ac4-b911-47c8-8642-82dbd21b410c\",\"type\":\"LegendItem\"},{\"attributes\":{\"callback\":null,\"column_names\":[\"x0\",\"x1\",\"y1\"],\"data\":{\"x0\":{\"__ndarray__\":\"AQAAAAIAAAADAAAABAAAAAUAAAAGAAAABwAAAAgAAAAJAAAACgAAAAsAAAAMAAAADQAAAA4AAAAPAAAAEAAAABEAAAASAAAAEwAAABQAAAAVAAAA\",\"dtype\":\"int32\",\"shape\":[21]},\"x1\":{\"__ndarray__\":\"AQAAAAIAAAADAAAABAAAAAUAAAAGAAAABwAAAAgAAAAJAAAACgAAAAsAAAAMAAAADQAAAA4AAAAPAAAAEAAAABEAAAASAAAAEwAAABQAAAAVAAAA\",\"dtype\":\"int32\",\"shape\":[21]},\"y1\":{\"__ndarray__\":\"ZmZmZmZm5j/iehSuR+HKP1XjpZvEILA/mt2Th4Vakz+61hcJbTl3P+A0tteC3ls/VLnT57S4QD/MRDEW2RAkP1wfO7Q3FAg/PL8TpQ/l7D5YDD+WPFbRPgRC5U3izbQ+oLWskA/3mD5bQM/gRfV9PgSNr1OQ+WE+0kJsZOCRRT7K6YF4QOIpPlvlm5CADw8+a1Yqveai8j3nmv/iFF3WPRftZRAZ1ro9\",\"dtype\":\"float64\",\"shape\":[21]}}},\"id\":\"b8be533d-294f-4d0c-a588-169fd7ec7156\",\"type\":\"ColumnDataSource\"},{\"attributes\":{},\"id\":\"ad3ed588-7e90-477c-8b3b-1e4c296419d3\",\"type\":\"BasicTicker\"},{\"attributes\":{\"data_source\":{\"id\":\"91f02cbc-b6b3-4b88-a1b6-06abcb5647e4\",\"type\":\"ColumnDataSource\"},\"glyph\":{\"id\":\"5d3b65de-985d-4ec2-b5b1-90f1d1441b44\",\"type\":\"Segment\"},\"hover_glyph\":null,\"muted_glyph\":null,\"nonselection_glyph\":{\"id\":\"5e4e23b5-7cb0-49e6-8f05-c9253a56a410\",\"type\":\"Segment\"},\"selection_glyph\":null,\"view\":{\"id\":\"04950b83-3481-45a9-94e3-41a2b8dce054\",\"type\":\"CDSView\"}},\"id\":\"484db2b5-ba4a-4d9d-a576-8b5a207af8bb\",\"type\":\"GlyphRenderer\"},{\"attributes\":{\"axis_label\":\"k\",\"formatter\":{\"id\":\"c867371c-134a-45e9-b87f-cf70222e295c\",\"type\":\"BasicTickFormatter\"},\"plot\":{\"id\":\"258a7f5c-2e20-4cfb-acb1-43f8eee1f40c\",\"subtype\":\"Figure\",\"type\":\"Plot\"},\"ticker\":{\"id\":\"ad3ed588-7e90-477c-8b3b-1e4c296419d3\",\"type\":\"BasicTicker\"}},\"id\":\"05dbf66e-926f-4d42-a0e1-b972cbc22fdc\",\"type\":\"LinearAxis\"},{\"attributes\":{\"data_source\":{\"id\":\"d12113e4-4970-4f4a-9bec-715475130dd4\",\"type\":\"ColumnDataSource\"},\"glyph\":{\"id\":\"8ca6dd14-7f0b-4819-b942-7b3d4336627a\",\"type\":\"Circle\"},\"hover_glyph\":null,\"muted_glyph\":null,\"nonselection_glyph\":{\"id\":\"4b9aa2b5-b249-452f-a03f-2621e3959f1e\",\"type\":\"Circle\"},\"selection_glyph\":null,\"view\":{\"id\":\"f8919a54-210f-4672-b88b-b45ebde2d9c0\",\"type\":\"CDSView\"}},\"id\":\"e4215691-deea-429b-8f22-37da0e63cbca\",\"type\":\"GlyphRenderer\"},{\"attributes\":{\"source\":{\"id\":\"91f02cbc-b6b3-4b88-a1b6-06abcb5647e4\",\"type\":\"ColumnDataSource\"}},\"id\":\"04950b83-3481-45a9-94e3-41a2b8dce054\",\"type\":\"CDSView\"},{\"attributes\":{\"callback\":null,\"tooltips\":[[\"\",\"$y\"]]},\"id\":\"acbf9bf5-bcc0-483b-a077-a374117a12cb\",\"type\":\"HoverTool\"},{\"attributes\":{\"source\":{\"id\":\"bec2eec6-c89c-43df-8c7c-a97c43f57302\",\"type\":\"ColumnDataSource\"}},\"id\":\"1fd99d8d-77d6-4965-9f08-62d2bb39f7dd\",\"type\":\"CDSView\"},{\"attributes\":{\"line_alpha\":{\"value\":0.1},\"line_color\":{\"value\":\"#1f77b4\"},\"line_width\":{\"value\":3},\"x0\":{\"field\":\"x0\"},\"x1\":{\"field\":\"x1\"},\"y0\":{\"value\":0},\"y1\":{\"field\":\"y1\"}},\"id\":\"5ded50a1-5a20-4537-b9fd-b3fb746af9bc\",\"type\":\"Segment\"},{\"attributes\":{\"line_color\":{\"value\":\"red\"},\"line_width\":{\"value\":3},\"x0\":{\"field\":\"x0\"},\"x1\":{\"field\":\"x1\"},\"y0\":{\"value\":0},\"y1\":{\"field\":\"y1\"}},\"id\":\"272aea93-9e44-4db7-a95f-4f1443dcd472\",\"type\":\"Segment\"},{\"attributes\":{\"callback\":null,\"column_names\":[\"x\",\"y\"],\"data\":{\"x\":{\"__ndarray__\":\"AQAAAAIAAAADAAAABAAAAAUAAAAGAAAABwAAAAgAAAAJAAAACgAAAAsAAAAMAAAADQAAAA4AAAAPAAAAEAAAABEAAAASAAAAEwAAABQAAAAVAAAA\",\"dtype\":\"int32\",\"shape\":[21]},\"y\":{\"__ndarray__\":\"MzMzMzMz0z9SuB6F61HgP6AaL90kBuU/cF8HzhlR6D8C9tGpK5/qPwH5Eio4POw/tBTag1pd7T9L20tcvyfuP4EZNVpste4/2pGLpZgY7z/msuFzBF7vP6FjhLecju8/JKzc5qCw7z9/eJqhcMjvP4yHUqQb2e8/ryugjMbk7z+UHnBi8ezvP5tIG/io8u8/oH95eqn27z+9P4iidvnvP2r5+KRs++8/\",\"dtype\":\"float64\",\"shape\":[21]}}},\"id\":\"74619e7e-0b91-42b0-9b0c-b9819937a920\",\"type\":\"ColumnDataSource\"},{\"attributes\":{\"data_source\":{\"id\":\"b8be533d-294f-4d0c-a588-169fd7ec7156\",\"type\":\"ColumnDataSource\"},\"glyph\":{\"id\":\"272aea93-9e44-4db7-a95f-4f1443dcd472\",\"type\":\"Segment\"},\"hover_glyph\":null,\"muted_glyph\":null,\"nonselection_glyph\":{\"id\":\"5ded50a1-5a20-4537-b9fd-b3fb746af9bc\",\"type\":\"Segment\"},\"selection_glyph\":null,\"view\":{\"id\":\"02aa756b-c4ea-4806-8874-92a1894c7d53\",\"type\":\"CDSView\"}},\"id\":\"2be31d39-8b88-4652-af6e-a82cc0cc9888\",\"type\":\"GlyphRenderer\"},{\"attributes\":{\"data_source\":{\"id\":\"74619e7e-0b91-42b0-9b0c-b9819937a920\",\"type\":\"ColumnDataSource\"},\"glyph\":{\"id\":\"9ffcae29-fda7-4ea6-bebf-fb2fc424947d\",\"type\":\"Circle\"},\"hover_glyph\":null,\"muted_glyph\":null,\"nonselection_glyph\":{\"id\":\"341f8237-5665-47db-b907-5d2ca5d653a2\",\"type\":\"Circle\"},\"selection_glyph\":null,\"view\":{\"id\":\"180d89d3-9296-432f-96cb-76b6b19fd7e8\",\"type\":\"CDSView\"}},\"id\":\"2eeb2e0d-7402-47ea-be17-b9d0d470d88c\",\"type\":\"GlyphRenderer\"},{\"attributes\":{\"source\":{\"id\":\"b8be533d-294f-4d0c-a588-169fd7ec7156\",\"type\":\"ColumnDataSource\"}},\"id\":\"02aa756b-c4ea-4806-8874-92a1894c7d53\",\"type\":\"CDSView\"},{\"attributes\":{\"fill_alpha\":{\"value\":0.1},\"fill_color\":{\"value\":\"#1f77b4\"},\"line_alpha\":{\"value\":0.1},\"line_color\":{\"value\":\"#1f77b4\"},\"size\":{\"units\":\"screen\",\"value\":7},\"x\":{\"field\":\"x\"},\"y\":{\"field\":\"y\"}},\"id\":\"341f8237-5665-47db-b907-5d2ca5d653a2\",\"type\":\"Circle\"},{\"attributes\":{},\"id\":\"c867371c-134a-45e9-b87f-cf70222e295c\",\"type\":\"BasicTickFormatter\"},{\"attributes\":{\"source\":{\"id\":\"74619e7e-0b91-42b0-9b0c-b9819937a920\",\"type\":\"ColumnDataSource\"}},\"id\":\"180d89d3-9296-432f-96cb-76b6b19fd7e8\",\"type\":\"CDSView\"},{\"attributes\":{},\"id\":\"4540ce82-9055-4f6d-bd59-b3f9c7117207\",\"type\":\"LinearScale\"},{\"attributes\":{},\"id\":\"e325714d-9488-4605-b598-244c3ea3076b\",\"type\":\"BasicTickFormatter\"},{\"attributes\":{},\"id\":\"79a1832c-f75e-4c94-ac26-a9719d09d64e\",\"type\":\"SaveTool\"},{\"attributes\":{\"callback\":null,\"column_names\":[\"x\",\"y\"],\"data\":{\"x\":{\"__ndarray__\":\"AQAAAAIAAAADAAAABAAAAAUAAAAGAAAABwAAAAgAAAAJAAAACgAAAAsAAAAMAAAADQAAAA4AAAAPAAAAEAAAABEAAAASAAAAEwAAABQAAAAVAAAA\",\"dtype\":\"int32\",\"shape\":[21]},\"y\":{\"__ndarray__\":\"ZmZmZmZm5j8fhetRuB7tP4lBYOXQIu8/duCcEaW97z8jEK/rF+zvPz7rGi0H+u8/LOBUWjX+7z9AQ+Zndv/vPy0UxbjW/+8/QbnUnfP/7z9gBPNI/P/vPx1Or+L+/+8/ospnqv//7z9kVlLm///vP7jmS/j//+8/0V6w/f//7z/Ygk7////vP9rAyv///+8/qAbw////7z8yNfv////vP/aP/v///+8/\",\"dtype\":\"float64\",\"shape\":[21]}}},\"id\":\"bec2eec6-c89c-43df-8c7c-a97c43f57302\",\"type\":\"ColumnDataSource\"},{\"attributes\":{\"plot\":null,\"text\":\"\"},\"id\":\"3022b8f5-a4d9-4141-97a6-c3c36ac955b0\",\"type\":\"Title\"},{\"attributes\":{\"callback\":null,\"column_names\":[\"x\",\"y\"],\"data\":{\"x\":{\"__ndarray__\":\"AQAAAAIAAAADAAAABAAAAAUAAAAGAAAABwAAAAgAAAAJAAAACgAAAAsAAAAMAAAADQAAAA4AAAAPAAAAEAAAABEAAAASAAAAEwAAABQAAAAVAAAA\",\"dtype\":\"int32\",\"shape\":[21]},\"y\":{\"__ndarray__\":\"MzMzMzMz0z/hehSuR+HKPzaJQWDl0MI/fybChqdXuj+MtFTejnCyP/YvEATI0Kk/LLtxnCUSoj/X0jgOm0yZP8nGJ72ftZE/TRae1RLLiD/PQoiV81qBP4hdWNEhTHg/eEEkrBcCcT+oW8y9us9nP/UMD7gCq2A/V0VIm9BVVz8jyuWfq1VQP/0aqKxW3kY/5BLceAkCQD8/5wB2QGk2P1fdmgsnYC8/\",\"dtype\":\"float64\",\"shape\":[21]}}},\"id\":\"a8bc77ea-cb93-48d0-99fb-9e2562c89941\",\"type\":\"ColumnDataSource\"},{\"attributes\":{},\"id\":\"c481eab0-fff1-4520-ac86-9c5f9a9745bd\",\"type\":\"ResetTool\"},{\"attributes\":{\"below\":[{\"id\":\"06b1435c-b635-46df-926e-33991a71230a\",\"type\":\"LinearAxis\"}],\"left\":[{\"id\":\"dfd4bb97-68b1-466d-845d-5322eed89e12\",\"type\":\"LinearAxis\"}],\"plot_height\":300,\"plot_width\":400,\"renderers\":[{\"id\":\"06b1435c-b635-46df-926e-33991a71230a\",\"type\":\"LinearAxis\"},{\"id\":\"fe31bb82-2e08-431c-a6d6-c188f1ae3616\",\"type\":\"Grid\"},{\"id\":\"dfd4bb97-68b1-466d-845d-5322eed89e12\",\"type\":\"LinearAxis\"},{\"id\":\"f5363157-3523-4e35-808a-6344c1e4997b\",\"type\":\"Grid\"},{\"id\":\"e78d117a-36fd-4d82-9d61-1c92a9a0bd99\",\"type\":\"Legend\"},{\"id\":\"4a1a2559-61c0-4a0e-b494-3ea24fb66655\",\"type\":\"GlyphRenderer\"},{\"id\":\"484db2b5-ba4a-4d9d-a576-8b5a207af8bb\",\"type\":\"GlyphRenderer\"},{\"id\":\"e4215691-deea-429b-8f22-37da0e63cbca\",\"type\":\"GlyphRenderer\"},{\"id\":\"2be31d39-8b88-4652-af6e-a82cc0cc9888\",\"type\":\"GlyphRenderer\"}],\"title\":{\"id\":\"cb436e76-3e74-427e-a9fa-f5271cb38b68\",\"type\":\"Title\"},\"toolbar\":{\"id\":\"6d595096-68ec-44d6-9a35-dcf98f896755\",\"type\":\"Toolbar\"},\"x_range\":{\"id\":\"567bf6ec-43a8-4a3b-9069-a0f36c53910d\",\"type\":\"DataRange1d\"},\"x_scale\":{\"id\":\"31725eb1-214d-45d9-9063-7845675154de\",\"type\":\"LinearScale\"},\"y_range\":{\"id\":\"59a9206e-d64e-4509-88f2-a0ec2a6cb842\",\"type\":\"DataRange1d\"},\"y_scale\":{\"id\":\"6414cf00-8fc0-4d97-88ae-fb66c980f356\",\"type\":\"LinearScale\"}},\"id\":\"fbe653ca-a8bc-4b31-a331-85038a150f12\",\"subtype\":\"Figure\",\"type\":\"Plot\"},{\"attributes\":{\"fill_alpha\":{\"value\":0.1},\"fill_color\":{\"value\":\"#1f77b4\"},\"line_alpha\":{\"value\":0.1},\"line_color\":{\"value\":\"#1f77b4\"},\"size\":{\"units\":\"screen\",\"value\":7},\"x\":{\"field\":\"x\"},\"y\":{\"field\":\"y\"}},\"id\":\"4b9aa2b5-b249-452f-a03f-2621e3959f1e\",\"type\":\"Circle\"},{\"attributes\":{\"callback\":null},\"id\":\"567bf6ec-43a8-4a3b-9069-a0f36c53910d\",\"type\":\"DataRange1d\"},{\"attributes\":{\"active_drag\":\"auto\",\"active_inspect\":\"auto\",\"active_scroll\":\"auto\",\"active_tap\":\"auto\",\"tools\":[{\"id\":\"17c33ba7-2da8-41f8-9e30-17919f948e1f\",\"type\":\"PanTool\"},{\"id\":\"8da793ee-136d-4c71-86a5-3bfa5ec2d881\",\"type\":\"WheelZoomTool\"},{\"id\":\"52774458-a509-4850-bcaa-57d8167fb54b\",\"type\":\"ResetTool\"},{\"id\":\"79a1832c-f75e-4c94-ac26-a9719d09d64e\",\"type\":\"SaveTool\"}]},\"id\":\"6d595096-68ec-44d6-9a35-dcf98f896755\",\"type\":\"Toolbar\"},{\"attributes\":{\"label\":{\"value\":\"p=0.30\"},\"renderers\":[{\"id\":\"4a1a2559-61c0-4a0e-b494-3ea24fb66655\",\"type\":\"GlyphRenderer\"},{\"id\":\"484db2b5-ba4a-4d9d-a576-8b5a207af8bb\",\"type\":\"GlyphRenderer\"}]},\"id\":\"2f14c1b6-4e30-4066-bd2a-b3d24465efe4\",\"type\":\"LegendItem\"},{\"attributes\":{\"below\":[{\"id\":\"05dbf66e-926f-4d42-a0e1-b972cbc22fdc\",\"type\":\"LinearAxis\"}],\"left\":[{\"id\":\"67bfe893-de48-49d8-8742-d9e9099b73ff\",\"type\":\"LinearAxis\"}],\"plot_height\":300,\"plot_width\":400,\"renderers\":[{\"id\":\"05dbf66e-926f-4d42-a0e1-b972cbc22fdc\",\"type\":\"LinearAxis\"},{\"id\":\"62782bb3-05af-478c-bfd3-e825a2b3b64b\",\"type\":\"Grid\"},{\"id\":\"67bfe893-de48-49d8-8742-d9e9099b73ff\",\"type\":\"LinearAxis\"},{\"id\":\"76f9396f-d3b2-4c2e-af8d-5e71eca1e4b9\",\"type\":\"Grid\"},{\"id\":\"2eeb2e0d-7402-47ea-be17-b9d0d470d88c\",\"type\":\"GlyphRenderer\"},{\"id\":\"6c4592d7-e9f9-4074-99ff-5ef51e510af2\",\"type\":\"GlyphRenderer\"}],\"title\":{\"id\":\"3022b8f5-a4d9-4141-97a6-c3c36ac955b0\",\"type\":\"Title\"},\"toolbar\":{\"id\":\"c9b0b2d8-5726-42cf-b10c-e57dd1515151\",\"type\":\"Toolbar\"},\"x_range\":{\"id\":\"567bf6ec-43a8-4a3b-9069-a0f36c53910d\",\"type\":\"DataRange1d\"},\"x_scale\":{\"id\":\"fe5ccb31-70d9-4a27-9257-8f934d61c594\",\"type\":\"LinearScale\"},\"y_range\":{\"id\":\"53f40846-0382-49b3-afa5-c76e527a4f80\",\"type\":\"Range1d\"},\"y_scale\":{\"id\":\"4540ce82-9055-4f6d-bd59-b3f9c7117207\",\"type\":\"LinearScale\"}},\"id\":\"258a7f5c-2e20-4cfb-acb1-43f8eee1f40c\",\"subtype\":\"Figure\",\"type\":\"Plot\"},{\"attributes\":{\"plot\":null,\"text\":\"Geometric Distribution\"},\"id\":\"cb436e76-3e74-427e-a9fa-f5271cb38b68\",\"type\":\"Title\"},{\"attributes\":{\"line_color\":{\"value\":\"dodgerblue\"},\"line_width\":{\"value\":3},\"x0\":{\"field\":\"x0\"},\"x1\":{\"field\":\"x1\"},\"y0\":{\"value\":0},\"y1\":{\"field\":\"y1\"}},\"id\":\"5d3b65de-985d-4ec2-b5b1-90f1d1441b44\",\"type\":\"Segment\"},{\"attributes\":{},\"id\":\"31725eb1-214d-45d9-9063-7845675154de\",\"type\":\"LinearScale\"},{\"attributes\":{\"callback\":null},\"id\":\"59a9206e-d64e-4509-88f2-a0ec2a6cb842\",\"type\":\"DataRange1d\"},{\"attributes\":{\"source\":{\"id\":\"d12113e4-4970-4f4a-9bec-715475130dd4\",\"type\":\"ColumnDataSource\"}},\"id\":\"f8919a54-210f-4672-b88b-b45ebde2d9c0\",\"type\":\"CDSView\"},{\"attributes\":{},\"id\":\"6414cf00-8fc0-4d97-88ae-fb66c980f356\",\"type\":\"LinearScale\"},{\"attributes\":{\"callback\":null,\"column_names\":[\"x0\",\"x1\",\"y1\"],\"data\":{\"x0\":{\"__ndarray__\":\"AQAAAAIAAAADAAAABAAAAAUAAAAGAAAABwAAAAgAAAAJAAAACgAAAAsAAAAMAAAADQAAAA4AAAAPAAAAEAAAABEAAAASAAAAEwAAABQAAAAVAAAA\",\"dtype\":\"int32\",\"shape\":[21]},\"x1\":{\"__ndarray__\":\"AQAAAAIAAAADAAAABAAAAAUAAAAGAAAABwAAAAgAAAAJAAAACgAAAAsAAAAMAAAADQAAAA4AAAAPAAAAEAAAABEAAAASAAAAEwAAABQAAAAVAAAA\",\"dtype\":\"int32\",\"shape\":[21]},\"y1\":{\"__ndarray__\":\"MzMzMzMz0z/hehSuR+HKPzaJQWDl0MI/fybChqdXuj+MtFTejnCyP/YvEATI0Kk/LLtxnCUSoj/X0jgOm0yZP8nGJ72ftZE/TRae1RLLiD/PQoiV81qBP4hdWNEhTHg/eEEkrBcCcT+oW8y9us9nP/UMD7gCq2A/V0VIm9BVVz8jyuWfq1VQP/0aqKxW3kY/5BLceAkCQD8/5wB2QGk2P1fdmgsnYC8/\",\"dtype\":\"float64\",\"shape\":[21]}}},\"id\":\"91f02cbc-b6b3-4b88-a1b6-06abcb5647e4\",\"type\":\"ColumnDataSource\"},{\"attributes\":{\"axis_label\":\"k\",\"formatter\":{\"id\":\"db8d4bcc-dcc4-417e-ae55-72da2b8a71ef\",\"type\":\"BasicTickFormatter\"},\"plot\":{\"id\":\"fbe653ca-a8bc-4b31-a331-85038a150f12\",\"subtype\":\"Figure\",\"type\":\"Plot\"},\"ticker\":{\"id\":\"3c514ff3-522e-46e5-a594-f8d3b12d6da4\",\"type\":\"BasicTicker\"}},\"id\":\"06b1435c-b635-46df-926e-33991a71230a\",\"type\":\"LinearAxis\"},{\"attributes\":{\"line_alpha\":{\"value\":0.1},\"line_color\":{\"value\":\"#1f77b4\"},\"line_width\":{\"value\":3},\"x0\":{\"field\":\"x0\"},\"x1\":{\"field\":\"x1\"},\"y0\":{\"value\":0},\"y1\":{\"field\":\"y1\"}},\"id\":\"5e4e23b5-7cb0-49e6-8f05-c9253a56a410\",\"type\":\"Segment\"},{\"attributes\":{\"plot\":{\"id\":\"fbe653ca-a8bc-4b31-a331-85038a150f12\",\"subtype\":\"Figure\",\"type\":\"Plot\"},\"ticker\":{\"id\":\"3c514ff3-522e-46e5-a594-f8d3b12d6da4\",\"type\":\"BasicTicker\"}},\"id\":\"fe31bb82-2e08-431c-a6d6-c188f1ae3616\",\"type\":\"Grid\"},{\"attributes\":{},\"id\":\"4e1cf097-5ee2-4951-a931-d70158df7c2c\",\"type\":\"BasicTickFormatter\"},{\"attributes\":{},\"id\":\"3c514ff3-522e-46e5-a594-f8d3b12d6da4\",\"type\":\"BasicTicker\"},{\"attributes\":{\"data_source\":{\"id\":\"a8bc77ea-cb93-48d0-99fb-9e2562c89941\",\"type\":\"ColumnDataSource\"},\"glyph\":{\"id\":\"67b6b285-ce47-4421-bfb7-86b83466427c\",\"type\":\"Circle\"},\"hover_glyph\":null,\"muted_glyph\":null,\"nonselection_glyph\":{\"id\":\"26b396f4-94f5-4dfd-adce-99f0e20aa478\",\"type\":\"Circle\"},\"selection_glyph\":null,\"view\":{\"id\":\"e08c431e-6ca5-4f41-9621-fde447abd60e\",\"type\":\"CDSView\"}},\"id\":\"4a1a2559-61c0-4a0e-b494-3ea24fb66655\",\"type\":\"GlyphRenderer\"},{\"attributes\":{},\"id\":\"8da793ee-136d-4c71-86a5-3bfa5ec2d881\",\"type\":\"WheelZoomTool\"},{\"attributes\":{},\"id\":\"095984c3-abf7-4f42-9790-613c551fceb4\",\"type\":\"SaveTool\"},{\"attributes\":{},\"id\":\"52774458-a509-4850-bcaa-57d8167fb54b\",\"type\":\"ResetTool\"},{\"attributes\":{\"source\":{\"id\":\"a8bc77ea-cb93-48d0-99fb-9e2562c89941\",\"type\":\"ColumnDataSource\"}},\"id\":\"e08c431e-6ca5-4f41-9621-fde447abd60e\",\"type\":\"CDSView\"},{\"attributes\":{},\"id\":\"b4e96567-a97d-41fc-930b-3a4bb2f80d85\",\"type\":\"WheelZoomTool\"},{\"attributes\":{\"fill_alpha\":{\"value\":0.1},\"fill_color\":{\"value\":\"#1f77b4\"},\"line_alpha\":{\"value\":0.1},\"line_color\":{\"value\":\"#1f77b4\"},\"size\":{\"units\":\"screen\",\"value\":7},\"x\":{\"field\":\"x\"},\"y\":{\"field\":\"y\"}},\"id\":\"26b396f4-94f5-4dfd-adce-99f0e20aa478\",\"type\":\"Circle\"},{\"attributes\":{\"plot\":{\"id\":\"258a7f5c-2e20-4cfb-acb1-43f8eee1f40c\",\"subtype\":\"Figure\",\"type\":\"Plot\"},\"ticker\":{\"id\":\"ad3ed588-7e90-477c-8b3b-1e4c296419d3\",\"type\":\"BasicTicker\"}},\"id\":\"62782bb3-05af-478c-bfd3-e825a2b3b64b\",\"type\":\"Grid\"},{\"attributes\":{},\"id\":\"db8d4bcc-dcc4-417e-ae55-72da2b8a71ef\",\"type\":\"BasicTickFormatter\"},{\"attributes\":{\"fill_color\":{\"value\":\"red\"},\"line_color\":{\"value\":\"red\"},\"size\":{\"units\":\"screen\",\"value\":7},\"x\":{\"field\":\"x\"},\"y\":{\"field\":\"y\"}},\"id\":\"02b1d1c5-6cd5-4296-9398-0c04d51f3930\",\"type\":\"Circle\"},{\"attributes\":{\"click_policy\":\"hide\",\"items\":[{\"id\":\"2f14c1b6-4e30-4066-bd2a-b3d24465efe4\",\"type\":\"LegendItem\"},{\"id\":\"a1c65ac4-b911-47c8-8642-82dbd21b410c\",\"type\":\"LegendItem\"}],\"plot\":{\"id\":\"fbe653ca-a8bc-4b31-a331-85038a150f12\",\"subtype\":\"Figure\",\"type\":\"Plot\"}},\"id\":\"e78d117a-36fd-4d82-9d61-1c92a9a0bd99\",\"type\":\"Legend\"},{\"attributes\":{},\"id\":\"dfe04489-f8cb-4f8a-84e3-96a114137cae\",\"type\":\"PanTool\"},{\"attributes\":{\"dimension\":1,\"plot\":{\"id\":\"258a7f5c-2e20-4cfb-acb1-43f8eee1f40c\",\"subtype\":\"Figure\",\"type\":\"Plot\"},\"ticker\":{\"id\":\"2eb35c13-63e1-4edb-ad7d-d8345cc58857\",\"type\":\"BasicTicker\"}},\"id\":\"76f9396f-d3b2-4c2e-af8d-5e71eca1e4b9\",\"type\":\"Grid\"},{\"attributes\":{\"fill_color\":{\"value\":\"dodgerblue\"},\"line_color\":{\"value\":\"dodgerblue\"},\"size\":{\"units\":\"screen\",\"value\":7},\"x\":{\"field\":\"x\"},\"y\":{\"field\":\"y\"}},\"id\":\"9ffcae29-fda7-4ea6-bebf-fb2fc424947d\",\"type\":\"Circle\"},{\"attributes\":{},\"id\":\"2eb35c13-63e1-4edb-ad7d-d8345cc58857\",\"type\":\"BasicTicker\"},{\"attributes\":{\"callback\":null,\"column_names\":[\"x\",\"y\"],\"data\":{\"x\":{\"__ndarray__\":\"AQAAAAIAAAADAAAABAAAAAUAAAAGAAAABwAAAAgAAAAJAAAACgAAAAsAAAAMAAAADQAAAA4AAAAPAAAAEAAAABEAAAASAAAAEwAAABQAAAAVAAAA\",\"dtype\":\"int32\",\"shape\":[21]},\"y\":{\"__ndarray__\":\"ZmZmZmZm5j/iehSuR+HKP1XjpZvEILA/mt2Th4Vakz+61hcJbTl3P+A0tteC3ls/VLnT57S4QD/MRDEW2RAkP1wfO7Q3FAg/PL8TpQ/l7D5YDD+WPFbRPgRC5U3izbQ+oLWskA/3mD5bQM/gRfV9PgSNr1OQ+WE+0kJsZOCRRT7K6YF4QOIpPlvlm5CADw8+a1Yqveai8j3nmv/iFF3WPRftZRAZ1ro9\",\"dtype\":\"float64\",\"shape\":[21]}}},\"id\":\"d12113e4-4970-4f4a-9bec-715475130dd4\",\"type\":\"ColumnDataSource\"},{\"attributes\":{\"axis_label\":\"F(k,p)\",\"formatter\":{\"id\":\"e325714d-9488-4605-b598-244c3ea3076b\",\"type\":\"BasicTickFormatter\"},\"plot\":{\"id\":\"258a7f5c-2e20-4cfb-acb1-43f8eee1f40c\",\"subtype\":\"Figure\",\"type\":\"Plot\"},\"ticker\":{\"id\":\"2eb35c13-63e1-4edb-ad7d-d8345cc58857\",\"type\":\"BasicTicker\"}},\"id\":\"67bfe893-de48-49d8-8742-d9e9099b73ff\",\"type\":\"LinearAxis\"},{\"attributes\":{\"fill_color\":{\"value\":\"red\"},\"line_color\":{\"value\":\"red\"},\"size\":{\"units\":\"screen\",\"value\":7},\"x\":{\"field\":\"x\"},\"y\":{\"field\":\"y\"}},\"id\":\"8ca6dd14-7f0b-4819-b942-7b3d4336627a\",\"type\":\"Circle\"}],\"root_ids\":[\"52a9c2ce-d760-430c-93a5-26b56f735263\"]},\"title\":\"Bokeh Application\",\"version\":\"0.12.13\"}};\n",
       "  var render_items = [{\"docid\":\"eeb3558c-52bf-4ffe-8c4d-eb8115e0a78e\",\"elementid\":\"94afb618-35f9-4f34-a9c3-9973612aca22\",\"modelid\":\"52a9c2ce-d760-430c-93a5-26b56f735263\"}];\n",
       "  root.Bokeh.embed.embed_items_notebook(docs_json, render_items);\n",
       "\n",
       "  }\n",
       "  if (root.Bokeh !== undefined) {\n",
       "    embed_document(root);\n",
       "  } else {\n",
       "    var attempts = 0;\n",
       "    var timer = setInterval(function(root) {\n",
       "      if (root.Bokeh !== undefined) {\n",
       "        embed_document(root);\n",
       "        clearInterval(timer);\n",
       "      }\n",
       "      attempts++;\n",
       "      if (attempts > 100) {\n",
       "        console.log(\"Bokeh: ERROR: Unable to run BokehJS code because BokehJS library is missing\")\n",
       "        clearInterval(timer);\n",
       "      }\n",
       "    }, 10, root)\n",
       "  }\n",
       "})(window);"
      ],
      "application/vnd.bokehjs_exec.v0+json": ""
     },
     "metadata": {
      "application/vnd.bokehjs_exec.v0+json": {
       "id": "52a9c2ce-d760-430c-93a5-26b56f735263"
      }
     },
     "output_type": "display_data"
    }
   ],
   "source": [
    "k = np.arange(21)+1\n",
    "p1 = 0.30\n",
    "p2 = 0.70\n",
    "\n",
    "# Tools for plots\n",
    "tools='pan,wheel_zoom,reset,save'\n",
    "\n",
    "# Set up plots\n",
    "fig_1 = Figure(width=400, height=300, tools=tools, title=\"Geometric Distribution\")\n",
    "fig_2 = Figure(width=400, height=300, tools=[tools,HoverTool(tooltips=[\n",
    "                (\"\", \"$y\")\n",
    "                ])], \n",
    "               y_range=[-0.05, 1.05])\n",
    "\n",
    "fig_1.xaxis.axis_label = 'k'\n",
    "fig_1.yaxis.axis_label = 'f(k,p)' \n",
    "\n",
    "fig_2.xaxis.axis_label = 'k'\n",
    "fig_2.yaxis.axis_label = 'F(k,p)'\n",
    "\n",
    "# Figure #1\n",
    "y1 = geom.pmf(k,p1)\n",
    "fig_1.circle(k, y1, size=7, color='dodgerblue',legend=\"p=0.30\")\n",
    "fig_1.segment(x0=k, x1=k, y0=0, y1=y1, line_width=3, \n",
    "              color='dodgerblue', legend=\"p=0.30\")\n",
    "\n",
    "y2 = geom.pmf(k,p2)\n",
    "fig_1.circle(k, y2, size=7, color='red',legend=\"p=0.70\")\n",
    "fig_1.segment(x0=k, x1=k, y0=0, y1=y2, line_width=3, \n",
    "              color='red', legend=\"p=0.70\")\n",
    "\n",
    "fig_1.legend.location = \"top_right\"\n",
    "fig_1.legend.click_policy=\"hide\"\n",
    "\n",
    "#Figure #2\n",
    "y3 = geom.cdf(k,p1)\n",
    "fig_2.circle(k, y3, size=7, color='dodgerblue')\n",
    "\n",
    "y4 = geom.cdf(k,p2)\n",
    "fig_2.circle(k, y4, size=7, color='red')\n",
    "\n",
    "# Link the x-axes\n",
    "fig_1.x_range = fig_2.x_range\n",
    "\n",
    "\n",
    "show(row([fig_1, fig_2]))"
   ]
  },
  {
   "cell_type": "markdown",
   "metadata": {},
   "source": [
    "# Continuous Distribution"
   ]
  },
  {
   "cell_type": "markdown",
   "metadata": {},
   "source": [
    "## Uniform distribution\n",
    "\n",
    "$$\n",
    "\\begin{eqnarray*}\n",
    "P(X = x)  \\Leftrightarrow  f(x)  & = &\n",
    "\\begin{cases}\n",
    "               \\displaystyle \\frac{1}{b-a} \\ \\ \\ a \\leq x \\leq b\\\\\n",
    "               \\textrm{caso contrário}\n",
    "\\end{cases}\\\\\n",
    "P(X \\leq x)  \\Leftrightarrow  F(x)  & = &\n",
    "\\begin{cases}\n",
    "               0 \\ \\ \\ \\ \\ \\ \\ \\  x \\leq a\\\\\n",
    "               \\frac{x-a}{b-a} \\ \\ \\ a \\leq x \\leq b\\\\\n",
    "               1 \\ \\ \\ \\ \\ \\ \\  x \\geq b\n",
    "\\end{cases}\n",
    "\\end{eqnarray*}\n",
    "$$"
   ]
  },
  {
   "cell_type": "code",
   "execution_count": 43,
   "metadata": {},
   "outputs": [
    {
     "data": {
      "text/html": [
       "\n",
       "<div class=\"bk-root\">\n",
       "    <div class=\"bk-plotdiv\" id=\"91825f7f-b145-433d-9d4c-b82044bdf29e\"></div>\n",
       "</div>"
      ]
     },
     "metadata": {},
     "output_type": "display_data"
    },
    {
     "data": {
      "application/javascript": [
       "(function(root) {\n",
       "  function embed_document(root) {\n",
       "    \n",
       "  var docs_json = {\"f76c536b-2ec3-474e-a736-5c4c33165ea7\":{\"roots\":{\"references\":[{\"attributes\":{\"callback\":null,\"end\":20},\"id\":\"29d2bc09-9742-41ef-98ac-6e99ed7ddce7\",\"type\":\"Range1d\"},{\"attributes\":{},\"id\":\"7793757e-025f-4b7f-b047-d8e612556397\",\"type\":\"BasicTickFormatter\"},{\"attributes\":{},\"id\":\"bd67041f-e2be-47dd-95cc-268b38292c24\",\"type\":\"LinearScale\"},{\"attributes\":{},\"id\":\"e7f79500-3b87-4ee3-a9a2-61f01d748962\",\"type\":\"PanTool\"},{\"attributes\":{\"active_drag\":\"auto\",\"active_inspect\":\"auto\",\"active_scroll\":\"auto\",\"active_tap\":\"auto\",\"tools\":[{\"id\":\"9f250cd9-77d7-44fb-bb22-558a33cc8ae2\",\"type\":\"HoverTool\"},{\"id\":\"05134609-a241-4132-bf83-37ec022741ef\",\"type\":\"PanTool\"},{\"id\":\"b3d7f3a2-3f9d-478e-8be6-4bd832c4bda7\",\"type\":\"WheelZoomTool\"},{\"id\":\"d77461c7-b029-49f1-bbb2-13fca8643b3e\",\"type\":\"ResetTool\"},{\"id\":\"75e7c44b-a6c3-433a-b5a3-9b7a8cad6355\",\"type\":\"SaveTool\"}]},\"id\":\"b5218c5d-2f76-4dd1-a89f-11994c3e1597\",\"type\":\"Toolbar\"},{\"attributes\":{\"line_color\":\"dodgerblue\",\"line_width\":3,\"x\":{\"field\":\"x\"},\"y\":{\"field\":\"y\"}},\"id\":\"499e935a-0db7-4bc7-9a99-ae6af5629aff\",\"type\":\"Line\"},{\"attributes\":{\"callback\":null},\"id\":\"3010ca67-99d5-45e4-befa-7637aad15c47\",\"type\":\"DataRange1d\"},{\"attributes\":{},\"id\":\"f077e91e-b428-428c-a26d-eff98776a65a\",\"type\":\"BasicTickFormatter\"},{\"attributes\":{},\"id\":\"d2420f56-4138-43c6-b8a5-ff0ea6ecb6d6\",\"type\":\"BasicTicker\"},{\"attributes\":{\"data_source\":{\"id\":\"aba09eda-7e35-4559-8864-d123cacf971c\",\"type\":\"ColumnDataSource\"},\"glyph\":{\"id\":\"38fe68df-5782-4137-8281-3820792bfce6\",\"type\":\"Line\"},\"hover_glyph\":null,\"muted_glyph\":null,\"nonselection_glyph\":{\"id\":\"b39c6ed6-c534-482b-90e3-8412c3deb6e7\",\"type\":\"Line\"},\"selection_glyph\":null,\"view\":{\"id\":\"4a3457f4-b47e-4549-9502-9fec1cdff9fe\",\"type\":\"CDSView\"}},\"id\":\"35aedd0f-86ea-4537-aabe-cb5faf7d2606\",\"type\":\"GlyphRenderer\"},{\"attributes\":{},\"id\":\"af2fe327-d446-4cd7-ad0f-d9bd36507d13\",\"type\":\"LinearScale\"},{\"attributes\":{\"plot\":null,\"text\":\"\"},\"id\":\"65ef111e-cefd-4b22-b5ba-e9ffb3859b2c\",\"type\":\"Title\"},{\"attributes\":{\"source\":{\"id\":\"aba09eda-7e35-4559-8864-d123cacf971c\",\"type\":\"ColumnDataSource\"}},\"id\":\"4a3457f4-b47e-4549-9502-9fec1cdff9fe\",\"type\":\"CDSView\"},{\"attributes\":{\"data_source\":{\"id\":\"042ca019-a6b8-443d-a010-c780c2392a61\",\"type\":\"ColumnDataSource\"},\"glyph\":{\"id\":\"499e935a-0db7-4bc7-9a99-ae6af5629aff\",\"type\":\"Line\"},\"hover_glyph\":null,\"muted_glyph\":null,\"nonselection_glyph\":{\"id\":\"2cc78442-4817-4ba5-b185-2ea996c9392a\",\"type\":\"Line\"},\"selection_glyph\":null,\"view\":{\"id\":\"53d528ce-71f7-444a-8aee-7140f2e7a845\",\"type\":\"CDSView\"}},\"id\":\"98e35164-ffe0-4c77-987a-52420ec22096\",\"type\":\"GlyphRenderer\"},{\"attributes\":{},\"id\":\"d0d157c3-9928-44aa-96c5-8cd386d6d20b\",\"type\":\"BasicTicker\"},{\"attributes\":{\"axis_label\":\"F(x,(2,7))\",\"formatter\":{\"id\":\"4d21b8ff-9f6e-47c1-8961-250a9b2408c9\",\"type\":\"BasicTickFormatter\"},\"plot\":{\"id\":\"c644aa98-7153-4d3a-8125-547f5ed716cf\",\"subtype\":\"Figure\",\"type\":\"Plot\"},\"ticker\":{\"id\":\"d2420f56-4138-43c6-b8a5-ff0ea6ecb6d6\",\"type\":\"BasicTicker\"}},\"id\":\"16b4fd42-d7e1-4798-a813-42e4bc76ddfe\",\"type\":\"LinearAxis\"},{\"attributes\":{\"axis_label\":\"f(x,(2,7))\",\"formatter\":{\"id\":\"f077e91e-b428-428c-a26d-eff98776a65a\",\"type\":\"BasicTickFormatter\"},\"plot\":{\"id\":\"c1d8238a-25d2-417f-941c-9ed890434f1d\",\"subtype\":\"Figure\",\"type\":\"Plot\"},\"ticker\":{\"id\":\"c53d8b74-7a6f-41e7-9442-f05a5cee497a\",\"type\":\"BasicTicker\"}},\"id\":\"4fa5a8f1-411c-49ad-826f-861b4751e742\",\"type\":\"LinearAxis\"},{\"attributes\":{\"line_alpha\":0.1,\"line_color\":\"#1f77b4\",\"line_width\":3,\"x\":{\"field\":\"x\"},\"y\":{\"field\":\"y\"}},\"id\":\"2cc78442-4817-4ba5-b185-2ea996c9392a\",\"type\":\"Line\"},{\"attributes\":{\"label\":{\"value\":\"pdf\"},\"renderers\":[{\"id\":\"35aedd0f-86ea-4537-aabe-cb5faf7d2606\",\"type\":\"GlyphRenderer\"}]},\"id\":\"850a0906-f134-401c-9fb5-24d26a65b4c7\",\"type\":\"LegendItem\"},{\"attributes\":{},\"id\":\"4d21b8ff-9f6e-47c1-8961-250a9b2408c9\",\"type\":\"BasicTickFormatter\"},{\"attributes\":{\"dimension\":1,\"plot\":{\"id\":\"c644aa98-7153-4d3a-8125-547f5ed716cf\",\"subtype\":\"Figure\",\"type\":\"Plot\"},\"ticker\":{\"id\":\"d2420f56-4138-43c6-b8a5-ff0ea6ecb6d6\",\"type\":\"BasicTicker\"}},\"id\":\"ec24b663-82e8-4efe-8c98-ac16dafa23b4\",\"type\":\"Grid\"},{\"attributes\":{},\"id\":\"b3e96fe3-2cb0-4f60-aa0b-16c7cedad85f\",\"type\":\"BasicTickFormatter\"},{\"attributes\":{},\"id\":\"d77461c7-b029-49f1-bbb2-13fca8643b3e\",\"type\":\"ResetTool\"},{\"attributes\":{\"callback\":null,\"column_names\":[\"x\",\"y\"],\"data\":{\"x\":{\"__ndarray__\":\"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\",\"dtype\":\"float64\",\"shape\":[200]},\"y\":{\"__ndarray__\":\"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\",\"dtype\":\"float64\",\"shape\":[200]}}},\"id\":\"042ca019-a6b8-443d-a010-c780c2392a61\",\"type\":\"ColumnDataSource\"},{\"attributes\":{\"callback\":null,\"end\":20},\"id\":\"2b42f12b-c4db-4e3a-af40-c1490a7ef4ae\",\"type\":\"Range1d\"},{\"attributes\":{\"items\":[{\"id\":\"bbdcb94d-a1a6-4ae3-9a32-72e586ccf495\",\"type\":\"LegendItem\"}],\"location\":\"bottom_right\",\"plot\":{\"id\":\"c644aa98-7153-4d3a-8125-547f5ed716cf\",\"subtype\":\"Figure\",\"type\":\"Plot\"}},\"id\":\"dce82d33-8377-41bb-a9eb-6ef723965324\",\"type\":\"Legend\"},{\"attributes\":{\"line_alpha\":0.1,\"line_color\":\"#1f77b4\",\"line_width\":3,\"x\":{\"field\":\"x\"},\"y\":{\"field\":\"y\"}},\"id\":\"b39c6ed6-c534-482b-90e3-8412c3deb6e7\",\"type\":\"Line\"},{\"attributes\":{},\"id\":\"ff1f77cc-e5d4-4696-99c7-c932ad588998\",\"type\":\"BasicTicker\"},{\"attributes\":{\"children\":[{\"id\":\"c1d8238a-25d2-417f-941c-9ed890434f1d\",\"subtype\":\"Figure\",\"type\":\"Plot\"},{\"id\":\"c644aa98-7153-4d3a-8125-547f5ed716cf\",\"subtype\":\"Figure\",\"type\":\"Plot\"}]},\"id\":\"ab6d45e3-0ff6-48cc-9dc8-f172e2780e0d\",\"type\":\"Row\"},{\"attributes\":{},\"id\":\"75e7c44b-a6c3-433a-b5a3-9b7a8cad6355\",\"type\":\"SaveTool\"},{\"attributes\":{\"label\":{\"value\":\"cdf\"},\"renderers\":[{\"id\":\"98e35164-ffe0-4c77-987a-52420ec22096\",\"type\":\"GlyphRenderer\"}]},\"id\":\"bbdcb94d-a1a6-4ae3-9a32-72e586ccf495\",\"type\":\"LegendItem\"},{\"attributes\":{\"callback\":null,\"tooltips\":[[\"\",\"$y\"]]},\"id\":\"8cab1838-67b2-48a7-a7c0-7c08aa549c03\",\"type\":\"HoverTool\"},{\"attributes\":{\"plot\":null,\"text\":\"Uniform Distribution\"},\"id\":\"46c17549-2497-445b-be97-18d1b154cde4\",\"type\":\"Title\"},{\"attributes\":{\"plot\":{\"id\":\"c1d8238a-25d2-417f-941c-9ed890434f1d\",\"subtype\":\"Figure\",\"type\":\"Plot\"},\"ticker\":{\"id\":\"d0d157c3-9928-44aa-96c5-8cd386d6d20b\",\"type\":\"BasicTicker\"}},\"id\":\"4fb4722d-8e96-421c-9fd1-8d02e92e293f\",\"type\":\"Grid\"},{\"attributes\":{\"axis_label\":\"x\",\"formatter\":{\"id\":\"7793757e-025f-4b7f-b047-d8e612556397\",\"type\":\"BasicTickFormatter\"},\"plot\":{\"id\":\"c1d8238a-25d2-417f-941c-9ed890434f1d\",\"subtype\":\"Figure\",\"type\":\"Plot\"},\"ticker\":{\"id\":\"d0d157c3-9928-44aa-96c5-8cd386d6d20b\",\"type\":\"BasicTicker\"}},\"id\":\"765c65d3-e422-46c2-94b0-7fc8723e8eee\",\"type\":\"LinearAxis\"},{\"attributes\":{},\"id\":\"2cd6e94f-0e2f-464b-a633-6287ad5cbbcf\",\"type\":\"WheelZoomTool\"},{\"attributes\":{},\"id\":\"bd95d846-1047-4940-9b20-b12de8e01307\",\"type\":\"LinearScale\"},{\"attributes\":{},\"id\":\"370825cb-0b88-4c0e-bf0d-164978bc6c20\",\"type\":\"SaveTool\"},{\"attributes\":{},\"id\":\"b3d7f3a2-3f9d-478e-8be6-4bd832c4bda7\",\"type\":\"WheelZoomTool\"},{\"attributes\":{\"plot\":{\"id\":\"c644aa98-7153-4d3a-8125-547f5ed716cf\",\"subtype\":\"Figure\",\"type\":\"Plot\"},\"ticker\":{\"id\":\"ff1f77cc-e5d4-4696-99c7-c932ad588998\",\"type\":\"BasicTicker\"}},\"id\":\"7631df68-18dc-4c0b-9f99-aa75a5e725a8\",\"type\":\"Grid\"},{\"attributes\":{},\"id\":\"eca1ccb9-fb24-4928-949a-bab42cd7165f\",\"type\":\"LinearScale\"},{\"attributes\":{},\"id\":\"6ff59f83-0316-4c18-a22f-0e3afe4d0517\",\"type\":\"ResetTool\"},{\"attributes\":{\"axis_label\":\"x\",\"formatter\":{\"id\":\"b3e96fe3-2cb0-4f60-aa0b-16c7cedad85f\",\"type\":\"BasicTickFormatter\"},\"plot\":{\"id\":\"c644aa98-7153-4d3a-8125-547f5ed716cf\",\"subtype\":\"Figure\",\"type\":\"Plot\"},\"ticker\":{\"id\":\"ff1f77cc-e5d4-4696-99c7-c932ad588998\",\"type\":\"BasicTicker\"}},\"id\":\"74140aa5-d302-4fee-96de-1a878b0fa256\",\"type\":\"LinearAxis\"},{\"attributes\":{\"callback\":null,\"end\":1.05,\"start\":-0.05},\"id\":\"72a77de3-da34-4018-b513-2af00b646cb5\",\"type\":\"Range1d\"},{\"attributes\":{\"below\":[{\"id\":\"765c65d3-e422-46c2-94b0-7fc8723e8eee\",\"type\":\"LinearAxis\"}],\"left\":[{\"id\":\"4fa5a8f1-411c-49ad-826f-861b4751e742\",\"type\":\"LinearAxis\"}],\"plot_height\":300,\"plot_width\":400,\"renderers\":[{\"id\":\"765c65d3-e422-46c2-94b0-7fc8723e8eee\",\"type\":\"LinearAxis\"},{\"id\":\"4fb4722d-8e96-421c-9fd1-8d02e92e293f\",\"type\":\"Grid\"},{\"id\":\"4fa5a8f1-411c-49ad-826f-861b4751e742\",\"type\":\"LinearAxis\"},{\"id\":\"a47d0d75-e98d-4b61-b4dd-761cf2565504\",\"type\":\"Grid\"},{\"id\":\"d115e1ee-a4c2-4731-9c7f-7327bb782406\",\"type\":\"Legend\"},{\"id\":\"35aedd0f-86ea-4537-aabe-cb5faf7d2606\",\"type\":\"GlyphRenderer\"}],\"title\":{\"id\":\"46c17549-2497-445b-be97-18d1b154cde4\",\"type\":\"Title\"},\"toolbar\":{\"id\":\"b5218c5d-2f76-4dd1-a89f-11994c3e1597\",\"type\":\"Toolbar\"},\"x_range\":{\"id\":\"29d2bc09-9742-41ef-98ac-6e99ed7ddce7\",\"type\":\"Range1d\"},\"x_scale\":{\"id\":\"bd95d846-1047-4940-9b20-b12de8e01307\",\"type\":\"LinearScale\"},\"y_range\":{\"id\":\"3010ca67-99d5-45e4-befa-7637aad15c47\",\"type\":\"DataRange1d\"},\"y_scale\":{\"id\":\"bd67041f-e2be-47dd-95cc-268b38292c24\",\"type\":\"LinearScale\"}},\"id\":\"c1d8238a-25d2-417f-941c-9ed890434f1d\",\"subtype\":\"Figure\",\"type\":\"Plot\"},{\"attributes\":{\"active_drag\":\"auto\",\"active_inspect\":\"auto\",\"active_scroll\":\"auto\",\"active_tap\":\"auto\",\"tools\":[{\"id\":\"8cab1838-67b2-48a7-a7c0-7c08aa549c03\",\"type\":\"HoverTool\"},{\"id\":\"e7f79500-3b87-4ee3-a9a2-61f01d748962\",\"type\":\"PanTool\"},{\"id\":\"2cd6e94f-0e2f-464b-a633-6287ad5cbbcf\",\"type\":\"WheelZoomTool\"},{\"id\":\"6ff59f83-0316-4c18-a22f-0e3afe4d0517\",\"type\":\"ResetTool\"},{\"id\":\"370825cb-0b88-4c0e-bf0d-164978bc6c20\",\"type\":\"SaveTool\"}]},\"id\":\"5cd9bbb9-594a-415f-8b30-d172ed546093\",\"type\":\"Toolbar\"},{\"attributes\":{\"callback\":null,\"tooltips\":[[\"\",\"$y\"]]},\"id\":\"9f250cd9-77d7-44fb-bb22-558a33cc8ae2\",\"type\":\"HoverTool\"},{\"attributes\":{\"click_policy\":\"hide\",\"items\":[{\"id\":\"850a0906-f134-401c-9fb5-24d26a65b4c7\",\"type\":\"LegendItem\"}],\"plot\":{\"id\":\"c1d8238a-25d2-417f-941c-9ed890434f1d\",\"subtype\":\"Figure\",\"type\":\"Plot\"}},\"id\":\"d115e1ee-a4c2-4731-9c7f-7327bb782406\",\"type\":\"Legend\"},{\"attributes\":{},\"id\":\"05134609-a241-4132-bf83-37ec022741ef\",\"type\":\"PanTool\"},{\"attributes\":{\"dimension\":1,\"plot\":{\"id\":\"c1d8238a-25d2-417f-941c-9ed890434f1d\",\"subtype\":\"Figure\",\"type\":\"Plot\"},\"ticker\":{\"id\":\"c53d8b74-7a6f-41e7-9442-f05a5cee497a\",\"type\":\"BasicTicker\"}},\"id\":\"a47d0d75-e98d-4b61-b4dd-761cf2565504\",\"type\":\"Grid\"},{\"attributes\":{\"source\":{\"id\":\"042ca019-a6b8-443d-a010-c780c2392a61\",\"type\":\"ColumnDataSource\"}},\"id\":\"53d528ce-71f7-444a-8aee-7140f2e7a845\",\"type\":\"CDSView\"},{\"attributes\":{\"line_color\":\"dodgerblue\",\"line_width\":3,\"x\":{\"field\":\"x\"},\"y\":{\"field\":\"y\"}},\"id\":\"38fe68df-5782-4137-8281-3820792bfce6\",\"type\":\"Line\"},{\"attributes\":{},\"id\":\"c53d8b74-7a6f-41e7-9442-f05a5cee497a\",\"type\":\"BasicTicker\"},{\"attributes\":{\"below\":[{\"id\":\"74140aa5-d302-4fee-96de-1a878b0fa256\",\"type\":\"LinearAxis\"}],\"left\":[{\"id\":\"16b4fd42-d7e1-4798-a813-42e4bc76ddfe\",\"type\":\"LinearAxis\"}],\"plot_height\":300,\"plot_width\":400,\"renderers\":[{\"id\":\"74140aa5-d302-4fee-96de-1a878b0fa256\",\"type\":\"LinearAxis\"},{\"id\":\"7631df68-18dc-4c0b-9f99-aa75a5e725a8\",\"type\":\"Grid\"},{\"id\":\"16b4fd42-d7e1-4798-a813-42e4bc76ddfe\",\"type\":\"LinearAxis\"},{\"id\":\"ec24b663-82e8-4efe-8c98-ac16dafa23b4\",\"type\":\"Grid\"},{\"id\":\"dce82d33-8377-41bb-a9eb-6ef723965324\",\"type\":\"Legend\"},{\"id\":\"98e35164-ffe0-4c77-987a-52420ec22096\",\"type\":\"GlyphRenderer\"}],\"title\":{\"id\":\"65ef111e-cefd-4b22-b5ba-e9ffb3859b2c\",\"type\":\"Title\"},\"toolbar\":{\"id\":\"5cd9bbb9-594a-415f-8b30-d172ed546093\",\"type\":\"Toolbar\"},\"x_range\":{\"id\":\"2b42f12b-c4db-4e3a-af40-c1490a7ef4ae\",\"type\":\"Range1d\"},\"x_scale\":{\"id\":\"eca1ccb9-fb24-4928-949a-bab42cd7165f\",\"type\":\"LinearScale\"},\"y_range\":{\"id\":\"72a77de3-da34-4018-b513-2af00b646cb5\",\"type\":\"Range1d\"},\"y_scale\":{\"id\":\"af2fe327-d446-4cd7-ad0f-d9bd36507d13\",\"type\":\"LinearScale\"}},\"id\":\"c644aa98-7153-4d3a-8125-547f5ed716cf\",\"subtype\":\"Figure\",\"type\":\"Plot\"},{\"attributes\":{\"callback\":null,\"column_names\":[\"x\",\"y\"],\"data\":{\"x\":{\"__ndarray__\":\"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\",\"dtype\":\"float64\",\"shape\":[200]},\"y\":{\"__ndarray__\":\"AAAAAAAAAAAAAAAAAAAAAAAAAAAAAAAAAAAAAAAAAAAAAAAAAAAAAAAAAAAAAAAAAAAAAAAAAAAAAAAAAAAAAAAAAAAAAAAAAAAAAAAAAAAAAAAAAAAAAAAAAAAAAAAAAAAAAAAAAAAAAAAAAAAAAAAAAAAAAAAAAAAAAAAAAAAAAAAAAAAAAAAAAAAAAAAAAAAAAAAAAAAAAAAAAAAAAJqZmZmZmck/mpmZmZmZyT+amZmZmZnJP5qZmZmZmck/mpmZmZmZyT+amZmZmZnJP5qZmZmZmck/mpmZmZmZyT+amZmZmZnJP5qZmZmZmck/mpmZmZmZyT+amZmZmZnJP5qZmZmZmck/mpmZmZmZyT+amZmZmZnJP5qZmZmZmck/mpmZmZmZyT+amZmZmZnJP5qZmZmZmck/mpmZmZmZyT+amZmZmZnJP5qZmZmZmck/mpmZmZmZyT+amZmZmZnJP5qZmZmZmck/mpmZmZmZyT+amZmZmZnJP5qZmZmZmck/mpmZmZmZyT+amZmZmZnJP5qZmZmZmck/mpmZmZmZyT+amZmZmZnJP5qZmZmZmck/mpmZmZmZyT+amZmZmZnJP5qZmZmZmck/mpmZmZmZyT+amZmZmZnJP5qZmZmZmck/mpmZmZmZyT+amZmZmZnJP5qZmZmZmck/mpmZmZmZyT+amZmZmZnJP5qZmZmZmck/mpmZmZmZyT+amZmZmZnJP5qZmZmZmck/mpmZmZmZyT8AAAAAAAAAAAAAAAAAAAAAAAAAAAAAAAAAAAAAAAAAAAAAAAAAAAAAAAAAAAAAAAAAAAAAAAAAAAAAAAAAAAAAAAAAAAAAAAAAAAAAAAAAAAAAAAAAAAAAAAAAAAAAAAAAAAAAAAAAAAAAAAAAAAAAAAAAAAAAAAAAAAAAAAAAAAAAAAAAAAAAAAAAAAAAAAAAAAAAAAAAAAAAAAAAAAAAAAAAAAAAAAAAAAAAAAAAAAAAAAAAAAAAAAAAAAAAAAAAAAAAAAAAAAAAAAAAAAAAAAAAAAAAAAAAAAAAAAAAAAAAAAAAAAAAAAAAAAAAAAAAAAAAAAAAAAAAAAAAAAAAAAAAAAAAAAAAAAAAAAAAAAAAAAAAAAAAAAAAAAAAAAAAAAAAAAAAAAAAAAAAAAAAAAAAAAAAAAAAAAAAAAAAAAAAAAAAAAAAAAAAAAAAAAAAAAAAAAAAAAAAAAAAAAAAAAAAAAAAAAAAAAAAAAAAAAAAAAAAAAAAAAAAAAAAAAAAAAAAAAAAAAAAAAAAAAAAAAAAAAAAAAAAAAAAAAAAAAAAAAAAAAAAAAAAAAAAAAAAAAAAAAAAAAAAAAAAAAAAAAAAAAAAAAAAAAAAAAAAAAAAAAAAAAAAAAAAAAAAAAAAAAAAAAAAAAAAAAAAAAAAAAAAAAAAAAAAAAAAAAAAAAAAAAAAAAAAAAAAAAAAAAAAAAAAAAAAAAAAAAAAAAAAAAAAAAAAAAAAAAAAAAAAAAAAAAAAAAAAAAAAAAAAAAAAAAAAAAAAAAAAAAAAAAAAAAAAAAAAAAAAAAAAAAAAAAAAAAAAAAAAAAAAAAAAAAAAAAAAAAAAAAAAAAAAAAAAAAAAAAAAAAAAAAAAAAAAAAAAAAAAAAAAAAAAAAAAAAAAAAAAAAAAAAAAAAAAAAAAAAAAAAAAAAAAAAAAAAAAAAAAAAAAAAAAAAAAAAAAAAAAAAAAAAAAAAAAAAAAAAAAAAAAAAAAAAAAAAAAAAAAAAAAAAAAAAAAAAAAAAAAAAAAAAAAAAAAAAAAAAAAAAAAAAAAAAAAAAAAAAAAAAAAAAAAAAAAAAAAAAAAAAAAAAAAAAAAAAAAAAAAAAAAAAAAAAAAAAAAAAAAAAAAAAAAAAAAAAAAAAAAAAAAAAAAAAAAAAAAAAAAAAAAAAAAAAAAAAAAAAAAAAAAAAAAAAAAAAAAAAAAAAAAAAAAAAAAAAAAAAAAAAAAAAAAAAAAAAAAAAAAAAAAAAAAAAAAAAAAAAAAAAAAAAAAAAAAAAAAAAAAAAAAAAAAAAAAAAAAAAAAAAAAAAAAAAAAAAAAAAAAAAAAAAAAAAAAAAAAAAAAAAAAAAAAAAAAAAAAAAAAAAAAAAAAAAAAAAAAAAAAAAAAAA==\",\"dtype\":\"float64\",\"shape\":[200]}}},\"id\":\"aba09eda-7e35-4559-8864-d123cacf971c\",\"type\":\"ColumnDataSource\"}],\"root_ids\":[\"ab6d45e3-0ff6-48cc-9dc8-f172e2780e0d\"]},\"title\":\"Bokeh Application\",\"version\":\"0.12.13\"}};\n",
       "  var render_items = [{\"docid\":\"f76c536b-2ec3-474e-a736-5c4c33165ea7\",\"elementid\":\"91825f7f-b145-433d-9d4c-b82044bdf29e\",\"modelid\":\"ab6d45e3-0ff6-48cc-9dc8-f172e2780e0d\"}];\n",
       "  root.Bokeh.embed.embed_items_notebook(docs_json, render_items);\n",
       "\n",
       "  }\n",
       "  if (root.Bokeh !== undefined) {\n",
       "    embed_document(root);\n",
       "  } else {\n",
       "    var attempts = 0;\n",
       "    var timer = setInterval(function(root) {\n",
       "      if (root.Bokeh !== undefined) {\n",
       "        embed_document(root);\n",
       "        clearInterval(timer);\n",
       "      }\n",
       "      attempts++;\n",
       "      if (attempts > 100) {\n",
       "        console.log(\"Bokeh: ERROR: Unable to run BokehJS code because BokehJS library is missing\")\n",
       "        clearInterval(timer);\n",
       "      }\n",
       "    }, 10, root)\n",
       "  }\n",
       "})(window);"
      ],
      "application/vnd.bokehjs_exec.v0+json": ""
     },
     "metadata": {
      "application/vnd.bokehjs_exec.v0+json": {
       "id": "ab6d45e3-0ff6-48cc-9dc8-f172e2780e0d"
      }
     },
     "output_type": "display_data"
    }
   ],
   "source": [
    "from scipy.stats import uniform\n",
    "\n",
    "x = np.linspace(0, 20, 200)\n",
    "\n",
    "# Tools for plots\n",
    "tools='pan,wheel_zoom,reset,save'\n",
    "\n",
    "# Set up plots\n",
    "fig_1 = Figure(width=400, height=300, tools=[tools,HoverTool(tooltips=[\n",
    "                (\"\", \"$y\")\n",
    "                ])], title=\"Uniform Distribution\",x_range=(0, 20))\n",
    "fig_2 = Figure(width=400, height=300, tools=[tools,HoverTool(tooltips=[\n",
    "                (\"\", \"$y\")\n",
    "                ])], \n",
    "               y_range=[-0.05, 1.05],x_range=(0, 20))\n",
    "\n",
    "fig_1.xaxis.axis_label = 'x'\n",
    "fig_1.yaxis.axis_label = 'f(x,(2,7))' \n",
    "\n",
    "fig_2.xaxis.axis_label = 'x'\n",
    "fig_2.yaxis.axis_label = 'F(x,(2,7))'\n",
    "\n",
    "# Figure #1\n",
    "y1 = uniform.pdf(x,2,5)\n",
    "fig_1.line(x, y1, line_width=3, color='dodgerblue',legend=\"pdf\")\n",
    "\n",
    "fig_1.legend.location = \"top_right\"\n",
    "fig_1.legend.click_policy=\"hide\"\n",
    "\n",
    "#Figure #2\n",
    "y2 = uniform.cdf(x,2,5)\n",
    "fig_2.line(x, y2, line_width=3, color='dodgerblue',legend=\"cdf\")\n",
    "fig_2.legend.location = \"bottom_right\"\n",
    "\n",
    "show(row([fig_1, fig_2]))"
   ]
  },
  {
   "cell_type": "markdown",
   "metadata": {},
   "source": [
    "## Exponential Distribution"
   ]
  },
  {
   "cell_type": "markdown",
   "metadata": {},
   "source": [
    "$$\n",
    "\\begin{eqnarray*}\n",
    "P(X = x)  \\Leftrightarrow  f(x,\\lambda)  & = &\n",
    "\\begin{cases}\n",
    "               \\displaystyle \\lambda e^{-\\lambda x} \\ \\ \\ x \\geq 0\\\\\n",
    "               0 \\ \\ \\ \\textrm{caso contrário}\n",
    "\\end{cases}\\\\\n",
    "P(X \\leq x)  \\Leftrightarrow  F(x,\\lambda)  & = &\n",
    "\\begin{cases}\n",
    "               1 - e^{-\\lambda x} \\ \\ \\  x \\geq 0\\\\ \n",
    "               0 \\ \\ \\ \\textrm{caso contrário}\n",
    "\\end{cases}\n",
    "\\end{eqnarray*}\n",
    "$$"
   ]
  },
  {
   "cell_type": "code",
   "execution_count": 44,
   "metadata": {},
   "outputs": [
    {
     "data": {
      "text/html": [
       "\n",
       "<div class=\"bk-root\">\n",
       "    <div class=\"bk-plotdiv\" id=\"3341051e-6ce0-497a-8ec6-c54c44475a65\"></div>\n",
       "</div>"
      ]
     },
     "metadata": {},
     "output_type": "display_data"
    },
    {
     "data": {
      "application/javascript": [
       "(function(root) {\n",
       "  function embed_document(root) {\n",
       "    \n",
       "  var docs_json = {\"d8d05f86-c791-47c0-9c5c-a7eb5c973739\":{\"roots\":{\"references\":[{\"attributes\":{\"axis_label\":\"F(x,\\u03bb)\",\"formatter\":{\"id\":\"20827c24-0e53-4d80-a986-574c211195ca\",\"type\":\"BasicTickFormatter\"},\"plot\":{\"id\":\"f957032a-01c6-4051-b7c9-2b7e516e2972\",\"subtype\":\"Figure\",\"type\":\"Plot\"},\"ticker\":{\"id\":\"2e2744c9-9bea-41b2-9e14-da0175c94831\",\"type\":\"BasicTicker\"}},\"id\":\"e7ba7b43-684b-4a93-8a47-ff7a2d0d1f65\",\"type\":\"LinearAxis\"},{\"attributes\":{\"callback\":null,\"column_names\":[\"x\",\"y\"],\"data\":{\"x\":{\"__ndarray__\":\"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\",\"dtype\":\"float64\",\"shape\":[200]},\"y\":{\"__ndarray__\":\"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\",\"dtype\":\"float64\",\"shape\":[200]}}},\"id\":\"94859a47-d352-4f55-832d-8640f04ca84d\",\"type\":\"ColumnDataSource\"},{\"attributes\":{},\"id\":\"ec73ad4e-5aac-4b19-876a-b84ca7a6e303\",\"type\":\"PanTool\"},{\"attributes\":{\"line_color\":\"dodgerblue\",\"line_width\":3,\"x\":{\"field\":\"x\"},\"y\":{\"field\":\"y\"}},\"id\":\"1f08f0f1-4218-4a85-8525-00209b1b8205\",\"type\":\"Line\"},{\"attributes\":{},\"id\":\"23208743-bc35-4585-97c8-276c74a6c0e0\",\"type\":\"BasicTicker\"},{\"attributes\":{\"axis_label\":\"f(x,\\u03bb)\",\"formatter\":{\"id\":\"dca77cc9-321c-40f1-b069-d164020a0daa\",\"type\":\"BasicTickFormatter\"},\"plot\":{\"id\":\"f9c6dfa7-13d7-443a-85cf-23232fa5a21f\",\"subtype\":\"Figure\",\"type\":\"Plot\"},\"ticker\":{\"id\":\"303cdfa0-4d5f-4a2e-8357-d1e8c0f494ca\",\"type\":\"BasicTicker\"}},\"id\":\"19b30f1a-d9e5-44cf-a16f-de9dc4027088\",\"type\":\"LinearAxis\"},{\"attributes\":{},\"id\":\"2e2744c9-9bea-41b2-9e14-da0175c94831\",\"type\":\"BasicTicker\"},{\"attributes\":{\"line_color\":\"green\",\"line_width\":3,\"x\":{\"field\":\"x\"},\"y\":{\"field\":\"y\"}},\"id\":\"0312c27b-1948-483b-8eb1-7f628a8de13a\",\"type\":\"Line\"},{\"attributes\":{\"label\":{\"value\":\"\\u03bb=0.001\"},\"renderers\":[{\"id\":\"bc407bd9-f569-4302-a6d2-cc85569d732d\",\"type\":\"GlyphRenderer\"}]},\"id\":\"cfe34e27-359f-4416-a0e2-fd1bbf328304\",\"type\":\"LegendItem\"},{\"attributes\":{},\"id\":\"20827c24-0e53-4d80-a986-574c211195ca\",\"type\":\"BasicTickFormatter\"},{\"attributes\":{\"click_policy\":\"hide\",\"items\":[{\"id\":\"cfe34e27-359f-4416-a0e2-fd1bbf328304\",\"type\":\"LegendItem\"},{\"id\":\"0fde0614-51dd-4908-aa16-e8b8d4a76f9c\",\"type\":\"LegendItem\"},{\"id\":\"74f29086-7638-4ee0-ab1c-1f2349951779\",\"type\":\"LegendItem\"}],\"plot\":{\"id\":\"f9c6dfa7-13d7-443a-85cf-23232fa5a21f\",\"subtype\":\"Figure\",\"type\":\"Plot\"}},\"id\":\"7e59438a-9dbb-4695-a75a-aaf8df41612e\",\"type\":\"Legend\"},{\"attributes\":{\"data_source\":{\"id\":\"b992b48c-57a7-4045-b78e-0c2fdb70d50d\",\"type\":\"ColumnDataSource\"},\"glyph\":{\"id\":\"0312c27b-1948-483b-8eb1-7f628a8de13a\",\"type\":\"Line\"},\"hover_glyph\":null,\"muted_glyph\":null,\"nonselection_glyph\":{\"id\":\"186f9b6d-a663-48f1-b8c8-cda9912b45a1\",\"type\":\"Line\"},\"selection_glyph\":null,\"view\":{\"id\":\"2ff280fa-e8a7-404f-87bf-f10fe9ca263a\",\"type\":\"CDSView\"}},\"id\":\"cc2ad5d9-ebc7-4985-a908-85b5cb587ea2\",\"type\":\"GlyphRenderer\"},{\"attributes\":{\"data_source\":{\"id\":\"1e3f21ce-8467-4f11-af79-eb6c9d208a3b\",\"type\":\"ColumnDataSource\"},\"glyph\":{\"id\":\"1f08f0f1-4218-4a85-8525-00209b1b8205\",\"type\":\"Line\"},\"hover_glyph\":null,\"muted_glyph\":null,\"nonselection_glyph\":{\"id\":\"067320b8-61f9-42d7-8221-7fed59e3792b\",\"type\":\"Line\"},\"selection_glyph\":null,\"view\":{\"id\":\"d75a2e87-189f-48eb-a995-dedddac495a4\",\"type\":\"CDSView\"}},\"id\":\"bc407bd9-f569-4302-a6d2-cc85569d732d\",\"type\":\"GlyphRenderer\"},{\"attributes\":{\"active_drag\":\"auto\",\"active_inspect\":\"auto\",\"active_scroll\":\"auto\",\"active_tap\":\"auto\",\"tools\":[{\"id\":\"54dcb2dd-0813-40c6-91ff-d6d3af1e10dd\",\"type\":\"HoverTool\"},{\"id\":\"faeaea17-240d-40b8-9747-466af2bd9be7\",\"type\":\"PanTool\"},{\"id\":\"612d8e09-870a-4827-b0f5-5ea4960e153c\",\"type\":\"WheelZoomTool\"},{\"id\":\"bbfe7d8f-0031-402a-8c1d-31cc6493b670\",\"type\":\"ResetTool\"},{\"id\":\"9dc80f8f-9227-4999-8c57-80efb09c9903\",\"type\":\"SaveTool\"}]},\"id\":\"538bb08a-80a3-4820-8a39-3cacd236f21c\",\"type\":\"Toolbar\"},{\"attributes\":{\"callback\":null,\"end\":1.05,\"start\":-0.05},\"id\":\"dd0f15be-f8bb-45de-82c8-f964775bfcbb\",\"type\":\"Range1d\"},{\"attributes\":{\"line_alpha\":0.1,\"line_color\":\"#1f77b4\",\"line_width\":3,\"x\":{\"field\":\"x\"},\"y\":{\"field\":\"y\"}},\"id\":\"186f9b6d-a663-48f1-b8c8-cda9912b45a1\",\"type\":\"Line\"},{\"attributes\":{\"source\":{\"id\":\"94859a47-d352-4f55-832d-8640f04ca84d\",\"type\":\"ColumnDataSource\"}},\"id\":\"4208e4c7-d607-4ad6-8a8c-62ac9edaa177\",\"type\":\"CDSView\"},{\"attributes\":{\"callback\":null},\"id\":\"97583b02-436b-446f-ab71-251c5934f495\",\"type\":\"DataRange1d\"},{\"attributes\":{\"items\":[{\"id\":\"ec554483-f316-4a13-97af-835179a339ea\",\"type\":\"LegendItem\"},{\"id\":\"b95c9aed-83fc-4df9-81db-fdc3c09eeddc\",\"type\":\"LegendItem\"},{\"id\":\"1ad531b0-f8cd-4cbf-a29a-51338dd961d0\",\"type\":\"LegendItem\"}],\"location\":\"bottom_right\",\"plot\":{\"id\":\"f957032a-01c6-4051-b7c9-2b7e516e2972\",\"subtype\":\"Figure\",\"type\":\"Plot\"}},\"id\":\"2f97cefd-66a7-4a95-b23e-e2ed65b5e5b7\",\"type\":\"Legend\"},{\"attributes\":{\"callback\":null,\"column_names\":[\"x\",\"y\"],\"data\":{\"x\":{\"__ndarray__\":\"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\",\"dtype\":\"float64\",\"shape\":[200]},\"y\":{\"__ndarray__\":\"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\",\"dtype\":\"float64\",\"shape\":[200]}}},\"id\":\"1e3f21ce-8467-4f11-af79-eb6c9d208a3b\",\"type\":\"ColumnDataSource\"},{\"attributes\":{\"source\":{\"id\":\"b992b48c-57a7-4045-b78e-0c2fdb70d50d\",\"type\":\"ColumnDataSource\"}},\"id\":\"2ff280fa-e8a7-404f-87bf-f10fe9ca263a\",\"type\":\"CDSView\"},{\"attributes\":{},\"id\":\"faeaea17-240d-40b8-9747-466af2bd9be7\",\"type\":\"PanTool\"},{\"attributes\":{\"children\":[{\"id\":\"f9c6dfa7-13d7-443a-85cf-23232fa5a21f\",\"subtype\":\"Figure\",\"type\":\"Plot\"},{\"id\":\"f957032a-01c6-4051-b7c9-2b7e516e2972\",\"subtype\":\"Figure\",\"type\":\"Plot\"}]},\"id\":\"39e68ccb-8ed5-42e1-9b28-1c8664c4721b\",\"type\":\"Row\"},{\"attributes\":{\"line_alpha\":0.1,\"line_color\":\"#1f77b4\",\"line_width\":3,\"x\":{\"field\":\"x\"},\"y\":{\"field\":\"y\"}},\"id\":\"067320b8-61f9-42d7-8221-7fed59e3792b\",\"type\":\"Line\"},{\"attributes\":{\"callback\":null,\"tooltips\":[[\"\",\"($x,$y)\"]]},\"id\":\"af63d2ad-2e16-43d1-92ab-40f41a907e8a\",\"type\":\"HoverTool\"},{\"attributes\":{\"axis_label\":\"x\",\"formatter\":{\"id\":\"92bb9115-ee9c-46f1-8e4c-e5f11dd34cf2\",\"type\":\"BasicTickFormatter\"},\"plot\":{\"id\":\"f957032a-01c6-4051-b7c9-2b7e516e2972\",\"subtype\":\"Figure\",\"type\":\"Plot\"},\"ticker\":{\"id\":\"23208743-bc35-4585-97c8-276c74a6c0e0\",\"type\":\"BasicTicker\"}},\"id\":\"adffae98-2328-4a54-b9e3-fb1d3b27c8fe\",\"type\":\"LinearAxis\"},{\"attributes\":{\"label\":{\"value\":\"\\u03bb=0.0002\"},\"renderers\":[{\"id\":\"cc2ad5d9-ebc7-4985-a908-85b5cb587ea2\",\"type\":\"GlyphRenderer\"}]},\"id\":\"1ad531b0-f8cd-4cbf-a29a-51338dd961d0\",\"type\":\"LegendItem\"},{\"attributes\":{\"data_source\":{\"id\":\"8843da5d-fefd-46b4-98ff-6c9058b959b1\",\"type\":\"ColumnDataSource\"},\"glyph\":{\"id\":\"077de582-6bff-4199-a832-931569f7b5db\",\"type\":\"Line\"},\"hover_glyph\":null,\"muted_glyph\":null,\"nonselection_glyph\":{\"id\":\"c365db22-1695-4f75-b53c-32e4f63c1f48\",\"type\":\"Line\"},\"selection_glyph\":null,\"view\":{\"id\":\"ad3d61e1-e00a-4c0e-bc41-1288808f6bca\",\"type\":\"CDSView\"}},\"id\":\"ae66385c-6948-440d-aeb1-94b8fffe834d\",\"type\":\"GlyphRenderer\"},{\"attributes\":{},\"id\":\"83fc7f29-7560-47af-b25e-0f849ade2c4b\",\"type\":\"WheelZoomTool\"},{\"attributes\":{\"plot\":{\"id\":\"f957032a-01c6-4051-b7c9-2b7e516e2972\",\"subtype\":\"Figure\",\"type\":\"Plot\"},\"ticker\":{\"id\":\"23208743-bc35-4585-97c8-276c74a6c0e0\",\"type\":\"BasicTicker\"}},\"id\":\"10591c1e-7640-4030-8571-edbd00c672a2\",\"type\":\"Grid\"},{\"attributes\":{\"source\":{\"id\":\"8843da5d-fefd-46b4-98ff-6c9058b959b1\",\"type\":\"ColumnDataSource\"}},\"id\":\"ad3d61e1-e00a-4c0e-bc41-1288808f6bca\",\"type\":\"CDSView\"},{\"attributes\":{},\"id\":\"006c0937-c08e-4172-9dc4-27a98b2b8405\",\"type\":\"ResetTool\"},{\"attributes\":{\"line_color\":\"red\",\"line_width\":3,\"x\":{\"field\":\"x\"},\"y\":{\"field\":\"y\"}},\"id\":\"077de582-6bff-4199-a832-931569f7b5db\",\"type\":\"Line\"},{\"attributes\":{},\"id\":\"bbfe7d8f-0031-402a-8c1d-31cc6493b670\",\"type\":\"ResetTool\"},{\"attributes\":{\"line_color\":\"red\",\"line_width\":3,\"x\":{\"field\":\"x\"},\"y\":{\"field\":\"y\"}},\"id\":\"ebf5305d-8274-42d2-9a4c-189f408e7555\",\"type\":\"Line\"},{\"attributes\":{\"label\":{\"value\":\"\\u03bb=0.0001\"},\"renderers\":[{\"id\":\"ae66385c-6948-440d-aeb1-94b8fffe834d\",\"type\":\"GlyphRenderer\"}]},\"id\":\"b95c9aed-83fc-4df9-81db-fdc3c09eeddc\",\"type\":\"LegendItem\"},{\"attributes\":{\"line_color\":\"dodgerblue\",\"line_width\":3,\"x\":{\"field\":\"x\"},\"y\":{\"field\":\"y\"}},\"id\":\"2f2a902a-5a6d-40b5-b456-43ef78a8883a\",\"type\":\"Line\"},{\"attributes\":{\"callback\":null},\"id\":\"86f19888-988d-47fc-8e6b-5a6ef02de33d\",\"type\":\"DataRange1d\"},{\"attributes\":{\"label\":{\"value\":\"\\u03bb=0.001\"},\"renderers\":[{\"id\":\"2fdb95fc-669f-45dd-bf13-ca86706f410e\",\"type\":\"GlyphRenderer\"}]},\"id\":\"ec554483-f316-4a13-97af-835179a339ea\",\"type\":\"LegendItem\"},{\"attributes\":{\"active_drag\":\"auto\",\"active_inspect\":\"auto\",\"active_scroll\":\"auto\",\"active_tap\":\"auto\",\"tools\":[{\"id\":\"af63d2ad-2e16-43d1-92ab-40f41a907e8a\",\"type\":\"HoverTool\"},{\"id\":\"ec73ad4e-5aac-4b19-876a-b84ca7a6e303\",\"type\":\"PanTool\"},{\"id\":\"83fc7f29-7560-47af-b25e-0f849ade2c4b\",\"type\":\"WheelZoomTool\"},{\"id\":\"006c0937-c08e-4172-9dc4-27a98b2b8405\",\"type\":\"ResetTool\"},{\"id\":\"f7b6c203-77d8-449e-81c5-564701ae4b35\",\"type\":\"SaveTool\"}]},\"id\":\"a59568c7-87ad-465d-957f-d11e8c5cca52\",\"type\":\"Toolbar\"},{\"attributes\":{\"callback\":null,\"column_names\":[\"x\",\"y\"],\"data\":{\"x\":{\"__ndarray__\":\"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\",\"dtype\":\"float64\",\"shape\":[200]},\"y\":{\"__ndarray__\":\"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\",\"dtype\":\"float64\",\"shape\":[200]}}},\"id\":\"b992b48c-57a7-4045-b78e-0c2fdb70d50d\",\"type\":\"ColumnDataSource\"},{\"attributes\":{\"below\":[{\"id\":\"adffae98-2328-4a54-b9e3-fb1d3b27c8fe\",\"type\":\"LinearAxis\"}],\"left\":[{\"id\":\"e7ba7b43-684b-4a93-8a47-ff7a2d0d1f65\",\"type\":\"LinearAxis\"}],\"plot_height\":300,\"plot_width\":400,\"renderers\":[{\"id\":\"adffae98-2328-4a54-b9e3-fb1d3b27c8fe\",\"type\":\"LinearAxis\"},{\"id\":\"10591c1e-7640-4030-8571-edbd00c672a2\",\"type\":\"Grid\"},{\"id\":\"e7ba7b43-684b-4a93-8a47-ff7a2d0d1f65\",\"type\":\"LinearAxis\"},{\"id\":\"7d9baa02-9459-4754-9f40-a7b159b6dcc5\",\"type\":\"Grid\"},{\"id\":\"2f97cefd-66a7-4a95-b23e-e2ed65b5e5b7\",\"type\":\"Legend\"},{\"id\":\"2fdb95fc-669f-45dd-bf13-ca86706f410e\",\"type\":\"GlyphRenderer\"},{\"id\":\"ae66385c-6948-440d-aeb1-94b8fffe834d\",\"type\":\"GlyphRenderer\"},{\"id\":\"cc2ad5d9-ebc7-4985-a908-85b5cb587ea2\",\"type\":\"GlyphRenderer\"}],\"title\":{\"id\":\"0c4c3990-f718-40fe-91e9-65acb41695b1\",\"type\":\"Title\"},\"toolbar\":{\"id\":\"538bb08a-80a3-4820-8a39-3cacd236f21c\",\"type\":\"Toolbar\"},\"x_range\":{\"id\":\"97583b02-436b-446f-ab71-251c5934f495\",\"type\":\"DataRange1d\"},\"x_scale\":{\"id\":\"766a5cd2-f796-4a77-a538-2f9313e32e8f\",\"type\":\"LinearScale\"},\"y_range\":{\"id\":\"dd0f15be-f8bb-45de-82c8-f964775bfcbb\",\"type\":\"Range1d\"},\"y_scale\":{\"id\":\"d34b418c-3081-4f30-b0d0-d4801bec1261\",\"type\":\"LinearScale\"}},\"id\":\"f957032a-01c6-4051-b7c9-2b7e516e2972\",\"subtype\":\"Figure\",\"type\":\"Plot\"},{\"attributes\":{\"below\":[{\"id\":\"9daa5c6a-e6a1-4d9a-aef6-0b277385fe9a\",\"type\":\"LinearAxis\"}],\"left\":[{\"id\":\"19b30f1a-d9e5-44cf-a16f-de9dc4027088\",\"type\":\"LinearAxis\"}],\"plot_height\":300,\"plot_width\":400,\"renderers\":[{\"id\":\"9daa5c6a-e6a1-4d9a-aef6-0b277385fe9a\",\"type\":\"LinearAxis\"},{\"id\":\"1ff908f9-4c71-49d0-8607-bdc70d675bf2\",\"type\":\"Grid\"},{\"id\":\"19b30f1a-d9e5-44cf-a16f-de9dc4027088\",\"type\":\"LinearAxis\"},{\"id\":\"694f2762-c4f5-4b87-a54f-0e7f42c7eff8\",\"type\":\"Grid\"},{\"id\":\"7e59438a-9dbb-4695-a75a-aaf8df41612e\",\"type\":\"Legend\"},{\"id\":\"bc407bd9-f569-4302-a6d2-cc85569d732d\",\"type\":\"GlyphRenderer\"},{\"id\":\"02d8bdba-d861-4530-b4af-032b2efa4724\",\"type\":\"GlyphRenderer\"},{\"id\":\"ed9a6235-61f4-4d1f-b0d1-3d826fb170c7\",\"type\":\"GlyphRenderer\"}],\"title\":{\"id\":\"f5540008-f434-4b1d-9e29-f51d5eeb9383\",\"type\":\"Title\"},\"toolbar\":{\"id\":\"a59568c7-87ad-465d-957f-d11e8c5cca52\",\"type\":\"Toolbar\"},\"x_range\":{\"id\":\"86f19888-988d-47fc-8e6b-5a6ef02de33d\",\"type\":\"DataRange1d\"},\"x_scale\":{\"id\":\"1f2b46ce-1f73-4136-866b-5703186590ab\",\"type\":\"LinearScale\"},\"y_range\":{\"id\":\"99df0e25-f14f-485c-ab97-66128a918661\",\"type\":\"DataRange1d\"},\"y_scale\":{\"id\":\"2d9457d5-a437-4f19-bda5-72932b5bb3bb\",\"type\":\"LinearScale\"}},\"id\":\"f9c6dfa7-13d7-443a-85cf-23232fa5a21f\",\"subtype\":\"Figure\",\"type\":\"Plot\"},{\"attributes\":{\"plot\":null,\"text\":\"Exponential Distribution\"},\"id\":\"f5540008-f434-4b1d-9e29-f51d5eeb9383\",\"type\":\"Title\"},{\"attributes\":{\"dimension\":1,\"plot\":{\"id\":\"f9c6dfa7-13d7-443a-85cf-23232fa5a21f\",\"subtype\":\"Figure\",\"type\":\"Plot\"},\"ticker\":{\"id\":\"303cdfa0-4d5f-4a2e-8357-d1e8c0f494ca\",\"type\":\"BasicTicker\"}},\"id\":\"694f2762-c4f5-4b87-a54f-0e7f42c7eff8\",\"type\":\"Grid\"},{\"attributes\":{\"callback\":null},\"id\":\"99df0e25-f14f-485c-ab97-66128a918661\",\"type\":\"DataRange1d\"},{\"attributes\":{},\"id\":\"303cdfa0-4d5f-4a2e-8357-d1e8c0f494ca\",\"type\":\"BasicTicker\"},{\"attributes\":{\"plot\":{\"id\":\"f9c6dfa7-13d7-443a-85cf-23232fa5a21f\",\"subtype\":\"Figure\",\"type\":\"Plot\"},\"ticker\":{\"id\":\"8a975c0d-8231-4ad0-9c7c-49030008413e\",\"type\":\"BasicTicker\"}},\"id\":\"1ff908f9-4c71-49d0-8607-bdc70d675bf2\",\"type\":\"Grid\"},{\"attributes\":{\"line_alpha\":0.1,\"line_color\":\"#1f77b4\",\"line_width\":3,\"x\":{\"field\":\"x\"},\"y\":{\"field\":\"y\"}},\"id\":\"c365db22-1695-4f75-b53c-32e4f63c1f48\",\"type\":\"Line\"},{\"attributes\":{},\"id\":\"92bb9115-ee9c-46f1-8e4c-e5f11dd34cf2\",\"type\":\"BasicTickFormatter\"},{\"attributes\":{},\"id\":\"1f2b46ce-1f73-4136-866b-5703186590ab\",\"type\":\"LinearScale\"},{\"attributes\":{},\"id\":\"2d9457d5-a437-4f19-bda5-72932b5bb3bb\",\"type\":\"LinearScale\"},{\"attributes\":{\"axis_label\":\"x\",\"formatter\":{\"id\":\"e2523e8b-e9d6-44ba-a840-d98d88c130ed\",\"type\":\"BasicTickFormatter\"},\"plot\":{\"id\":\"f9c6dfa7-13d7-443a-85cf-23232fa5a21f\",\"subtype\":\"Figure\",\"type\":\"Plot\"},\"ticker\":{\"id\":\"8a975c0d-8231-4ad0-9c7c-49030008413e\",\"type\":\"BasicTicker\"}},\"id\":\"9daa5c6a-e6a1-4d9a-aef6-0b277385fe9a\",\"type\":\"LinearAxis\"},{\"attributes\":{\"dimension\":1,\"plot\":{\"id\":\"f957032a-01c6-4051-b7c9-2b7e516e2972\",\"subtype\":\"Figure\",\"type\":\"Plot\"},\"ticker\":{\"id\":\"2e2744c9-9bea-41b2-9e14-da0175c94831\",\"type\":\"BasicTicker\"}},\"id\":\"7d9baa02-9459-4754-9f40-a7b159b6dcc5\",\"type\":\"Grid\"},{\"attributes\":{\"data_source\":{\"id\":\"07519dfa-e4e6-4608-9c57-c21bbefafdeb\",\"type\":\"ColumnDataSource\"},\"glyph\":{\"id\":\"2f2a902a-5a6d-40b5-b456-43ef78a8883a\",\"type\":\"Line\"},\"hover_glyph\":null,\"muted_glyph\":null,\"nonselection_glyph\":{\"id\":\"83bfd886-17c8-4880-a3f1-d569381de4d0\",\"type\":\"Line\"},\"selection_glyph\":null,\"view\":{\"id\":\"25416cce-da4d-407f-afa1-6c2d1e49b56f\",\"type\":\"CDSView\"}},\"id\":\"2fdb95fc-669f-45dd-bf13-ca86706f410e\",\"type\":\"GlyphRenderer\"},{\"attributes\":{},\"id\":\"612d8e09-870a-4827-b0f5-5ea4960e153c\",\"type\":\"WheelZoomTool\"},{\"attributes\":{},\"id\":\"e2523e8b-e9d6-44ba-a840-d98d88c130ed\",\"type\":\"BasicTickFormatter\"},{\"attributes\":{},\"id\":\"dca77cc9-321c-40f1-b069-d164020a0daa\",\"type\":\"BasicTickFormatter\"},{\"attributes\":{\"callback\":null,\"column_names\":[\"x\",\"y\"],\"data\":{\"x\":{\"__ndarray__\":\"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\",\"dtype\":\"float64\",\"shape\":[200]},\"y\":{\"__ndarray__\":\"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\",\"dtype\":\"float64\",\"shape\":[200]}}},\"id\":\"732e4fa8-b263-4841-864f-f44fbcb77278\",\"type\":\"ColumnDataSource\"},{\"attributes\":{\"data_source\":{\"id\":\"94859a47-d352-4f55-832d-8640f04ca84d\",\"type\":\"ColumnDataSource\"},\"glyph\":{\"id\":\"ebf5305d-8274-42d2-9a4c-189f408e7555\",\"type\":\"Line\"},\"hover_glyph\":null,\"muted_glyph\":null,\"nonselection_glyph\":{\"id\":\"08fe504b-7437-4847-901d-5d51d6d23583\",\"type\":\"Line\"},\"selection_glyph\":null,\"view\":{\"id\":\"4208e4c7-d607-4ad6-8a8c-62ac9edaa177\",\"type\":\"CDSView\"}},\"id\":\"02d8bdba-d861-4530-b4af-032b2efa4724\",\"type\":\"GlyphRenderer\"},{\"attributes\":{\"label\":{\"value\":\"\\u03bb=0.0001\"},\"renderers\":[{\"id\":\"02d8bdba-d861-4530-b4af-032b2efa4724\",\"type\":\"GlyphRenderer\"}]},\"id\":\"0fde0614-51dd-4908-aa16-e8b8d4a76f9c\",\"type\":\"LegendItem\"},{\"attributes\":{},\"id\":\"d34b418c-3081-4f30-b0d0-d4801bec1261\",\"type\":\"LinearScale\"},{\"attributes\":{\"callback\":null,\"tooltips\":[[\"\",\"($x,$y)\"]]},\"id\":\"54dcb2dd-0813-40c6-91ff-d6d3af1e10dd\",\"type\":\"HoverTool\"},{\"attributes\":{\"plot\":null,\"text\":\"\"},\"id\":\"0c4c3990-f718-40fe-91e9-65acb41695b1\",\"type\":\"Title\"},{\"attributes\":{},\"id\":\"f7b6c203-77d8-449e-81c5-564701ae4b35\",\"type\":\"SaveTool\"},{\"attributes\":{\"line_alpha\":0.1,\"line_color\":\"#1f77b4\",\"line_width\":3,\"x\":{\"field\":\"x\"},\"y\":{\"field\":\"y\"}},\"id\":\"d72abdc7-9061-4586-9422-54e6096db7c8\",\"type\":\"Line\"},{\"attributes\":{\"data_source\":{\"id\":\"732e4fa8-b263-4841-864f-f44fbcb77278\",\"type\":\"ColumnDataSource\"},\"glyph\":{\"id\":\"ea0f3841-c991-4730-8c43-580023403b1a\",\"type\":\"Line\"},\"hover_glyph\":null,\"muted_glyph\":null,\"nonselection_glyph\":{\"id\":\"d72abdc7-9061-4586-9422-54e6096db7c8\",\"type\":\"Line\"},\"selection_glyph\":null,\"view\":{\"id\":\"b2e055c0-268a-423b-9fe0-52a387967096\",\"type\":\"CDSView\"}},\"id\":\"ed9a6235-61f4-4d1f-b0d1-3d826fb170c7\",\"type\":\"GlyphRenderer\"},{\"attributes\":{\"line_alpha\":0.1,\"line_color\":\"#1f77b4\",\"line_width\":3,\"x\":{\"field\":\"x\"},\"y\":{\"field\":\"y\"}},\"id\":\"08fe504b-7437-4847-901d-5d51d6d23583\",\"type\":\"Line\"},{\"attributes\":{\"source\":{\"id\":\"1e3f21ce-8467-4f11-af79-eb6c9d208a3b\",\"type\":\"ColumnDataSource\"}},\"id\":\"d75a2e87-189f-48eb-a995-dedddac495a4\",\"type\":\"CDSView\"},{\"attributes\":{\"callback\":null,\"column_names\":[\"x\",\"y\"],\"data\":{\"x\":{\"__ndarray__\":\"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\",\"dtype\":\"float64\",\"shape\":[200]},\"y\":{\"__ndarray__\":\"AAAAAAAAAABtnvhOAoh0PztIAgrWeoQ/uE/ijo+kjj+a+t1Dn2CUP0jkTNh5aJk/3oUG2N9pnj8yUNLFbLKhPznlj5i3LKQ/84nufdSjpj8izF2KxxepP8z/EM2UiKs/BPcFUED2rT+K2AUMZzCwP4mAZBIhZLE//JVhOFCWsj8JP7J49sazPyZsgcsV9rQ/YRpzJrAjtj+Qkad8x0+3P1ievr5derg/Csja2nSjuT9bgqS8Dsu6PxRbTU0t8bs/oyOTc9IVvT+XFsMTADm+PyT5vA+4Wr8/Sxx7I349wD/fgT5L58zAPz6wfWyYW8E/nR5dc5LpwT9FP9JK1nbCP2cEpdxkA8M/AmNxET+Pwz/R06jQZRrEP1jSkwDapMQ/7llThpwuxT/8YOJFrrfFP0FSFyIQQMY/N4Sl/MLHxj+Xrh62x07HP/ld9C0f1cc/qmV5QspayD+FT+PQyd/IPxPKS7UeZMk/zhSyysnnyT+Cavzqy2rKP/Rp+e4l7co/nnxhrthuyz+9O9j/5O/LP4HT7bhLcMw/dmQgrg3wzD86Y92yK2/NP0z2gpmm7c0/SlJhM39rzj83FLxQtujOP0eay8BMZc8/r1q+UUPhzz94HF1oTS7QP6Ls7gSqa9A/QPkg5Leo0D8RT/1qd+XQP19TDP7oIdE/YWpVAQ1e0T/CnF/Y45nRP1o8MuZt1dE/C4hVjasQ0j/ZTtMvnUvSPx+SNy9DhtI/AyeR7J3A0j8XV3LIrfrSPymA8SJzNNM/PbOpW+5t0z/VUrvRH6fTP1mwzOMH4NM/sKgK8KYY1D8tQClU/VDUP4o9ZG0LidQ/RsR/mNHA1D8h7sgxUPjUP+BjFpWHL9U/RPXIHXhm1T9KMMwmIp3VP5r3lgqG09U/RxgsI6QJ1j+33hrKfD/WP+eqf1gQddY/3oMEJ1+q1j9mquGNad/WPxEr3uQvFNc/b29Qg7JI1z+vzh7A8XzXP1UdwPHtsNc/YTw8bqfk1z+upyyLHhjYP48DvZ1TS9g/0qmr+kZ+2D/0NUr2+LDYP6oQfuRp49g/xPrAGJoV2T9ClyHmiUfZP9b0Q585edk/mhZilqmq2T82fEwd2tvZPzCpaoXLDNo/squ7H3492j+SotY88m3aP65C6ywonto/oFvCPyDO2j/KW77E2v3aP7LT2wpYLds/uvixYJhc2z84J3MUnIvbP85j7XNjuts/OtyKzO7o2z9wZ1JrPhfcPxAF6JxSRdw/PlyNrStz3D/WOSLpyaDcP/gNJZstztw/+mizDlf73D+6d4qORijdP0x/B2X8VN0/BFgo3HiB3T/054s9vK3dP76cctLG2d0/zOS+45gF3j/qp/W5MjHeP1a/Pp2UXN4/HG1l1b6H3j/s0tipsbLeP1JorGFt3d4/VHCYQ/IH3z9+bvqVQDLfP06b1Z5YXN8/HljTozqG3z9aokPq5q/fP0aGHbdd2d8/jMh/p08B4D9EIRj71RXgP+Y+T/hBKuA/BP3wwJM+4D8Q2Z12y1LgPwwqyzrpZuA/4FfDLu164D90EqZz147gP4SIaCqoouA/Jp7Vc1+24D8WI45w/cngP6wICUGC3eA/nZeTBe7w4D9vpVHeQAThP6TJPet6F+E/rpIpTJwq4T+Qur0gpT3hP0hbeoiVUOE/7CK3om1j4T+Nh6OOLXbhP836RmvViOE/QR2BV2Wb4T+A8Qly3a3hP/4Octk9wOE/o9QirIbS4T8Ym14IuOThP+LmQAzS9uE/Mpq+1dQI4j92JqaCwBriP7K9nzCVLOI/kIMt/VI+4j82vqsF+k/iP+IGUWeKYeI/N3ouPwRz4j9m6C+qZ4TiP/8EHMW0leI/lpaUrOum4j8gphZ9DLjiPyKu+lIXyeI/kMl0Sgza4j984pR/6+riP4zgRg61++I/KNdSEmkM4z94M12nBx3jPyPq5uiQLeM/0aRN8gQ+4z9178veY07jP2BlecmtXuM/E95KzeJu4z/cmRIFA3/jPzlugIsOj+M/BPIhewWf4z9mqWLu567jP4YxjP+1vuM/FmzGyG/O4z+YqhdkFd7jP2rZZOum7eM/qqpxeCT94z/RwOAkjgzkPyTZMwrkG+Q/6PXLQSYr5D9kiOnkVDrkPw==\",\"dtype\":\"float64\",\"shape\":[200]}}},\"id\":\"8843da5d-fefd-46b4-98ff-6c9058b959b1\",\"type\":\"ColumnDataSource\"},{\"attributes\":{\"line_color\":\"green\",\"line_width\":3,\"x\":{\"field\":\"x\"},\"y\":{\"field\":\"y\"}},\"id\":\"ea0f3841-c991-4730-8c43-580023403b1a\",\"type\":\"Line\"},{\"attributes\":{\"source\":{\"id\":\"07519dfa-e4e6-4608-9c57-c21bbefafdeb\",\"type\":\"ColumnDataSource\"}},\"id\":\"25416cce-da4d-407f-afa1-6c2d1e49b56f\",\"type\":\"CDSView\"},{\"attributes\":{\"line_alpha\":0.1,\"line_color\":\"#1f77b4\",\"line_width\":3,\"x\":{\"field\":\"x\"},\"y\":{\"field\":\"y\"}},\"id\":\"83bfd886-17c8-4880-a3f1-d569381de4d0\",\"type\":\"Line\"},{\"attributes\":{},\"id\":\"766a5cd2-f796-4a77-a538-2f9313e32e8f\",\"type\":\"LinearScale\"},{\"attributes\":{\"source\":{\"id\":\"732e4fa8-b263-4841-864f-f44fbcb77278\",\"type\":\"ColumnDataSource\"}},\"id\":\"b2e055c0-268a-423b-9fe0-52a387967096\",\"type\":\"CDSView\"},{\"attributes\":{},\"id\":\"9dc80f8f-9227-4999-8c57-80efb09c9903\",\"type\":\"SaveTool\"},{\"attributes\":{\"callback\":null,\"column_names\":[\"x\",\"y\"],\"data\":{\"x\":{\"__ndarray__\":\"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\",\"dtype\":\"float64\",\"shape\":[200]},\"y\":{\"__ndarray__\":\"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\",\"dtype\":\"float64\",\"shape\":[200]}}},\"id\":\"07519dfa-e4e6-4608-9c57-c21bbefafdeb\",\"type\":\"ColumnDataSource\"},{\"attributes\":{\"label\":{\"value\":\"\\u03bb=0.0002\"},\"renderers\":[{\"id\":\"ed9a6235-61f4-4d1f-b0d1-3d826fb170c7\",\"type\":\"GlyphRenderer\"}]},\"id\":\"74f29086-7638-4ee0-ab1c-1f2349951779\",\"type\":\"LegendItem\"},{\"attributes\":{},\"id\":\"8a975c0d-8231-4ad0-9c7c-49030008413e\",\"type\":\"BasicTicker\"}],\"root_ids\":[\"39e68ccb-8ed5-42e1-9b28-1c8664c4721b\"]},\"title\":\"Bokeh Application\",\"version\":\"0.12.13\"}};\n",
       "  var render_items = [{\"docid\":\"d8d05f86-c791-47c0-9c5c-a7eb5c973739\",\"elementid\":\"3341051e-6ce0-497a-8ec6-c54c44475a65\",\"modelid\":\"39e68ccb-8ed5-42e1-9b28-1c8664c4721b\"}];\n",
       "  root.Bokeh.embed.embed_items_notebook(docs_json, render_items);\n",
       "\n",
       "  }\n",
       "  if (root.Bokeh !== undefined) {\n",
       "    embed_document(root);\n",
       "  } else {\n",
       "    var attempts = 0;\n",
       "    var timer = setInterval(function(root) {\n",
       "      if (root.Bokeh !== undefined) {\n",
       "        embed_document(root);\n",
       "        clearInterval(timer);\n",
       "      }\n",
       "      attempts++;\n",
       "      if (attempts > 100) {\n",
       "        console.log(\"Bokeh: ERROR: Unable to run BokehJS code because BokehJS library is missing\")\n",
       "        clearInterval(timer);\n",
       "      }\n",
       "    }, 10, root)\n",
       "  }\n",
       "})(window);"
      ],
      "application/vnd.bokehjs_exec.v0+json": ""
     },
     "metadata": {
      "application/vnd.bokehjs_exec.v0+json": {
       "id": "39e68ccb-8ed5-42e1-9b28-1c8664c4721b"
      }
     },
     "output_type": "display_data"
    }
   ],
   "source": [
    "from scipy.stats import expon\n",
    "\n",
    "x = np.linspace(0, 1000, 200)\n",
    "lambda_1 = 0.01\n",
    "lambda_2 = 0.001\n",
    "lambda_3 = 0.002\n",
    "\n",
    "# Tools for plots\n",
    "tools='pan,wheel_zoom,reset,save'\n",
    "\n",
    "# Set up plots\n",
    "fig_1 = Figure(width=400, height=300, tools=[tools,HoverTool(tooltips=[\n",
    "                (\"\", \"($x,$y)\")\n",
    "                ])], title=\"Exponential Distribution\")\n",
    "fig_2 = Figure(width=400, height=300, tools=[tools,HoverTool(tooltips=[\n",
    "                (\"\", \"($x,$y)\")\n",
    "                ])], \n",
    "               y_range=[-0.05, 1.05])\n",
    "\n",
    "fig_1.xaxis.axis_label = 'x'\n",
    "fig_1.yaxis.axis_label = 'f(x,λ)' \n",
    "\n",
    "fig_2.xaxis.axis_label = 'x'\n",
    "fig_2.yaxis.axis_label = 'F(x,λ)'\n",
    "\n",
    "# Figure #1\n",
    "y1 = expon.pdf(x,scale=1/lambda_1)\n",
    "y2 = expon.pdf(x,scale=1/lambda_2)\n",
    "y3 = expon.pdf(x,scale=1/lambda_3)\n",
    "\n",
    "fig_1.line(x, y1, line_width=3, color='dodgerblue',legend=\"λ=0.001\")\n",
    "fig_1.line(x, y2, line_width=3, color='red',legend=\"λ=0.0001\")\n",
    "fig_1.line(x, y3, line_width=3, color='green',legend=\"λ=0.0002\")\n",
    "\n",
    "fig_1.legend.location = \"top_right\"\n",
    "fig_1.legend.click_policy=\"hide\"\n",
    "\n",
    "#Figure #2\n",
    "y4 = expon.cdf(x,scale=1/lambda_1)\n",
    "y5 = expon.cdf(x,scale=1/lambda_2)\n",
    "y6 = expon.cdf(x,scale=1/lambda_3)\n",
    "\n",
    "fig_2.line(x, y4, line_width=3, color='dodgerblue',legend=\"λ=0.001\")\n",
    "fig_2.line(x, y5, line_width=3, color='red',legend=\"λ=0.0001\")\n",
    "fig_2.line(x, y6, line_width=3, color='green',legend=\"λ=0.0002\")\n",
    "fig_2.legend.location = \"bottom_right\"\n",
    "\n",
    "show(row([fig_1, fig_2]))"
   ]
  },
  {
   "cell_type": "markdown",
   "metadata": {},
   "source": [
    "# References"
   ]
  },
  {
   "cell_type": "markdown",
   "metadata": {},
   "source": [
    "http://bebi103.caltech.edu.s3-website-us-east-1.amazonaws.com/2016/tutorials/t3b_probability_stories.html\n",
    "\n",
    "http://students.brown.edu/seeing-theory/probability-distributions/index.html#section1"
   ]
  }
 ],
 "metadata": {
  "kernelspec": {
   "display_name": "Python 3",
   "language": "python",
   "name": "python3"
  },
  "language_info": {
   "codemirror_mode": {
    "name": "ipython",
    "version": 3
   },
   "file_extension": ".py",
   "mimetype": "text/x-python",
   "name": "python",
   "nbconvert_exporter": "python",
   "pygments_lexer": "ipython3",
   "version": "3.6.4"
  }
 },
 "nbformat": 4,
 "nbformat_minor": 2
}
