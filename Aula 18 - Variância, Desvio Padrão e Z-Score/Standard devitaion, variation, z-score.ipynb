{
 "cells": [
  {
   "cell_type": "markdown",
   "metadata": {},
   "source": [
    "1. Normal distribution deviation\n",
    "==\n",
    "\n",
    "One cool thing about normal distributions is that for every single one, the same percentage of the data is within one standard deviation of the mean, the same percentage is within two standard deviations of the mean, and so on.\n",
    "\n",
    "About 68% of the data is within one standard deviation, roughly 95% is within two standard deviations, and about 99% is within three standard deviations.\n",
    "\n",
    "This helps us quickly understand where values fall within the data set, as well as how typical or unusual they are."
   ]
  },
  {
   "cell_type": "code",
   "execution_count": 1,
   "metadata": {},
   "outputs": [],
   "source": [
    "# Housefly wing lengths in millimeters\n",
    "wing_lengths = [36, 37, 38, 38, 39, 39, 40, 40, 40, 40, 41, 41, 41, 41, 41, 41, 42, \n",
    "                42, 42, 42, 42, 42, 42, 43, 43, 43, 43, 43, 43, 43, 43, 44, 44, 44, \n",
    "                44, 44, 44, 44, 44, 44, 45, 45, 45, 45, 45, 45, 45, 45, 45, 45, 46,\n",
    "                46, 46, 46, 46, 46, 46, 46, 46, 46, 47, 47, 47, 47, 47, 47, 47, 47,\n",
    "                47, 48, 48, 48, 48, 48, 48, 48, 48, 49, 49, 49, 49, 49, 49, 49, 50, \n",
    "                50, 50, 50, 50, 50, 51, 51, 51, 51, 52, 52, 53, 53, 54, 55]\n",
    "\n",
    "# centrality variables\n",
    "mean = sum(wing_lengths) / len(wing_lengths)\n",
    "variances = [(i - mean) ** 2 for i in wing_lengths]\n",
    "variance = sum(variances)/ len(variances)\n",
    "standard_deviation = variance ** (1/2)"
   ]
  },
  {
   "cell_type": "markdown",
   "metadata": {},
   "source": [
    "<br>\n",
    "<div class=\"alert alert-info\">\n",
    "<b>Exercise Start.</b>\n",
    "</div>\n",
    "\n",
    "**Description**:\n",
    "\n",
    "1. For each point in <span style=\"background-color: #F9EBEA; color:##C0392B\">wing_lengths</span>, calculate the distance from the mean in number of standard deviations.\n",
    "2. Calculate the proportion of the data that's within one standard deviation of the mean. Assign the result to <span style=\"background-color: #F9EBEA; color:##C0392B\">within_one_percentage</span>.\n",
    "3. Calculate the proportion of the data that's within two standard deviations of the mean. Assign the result to <span style=\"background-color: #F9EBEA; color:##C0392B\">within_two_percentage</span>.\n",
    "4. Calculate the proportion of the data that's within three standard deviations of the mean. Assign the result to <span style=\"background-color: #F9EBEA; color:##C0392B\">within_three_percentage</span>."
   ]
  },
  {
   "cell_type": "markdown",
   "metadata": {},
   "source": [
    "2. Z-Score\n",
    "=="
   ]
  },
  {
   "cell_type": "code",
   "execution_count": 2,
   "metadata": {
    "scrolled": false
   },
   "outputs": [
    {
     "name": "stdout",
     "output_type": "stream",
     "text": [
      "Populating the interactive namespace from numpy and matplotlib\n"
     ]
    },
    {
     "name": "stderr",
     "output_type": "stream",
     "text": [
      "/Users/ivanovitch/anaconda3/lib/python3.6/site-packages/IPython/core/magics/pylab.py:160: UserWarning: pylab import has clobbered these variables: ['mean']\n",
      "`%matplotlib` prevents importing * from pylab and numpy\n",
      "  \"\\n`%matplotlib` prevents importing * from pylab and numpy\"\n"
     ]
    },
    {
     "data": {
      "image/png": "[encoded data removed]",
      "text/plain": [
       "<matplotlib.figure.Figure at 0x112cdbf60>"
      ]
     },
     "metadata": {},
     "output_type": "display_data"
    },
    {
     "data": {
      "text/plain": [
       "0.9175667301260455"
      ]
     },
     "execution_count": 2,
     "metadata": {},
     "output_type": "execute_result"
    }
   ],
   "source": [
    "import numpy as np\n",
    "import scipy.stats as stats\n",
    "import matplotlib.pyplot as plt\n",
    "\n",
    "%pylab inline\n",
    "pylab.rcParams['figure.figsize'] = (10, 8)\n",
    "\n",
    "## points under study\n",
    "xi = 240\n",
    "mean_facebook = 190\n",
    "std_facebook = 36\n",
    "axis_x = range(0,300)\n",
    "\n",
    "## return the cumulative value from Z-Table\n",
    "cdf = stats.norm.cdf(xi,mean_facebook, std_facebook)\n",
    "\n",
    "## -2std, -std, std, 2std \n",
    "minus2std = mean_facebook - 2*std_facebook\n",
    "minusstd = mean_facebook - std_facebook\n",
    "plus1std = mean_facebook + std_facebook\n",
    "plus2std = mean_facebook + 2*std_facebook\n",
    "\n",
    "## mark points in the plot\n",
    "markers_points = [minus2std, minusstd, mean_facebook, plus1std, plus2std]\n",
    "\n",
    "## find the probability distribution function\n",
    "pdf = stats.norm.pdf(axis_x,mean_facebook,std_facebook)\n",
    "\n",
    "\n",
    "## - line, b -blue, D - diamond\n",
    "plt.plot(axis_x, pdf, '-bD',markevery=markers_points)\n",
    "plt.annotate('$\\mu$',xy=(mean_facebook+4,pdf[mean_facebook]))\n",
    "plt.annotate('$-2\\sigma$',xy=(minus2std-14,pdf[minus2std]))\n",
    "plt.annotate('$-\\sigma$',xy=(minusstd-10,pdf[minusstd]))\n",
    "plt.annotate('$\\sigma$',xy=(plus1std+4,pdf[plus1std]))\n",
    "plt.annotate('$2\\sigma$',xy=(plus2std+4,pdf[plus2std]))\n",
    "\n",
    "## The shaded area is cdf at xi, in other words, cdf[240] = 0.9175667301260455\n",
    "plt.fill_between(axis_x[0:xi], pdf[0:xi],color='g',alpha=.5)\n",
    "\n",
    "plt.show()\n",
    "\n",
    "cdf\n"
   ]
  }
 ],
 "metadata": {
  "kernelspec": {
   "display_name": "Python 3",
   "language": "python",
   "name": "python3"
  },
  "language_info": {
   "codemirror_mode": {
    "name": "ipython",
    "version": 3
   },
   "file_extension": ".py",
   "mimetype": "text/x-python",
   "name": "python",
   "nbconvert_exporter": "python",
   "pygments_lexer": "ipython3",
   "version": "3.6.4"
  }
 },
 "nbformat": 4,
 "nbformat_minor": 2
}
