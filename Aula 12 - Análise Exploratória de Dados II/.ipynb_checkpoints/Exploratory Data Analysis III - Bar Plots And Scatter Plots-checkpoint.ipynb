{
 "cells": [
  {
   "cell_type": "markdown",
   "metadata": {},
   "source": [
    "## 1. Introduction to the data\n",
    "\n",
    "To investigate how different movie review sites the potential bias that movie reviews site has, **FiveThirtyEight** compiled data for 147 films from 2015 that have substantive reviews from both critics and consumers. Every time Hollywood releases a movie, critics from **Metacritic**, **Fandango**, **Rotten Tomatoes**, and **IMDB** review and rate the film. They also ask the users in their respective communities to review and rate the film. Then, they calculate the average rating from both critics and users and display them on their site. Here are screenshots from each site:\n",
    "\n",
    "\n",
    "<img width=\"600\" alt=\"creating a repo\" src=\"https://drive.google.com/uc?export=view&id=0BxhVm1REqwr0VE5BNVVnT1piWjA\">\n",
    "\n",
    "\n",
    "FiveThirtyEight compiled this dataset to investigate if there was any bias to Fandango's ratings. In addition to aggregating ratings for films, Fandango is unique in that it also sells movie tickets, and so it has a direct commercial interest in showing higher ratings. After discovering that a few films that weren't good were still rated highly on Fandango, the team investigated and published an [article about bias in movie ratings](http://fivethirtyeight.com/features/fandango-movies-ratings/).\n",
    "\n",
    "\n",
    "We'll be working with the <span style=\"background-color: #F9EBEA; color:##C0392B\">fandango_scores.csv</span> file, which can be downloaded from the [FiveThirtEight Github repo](https://github.com/fivethirtyeight/data/tree/master/fandango). Here are the columns we'll be working with in this mission:\n",
    "\n",
    "- <span style=\"background-color: #F9EBEA; color:##C0392B\">FILM</span> - film name\n",
    "- <span style=\"background-color: #F9EBEA; color:##C0392B\">RT_user_norm</span>  - average user rating from Rotten Tomatoes, normalized to a 1 to 5 point scale\n",
    "- <span style=\"background-color: #F9EBEA; color:##C0392B\">Metacritic_user_nom</span>  - average user rating from Metacritc, normalized to a 1 to 5 point scale\n",
    "- <span style=\"background-color: #F9EBEA; color:##C0392B\">IMDB_norm</span> - average user rating from IMDB, normalized to a 1 to 5 point scale\n",
    "- <span style=\"background-color: #F9EBEA; color:##C0392B\">Fandango_Ratingvalue</span> - average user rating from Fandango, normalized to a 1 to 5 point scale\n",
    "- <span style=\"background-color: #F9EBEA; color:##C0392B\">Fandango_Stars</span> - the rating displayed on the Fandango website (rounded to nearest star, 1 to 5 point scale)\n",
    "\n",
    "\n",
    "Instead of displaying the raw rating, the writer discovered that Fandango usually rounded the average rating to the next highest half star (next highest <span style=\"background-color: #F9EBEA; color:##C0392B\">0.5</span> value). The <span style=\"background-color: #F9EBEA; color:##C0392B\">Fandango_Ratingvalue</span> column reflects the true average rating while the <span style=\"background-color: #F9EBEA; color:##C0392B\">Fandango_Stars</span> column reflects the displayed, rounded rating.\n",
    "\n",
    "Let's read in this dataset, which allows us to compare how a movie fared across all 4 review sites."
   ]
  },
  {
   "cell_type": "markdown",
   "metadata": {},
   "source": [
    "<br>\n",
    "<div class=\"alert alert-info\">\n",
    "<b>Exercise Start.</b>\n",
    "</div>\n",
    "\n",
    "**Description**:\n",
    "\n",
    "1. Read <span style=\"background-color: #F9EBEA; color:##C0392B\">fandango_scores.csv</span> into a Dataframe named reviews.\n",
    "2. Select the following columns and assign the resulting Dataframe to <span style=\"background-color: #F9EBEA; color:##C0392B\">norm_reviews</span>:\n",
    "    - **FILM**\n",
    "    - **RT_user_norm**\n",
    "    - **Metacritic_user_nom** (note the misspelling of norm)\n",
    "    - **IMDB_norm**\n",
    "    - **Fandango_Ratingvalue**\n",
    "    - **Fandango_Stars**\n",
    "3. Display the first row in <span style=\"background-color: #F9EBEA; color:##C0392B\">norm_reviews</span>"
   ]
  },
  {
   "cell_type": "code",
   "execution_count": 3,
   "metadata": {
    "collapsed": true
   },
   "outputs": [
    {
     "data": {
      "text/html": [
       "<div>\n",
       "<style scoped>\n",
       "    .dataframe tbody tr th:only-of-type {\n",
       "        vertical-align: middle;\n",
       "    }\n",
       "\n",
       "    .dataframe tbody tr th {\n",
       "        vertical-align: top;\n",
       "    }\n",
       "\n",
       "    .dataframe thead th {\n",
       "        text-align: right;\n",
       "    }\n",
       "</style>\n",
       "<table border=\"1\" class=\"dataframe\">\n",
       "  <thead>\n",
       "    <tr style=\"text-align: right;\">\n",
       "      <th></th>\n",
       "      <th>FILM</th>\n",
       "      <th>RT_user_norm</th>\n",
       "      <th>Metacritic_user_nom</th>\n",
       "      <th>IMDB_norm</th>\n",
       "      <th>Fandango_Ratingvalue</th>\n",
       "      <th>Fandango_Stars</th>\n",
       "    </tr>\n",
       "  </thead>\n",
       "  <tbody>\n",
       "    <tr>\n",
       "      <th>0</th>\n",
       "      <td>Avengers: Age of Ultron (2015)</td>\n",
       "      <td>4.3</td>\n",
       "      <td>3.55</td>\n",
       "      <td>3.90</td>\n",
       "      <td>4.5</td>\n",
       "      <td>5.0</td>\n",
       "    </tr>\n",
       "    <tr>\n",
       "      <th>1</th>\n",
       "      <td>Cinderella (2015)</td>\n",
       "      <td>4.0</td>\n",
       "      <td>3.75</td>\n",
       "      <td>3.55</td>\n",
       "      <td>4.5</td>\n",
       "      <td>5.0</td>\n",
       "    </tr>\n",
       "    <tr>\n",
       "      <th>2</th>\n",
       "      <td>Ant-Man (2015)</td>\n",
       "      <td>4.5</td>\n",
       "      <td>4.05</td>\n",
       "      <td>3.90</td>\n",
       "      <td>4.5</td>\n",
       "      <td>5.0</td>\n",
       "    </tr>\n",
       "    <tr>\n",
       "      <th>3</th>\n",
       "      <td>Do You Believe? (2015)</td>\n",
       "      <td>4.2</td>\n",
       "      <td>2.35</td>\n",
       "      <td>2.70</td>\n",
       "      <td>4.5</td>\n",
       "      <td>5.0</td>\n",
       "    </tr>\n",
       "    <tr>\n",
       "      <th>4</th>\n",
       "      <td>Hot Tub Time Machine 2 (2015)</td>\n",
       "      <td>1.4</td>\n",
       "      <td>1.70</td>\n",
       "      <td>2.55</td>\n",
       "      <td>3.0</td>\n",
       "      <td>3.5</td>\n",
       "    </tr>\n",
       "  </tbody>\n",
       "</table>\n",
       "</div>"
      ],
      "text/plain": [
       "                             FILM  RT_user_norm  Metacritic_user_nom  \\\n",
       "0  Avengers: Age of Ultron (2015)           4.3                 3.55   \n",
       "1               Cinderella (2015)           4.0                 3.75   \n",
       "2                  Ant-Man (2015)           4.5                 4.05   \n",
       "3          Do You Believe? (2015)           4.2                 2.35   \n",
       "4   Hot Tub Time Machine 2 (2015)           1.4                 1.70   \n",
       "\n",
       "   IMDB_norm  Fandango_Ratingvalue  Fandango_Stars  \n",
       "0       3.90                   4.5             5.0  \n",
       "1       3.55                   4.5             5.0  \n",
       "2       3.90                   4.5             5.0  \n",
       "3       2.70                   4.5             5.0  \n",
       "4       2.55                   3.0             3.5  "
      ]
     },
     "execution_count": 3,
     "metadata": {},
     "output_type": "execute_result"
    }
   ],
   "source": [
    "import pandas as pd\n",
    "\n",
    "data = pd.read_csv(\"fandango_scores.csv\")\n",
    "\n",
    "x = [\"FILM\", \"RT_user_norm\", \"Metacritic_user_nom\", \"IMDB_norm\", \"Fandango_Ratingvalue\", \"Fandango_Stars\"]\n",
    "\n",
    "norm_reviews = data[x]\n",
    "\n",
    "norm_reviews.head()"
   ]
  },
  {
   "cell_type": "markdown",
   "metadata": {},
   "source": [
    "## 2. Bar plot\n",
    "\n",
    "These sites use different scales for ratings. Some use a 5 star scale while others use a 100 point scale. In addition, Metacritic and Rotten Tomatoes aggregate scores from both users and film critics, while IMDB and Fandango aggregate only from their users. We'll focus on just the average scores from users, because not all of the sites have scores from critics.\n",
    "\n",
    "The <span style=\"background-color: #F9EBEA; color:##C0392B\">RT_user_norm</span>, <span style=\"background-color: #F9EBEA; color:##C0392B\">Metacritic_user_nom</span>, <span style=\"background-color: #F9EBEA; color:##C0392B\">IMDB_norm</span>, and <span style=\"background-color: #F9EBEA; color:##C0392B\">Fandango_Ratingvalue</span> columns contain the average user rating for each movie, normalized to a 0 to 5 point scale. This allows us to compare how the users on each site rated a movie. While using averages isn't perfect because films with a few reviews can skew the average rating, FiveThirtyEight only selected movies with a non-trivial number of ratings to ensure films with only a handful of reviews aren't included.\n",
    "\n",
    "If you look at the first row, which lists the average user ratings for **Avengers: Age of Ultron (2015)**, you'll notice that the Fandango ratings, both the actual and the displayed rating, are higher than those from the other sites for a given movie. While calculating and comparing summary statistics give us hard numbers for quantifying the bias, visualizing the data using plots can help us gain a more intuitive understanding. We need a visualization that scales graphical objects to the quantitative values we're interested in comparing. One of these visualizations is a **bar plot**.\n",
    "\n",
    "<img width=\"400\" alt=\"creating a repo\" src=\"https://drive.google.com/uc?export=view&id=0BxhVm1REqwr0T1ltc2tnb2lDbHc\">\n",
    "\n",
    "\n",
    "In the bar plot above, the x-axis represented the different ratings and the y-axis represented the actual ratings. An effective bar plot uses categorical values on one axis and numerical values on the other axis. Because bar plots can help us find the category corresponding to the smallest or largest values, it's important that we restrict the number of bars in a single plot. Using a bar plot to visualize hundreds of values makes it difficult to trace the category with the smallest or largest value.\n",
    "\n",
    "If the x-axis contains the categorical values and the rectangular bars are scaled vertically, this is known as a vertical bar plot. A horizontal bar plot flips the axes, which is useful for quickly spotting the largest value.\n",
    "\n",
    "<img width=\"400\" alt=\"creating a repo\" src=\"https://drive.google.com/uc?export=view&id=0BxhVm1REqwr0cDhyZEttU0JTSnM\">\n",
    "\n",
    "An effective bar plot uses a consistent width for each bar. This helps keep the visual focus on the heights of the bars when comparing. Let's now learn how to create a vertical bar plot in matplotlib that represents the different user scores for Avengers: Age of Ultron (2015)."
   ]
  },
  {
   "cell_type": "markdown",
   "metadata": {},
   "source": [
    "## 3. Creating bars\n",
    "\n",
    "When we generated line charts, we passed in the data to <span style=\"background-color: #F9EBEA; color:##C0392B\">pyplot.plot()</span> and matplotlib took care of the rest. Because the markers and lines in a line chart correspond directly with x-axis and y-axis coordinates, all matplotlib needed was the data we wanted plotted. To create a useful bar plot, however, we need to specify the positions of the bars, the widths of the bars, and the positions of the axis labels. Here's a diagram that shows the various values we need to specify:\n",
    "\n",
    "<img width=\"600\" alt=\"creating a repo\" src=\"https://drive.google.com/uc?export=view&id=0BxhVm1REqwr0NkExT245Q2Fva00\">\n",
    "\n",
    "\n",
    "We'll focus on positioning the bars on the x-axis in this step and on positioning the x-axis labels in the next step. We can generate a vertical bar plot using either [pyplot.bar()](http://matplotlib.org/api/pyplot_api.html#matplotlib.pyplot.bar) or [Axes.bar()](http://matplotlib.org/api/axes_api.html#matplotlib.axes.Axes.bar). We'll use <span style=\"background-color: #F9EBEA; color:##C0392B\">Axes.bar()</span> so we can extensively customize the bar plot more easily. We can use [pyplot.subplots()](http://matplotlib.org/api/pyplot_api.html#matplotlib.pyplot.subplots) to first generate a single subplot and return both the Figure and Axes object. This is a shortcut from the technique we used in the previous mission:\n",
    "\n",
    ">```python\n",
    "fig, ax = plt.subplots()\n",
    "```\n",
    "\n",
    "The <span style=\"background-color: #F9EBEA; color:##C0392B\">Axes.bar()</span> method has 2 required parameters, left and height. We use the left parameter to specify the x coordinates of the left sides of the bar (marked in blue on the above image). We use the height parameter to specify the height of each bar. Both of these parameters accept a list-like object.\n",
    "\n",
    "The [np.arange()](http://docs.scipy.org/doc/numpy/reference/generated/numpy.arange.html) function returns evenly spaced values. We use <span style=\"background-color: #F9EBEA; color:##C0392B\">arange()</span> to generate the positions of the <span style=\"background-color: #F9EBEA; color:##C0392B\">left</span> side of our bars. This function requires a paramater that specifies the number of values we want to generate. We'll also want to add space between our bars for better readability:\n",
    "\n",
    ">```python\n",
    "# Positions of the left sides of the 5 bars. [0.75, 1.75, 2.75, 3.75, 4.75]\n",
    "from numpy import arange\n",
    "bar_positions = arange(5) + 0.75\n",
    "# Heights of the bars.  In our case, the average rating for the first movie in the dataset.\n",
    "num_cols = ['RT_user_norm', 'Metacritic_user_nom', 'IMDB_norm', 'Fandango_Ratingvalue', 'Fandango_Stars']\n",
    "bar_heights = norm_reviews[num_cols].iloc[0].values\n",
    "ax.bar(bar_positions, bar_heights)\n",
    "```\n",
    "\n",
    "\n",
    "We can also use the width parameter to specify the width of each bar. This is an optional parameter and the width of each bar is set to **0.8** by default. The following code sets the width parameter to **1.5**:\n",
    "\n",
    ">```python\n",
    "ax.bar(bar_positions, bar_heights, 1.5)\n",
    "```\n",
    "\n",
    "\n",
    "<br>\n",
    "<div class=\"alert alert-info\">\n",
    "<b>Exercise Start.</b>\n",
    "</div>\n",
    "\n",
    "**Description**:\n",
    "\n",
    "1. Create a single subplot and assign the returned Figure object to <span style=\"background-color: #F9EBEA; color:##C0392B\">fig</span> and the returned Axes object to <span style=\"background-color: #F9EBEA; color:##C0392B\">ax</span>.\n",
    "2. Generate a bar plot with:\n",
    "    - <span style=\"background-color: #F9EBEA; color:##C0392B\">left</span> set to **bar_positions**\n",
    "    - <span style=\"background-color: #F9EBEA; color:##C0392B\">height</span> set to **bar_heights**\n",
    "    - <span style=\"background-color: #F9EBEA; color:##C0392B\">width</span> set to 0.5\n",
    "3. Use <span style=\"background-color: #F9EBEA; color:##C0392B\">plt.show()</span> to display the bar plot."
   ]
  },
  {
   "cell_type": "code",
   "execution_count": 9,
   "metadata": {},
   "outputs": [
    {
     "data": {
      "image/png": "[encoded data removed]",
      "text/plain": [
       "<matplotlib.figure.Figure at 0x27d20b4e080>"
      ]
     },
     "metadata": {},
     "output_type": "display_data"
    }
   ],
   "source": [
    "import matplotlib.pyplot as plt\n",
    "\n",
    "fig, ax = plt.subplots()\n",
    "\n",
    "# Positions of the left sides of the 5 bars. [0.75, 1.75, 2.75, 3.75, 4.75]\n",
    "from numpy import arange\n",
    "bar_positions = arange(5) + 0.75\n",
    "\n",
    "# Heights of the bars.  In our case, the average rating for the first movie in the dataset.\n",
    "num_cols = ['RT_user_norm', 'Metacritic_user_nom', 'IMDB_norm', 'Fandango_Ratingvalue', 'Fandango_Stars']\n",
    "bar_heights = norm_reviews[num_cols].iloc[0].values\n",
    "ax.bar(bar_positions, bar_heights, 0.5)\n",
    "\n",
    "plt.show()\n",
    "\n"
   ]
  },
  {
   "cell_type": "markdown",
   "metadata": {},
   "source": [
    "## 4. Aligning Axis Ticks And Labels\n",
    "\n",
    "By default, matplotlib sets the x-axis tick labels to the integer values the bars spanned on the x-axis (from **0** to **6**). We only need tick labels on the x-axis where the bars are positioned. We can use [Axes.set_xticks()](http://matplotlib.org/api/axes_api.html#matplotlib.axes.Axes.set_xticks) to change the positions of the ticks to <span style=\"background-color: #F9EBEA; color:##C0392B\">[1, 2, 3, 4, 5]</span>:\n",
    "\n",
    ">```python\n",
    "tick_positions = range(1,6)\n",
    "ax.set_xticks(tick_positions)\n",
    "```\n",
    "\n",
    "Then, we can use [Axes.set_xticklabels()](http://matplotlib.org/api/axes_api.html#matplotlib.axes.Axes.set_xticklabels) to specify the tick labels:\n",
    "\n",
    ">```python\n",
    "num_cols = ['RT_user_norm', 'Metacritic_user_nom', 'IMDB_norm', 'Fandango_Ratingvalue', 'Fandango_Stars']\n",
    "ax.set_xticklabels(num_cols)\n",
    "```\n",
    "\n",
    "If you look at the [documentation](http://matplotlib.org/api/axes_api.html#matplotlib.axes.Axes.set_xticklabels) for the method, you'll notice that we can specify the orientation for the labels using the <span style=\"background-color: #F9EBEA; color:##C0392B\">rotation</span> parameter:\n",
    "\n",
    ">```python\n",
    "ax.set_xticklabels(num_cols, rotation=90)\n",
    "```\n",
    "\n",
    "Rotating the labels by 90 degrees keeps them readable. In addition to modifying the x-axis tick positions and labels, let's also set the x-axis label, y-axis label, and the plot title.\n",
    "\n",
    "\n",
    "<br>\n",
    "<div class=\"alert alert-info\">\n",
    "<b>Exercise Start.</b>\n",
    "</div>\n",
    "\n",
    "**Description**:\n",
    "\n",
    "1. Create a single subplot and assign the returned Figure object to <span style=\"background-color: #F9EBEA; color:##C0392B\">fig</span> and the returned Axes object to <span style=\"background-color: #F9EBEA; color:##C0392B\">ax</span>.\n",
    "2. Generate a bar plot with:\n",
    "    - <span style=\"background-color: #F9EBEA; color:##C0392B\">left</span> set to <span style=\"background-color: #F9EBEA; color:##C0392B\">bar_positions</span>\n",
    "    - <span style=\"background-color: #F9EBEA; color:##C0392B\">height</span> set to <span style=\"background-color: #F9EBEA; color:##C0392B\">bar_heights</span>\n",
    "    - <span style=\"background-color: #F9EBEA; color:##C0392B\">width</span> set to <span style=\"background-color: #F9EBEA; color:##C0392B\">0.5</span>\n",
    "3. Set the x-axis tick positions to <span style=\"background-color: #F9EBEA; color:##C0392B\">tick_positions</span>.\n",
    "4. Set the x-axis tick labels to <span style=\"background-color: #F9EBEA; color:##C0392B\">num_cols</span> and rotate by <span style=\"background-color: #F9EBEA; color:##C0392B\">90</span> degrees.\n",
    "5. Set the x-axis label to <span style=\"background-color: #F9EBEA; color:##C0392B\">\"Rating Source\"</span>.\n",
    "6. Set the y-axis label to <span style=\"background-color: #F9EBEA; color:##C0392B\">\"Average Rating\"</span>.\n",
    "7. Set the plot title to <span style=\"background-color: #F9EBEA; color:##C0392B\">\"Average User Rating For Avengers: Age of Ultron (2015)\"</span>.\n",
    "8. Use <span style=\"background-color: #F9EBEA; color:##C0392B\">plt.show()</span> to display the bar plot."
   ]
  },
  {
   "cell_type": "code",
   "execution_count": 10,
   "metadata": {},
   "outputs": [
    {
     "data": {
      "image/png": "[encoded data removed]",
      "text/plain": [
       "<matplotlib.figure.Figure at 0x27d20b9a4a8>"
      ]
     },
     "metadata": {},
     "output_type": "display_data"
    }
   ],
   "source": [
    "import matplotlib.pyplot as plt\n",
    "\n",
    "fig, ax = plt.subplots()\n",
    "\n",
    "tick_positions = range(1,6)\n",
    "ax.set_xticks(tick_positions)\n",
    "\n",
    "\n",
    "# Heights of the bars.  In our case, the average rating for the first movie in the dataset.\n",
    "num_cols = ['RT_user_norm', 'Metacritic_user_nom', 'IMDB_norm', 'Fandango_Ratingvalue', 'Fandango_Stars']\n",
    "ax.set_xticklabels(num_cols)\n",
    "\n",
    "bar_heights = norm_reviews[num_cols].iloc[0].values\n",
    "ax.bar(bar_positions, bar_heights, 0.5)\n",
    "\n",
    "ax.set_xticklabels(num_cols, rotation=90)\n",
    "\n",
    "plt.show()"
   ]
  },
  {
   "cell_type": "markdown",
   "metadata": {},
   "source": [
    "## 5. Horizontal bar plot\n",
    "\n",
    "We can create a horizontal bar plot in matplotlib in a similar fashion. Instead of using <span style=\"background-color: #F9EBEA; color:##C0392B\">Axes.bar()</span>, we use [Axes.barh()](http://matplotlib.org/api/axes_api.html#matplotlib.axes.Axes.barh). This method has 2 required parameters, <span style=\"background-color: #F9EBEA; color:##C0392B\">bottom</span> and <span style=\"background-color: #F9EBEA; color:##C0392B\">width</span>. We use the <span style=\"background-color: #F9EBEA; color:##C0392B\">bottom</span> parameter to specify the y coordinate for the bottom sides for the bars and the <span style=\"background-color: #F9EBEA; color:##C0392B\">width</span> parameter to specify the lengths of the bars:\n",
    "\n",
    ">```python\n",
    "bar_widths = norm_reviews[num_cols].iloc[0].values\n",
    "bar_positions = arange(5) + 0.75\n",
    "ax.barh(bar_positions, bar_widths, 0.5)\n",
    "```\n",
    "\n",
    "To recreate the bar plot from the last step as horizontal bar plot, we essentially need to map the properties we set for the y-axis instead of the x-axis. We use <span style=\"background-color: #F9EBEA; color:##C0392B\">Axes.set_yticks()</span> to set the y-axis tick positions to <span style=\"background-color: #F9EBEA; color:##C0392B\">[1, 2, 3, 4, 5]</span> and <span style=\"background-color: #F9EBEA; color:##C0392B\">Axes.set_yticklabels()</span> to set the tick labels to the column names:\n",
    "\n",
    ">```python\n",
    "tick_positions = range(5) + 1\n",
    "num_cols = ['RT_user_norm', 'Metacritic_user_nom', 'IMDB_norm', 'Fandango_Ratingvalue', 'Fandango_Stars']\n",
    "ax.set_yticks(tick_positions)\n",
    "ax.set_yticklabels(num_cols)\n",
    "```\n",
    "\n",
    "<br>\n",
    "<div class=\"alert alert-info\">\n",
    "<b>Exercise Start.</b>\n",
    "</div>\n",
    "\n",
    "**Description**:\n",
    "\n",
    "1. Create a single subplot and assign the returned Figure object to fig and the returned Axes object to ax.\n",
    "2. Generate a bar plot with:\n",
    "    - bottom set to bar_positions\n",
    "    - width set to bar_widths\n",
    "    - height set to 0.5\n",
    "3. Set the y-axis tick positions to tick_positions.\n",
    "4. Set the y-axis tick labels to num_cols.\n",
    "5. Set the y-axis label to \"Rating Source\".\n",
    "6. Set the x-axis label to \"Average Rating\".\n",
    "7. Set the plot title to \"Average User Rating For Avengers: Age of Ultron (2015)\".\n",
    "8. Use plt.show() to display the bar plot."
   ]
  },
  {
   "cell_type": "code",
   "execution_count": 13,
   "metadata": {},
   "outputs": [
    {
     "data": {
      "image/png": "[encoded data removed]",
      "text/plain": [
       "<matplotlib.figure.Figure at 0x27d21cbe9e8>"
      ]
     },
     "metadata": {},
     "output_type": "display_data"
    }
   ],
   "source": [
    "fig, ax = plt.subplots()\n",
    "\n",
    "bar_widths = norm_reviews[num_cols].iloc[0].values\n",
    "bar_positions = range(5)\n",
    "ax.barh(bar_positions, bar_widths, 0.5)\n",
    "\n",
    "tick_positions = range(5) \n",
    "num_cols = ['RT_user_norm', 'Metacritic_user_nom', 'IMDB_norm', 'Fandango_Ratingvalue', 'Fandango_Stars']\n",
    "ax.set_yticks(tick_positions)\n",
    "ax.set_yticklabels(num_cols)\n",
    "\n",
    "plt.xlabel(\"Rating Source\")\n",
    "plt.ylabel(\"Average Rating\")\n",
    "plt.title(\"Average User Rating For Avengers: Age of Ultron (2015)\")\n",
    "plt.show()\n",
    "\n"
   ]
  },
  {
   "cell_type": "markdown",
   "metadata": {},
   "source": [
    "## 6. Scatter plot\n",
    "\n",
    "From the horizontal bar plot, we can more easily determine that the 2 average scores from Fandango users are higher than those from the other sites. While bar plots help us visualize a few data points to quickly compare them, they aren't good at helping us visualize many data points. Let's look at a plot that can help us visualize many points.\n",
    "\n",
    "In the previous mission, the line charts we generated always connected points from left to right. This helped us show the trend, up or down, between each point as we scanned visually from left to right. Instead, we can avoid using lines to connect markers and just use the underlying markers. A plot containing just the markers is known as a **scatter plot**.\n",
    "\n",
    "\n",
    "<img width=\"800\" alt=\"creating a repo\" src=\"https://drive.google.com/uc?export=view&id=0BxhVm1REqwr0bDdWNU5HVDdpUHc\">\n",
    "\n",
    "\n",
    "A scatter plot helps us determine if 2 columns are weakly or strongly correlated. While calculating the [correlation coefficient](https://en.wikipedia.org/wiki/Correlation_coefficient) will give us a precise number, a scatter plot helps us find outliers, gain a more intuitive sense of how spread out the data is, and compare more easily.\n",
    "\n",
    "To generate a scatter plot, we use [Axes.scatter()](http://matplotlib.org/api/axes_api.html#matplotlib.axes.Axes.scatter). The <span style=\"background-color: #F9EBEA; color:##C0392B\">scatter()</span> method has 2 required parameters, <span style=\"background-color: #F9EBEA; color:##C0392B\">x</span> and <span style=\"background-color: #F9EBEA; color:##C0392B\">y</span>, which matches the parameters of the <span style=\"background-color: #F9EBEA; color:##C0392B\">plot()</span> method. The values for these parameters need to be iterable objects of matching lengths (lists, NumPy arrays, or pandas series).\n",
    "\n",
    "Let's start by creating a scatter plot that visualizes the relationship between the <span style=\"background-color: #F9EBEA; color:##C0392B\">Fandango_RatingValue</span> and <span style=\"background-color: #F9EBEA; color:##C0392B\">RT_user_norm</span> columns. We're looking for at least a weak correlation between the columns.\n",
    "\n",
    "<br>\n",
    "<div class=\"alert alert-info\">\n",
    "<b>Exercise Start.</b>\n",
    "</div>\n",
    "\n",
    "**Description**:\n",
    "\n",
    "1. Create a single subplot and assign the returned Figure object to <span style=\"background-color: #F9EBEA; color:##C0392B\">fig</span> and the returned Axes object to <span style=\"background-color: #F9EBEA; color:##C0392B\">ax</span>.\n",
    "2. Generate a scatter plot with the <span style=\"background-color: #F9EBEA; color:##C0392B\">Fandango_Ratingvalue</span> column on the x-axis and the  <span style=\"background-color: #F9EBEA; color:##C0392B\">RT_user_norm</span> column on the y-axis.\n",
    "3. Set the x-axis label to <span style=\"background-color: #F9EBEA; color:##C0392B\">\"Fandango\"</span> and the y-axis label to <span style=\"background-color: #F9EBEA; color:##C0392B\">\"Rotten Tomatoes\"</span>.\n",
    "4. Use <span style=\"background-color: #F9EBEA; color:##C0392B\">plt.show() </span> to display the resulting plot."
   ]
  },
  {
   "cell_type": "code",
   "execution_count": 16,
   "metadata": {},
   "outputs": [
    {
     "data": {
      "image/png": "[encoded data removed]",
      "text/plain": [
       "<matplotlib.figure.Figure at 0x27d21deec50>"
      ]
     },
     "metadata": {},
     "output_type": "display_data"
    }
   ],
   "source": [
    "fig, ax = plt.subplots()\n",
    "\n",
    "ax.scatter(norm_reviews[\"Fandango_Ratingvalue\"],norm_reviews[\"RT_user_norm\"])\n",
    "plt.xlabel(\"Fandango\")\n",
    "plt.ylabel(\"Rotten Tomatoes\")\n",
    "\n",
    "plt.show()"
   ]
  },
  {
   "cell_type": "markdown",
   "metadata": {},
   "source": [
    "## 7. Switching axes\n",
    "\n",
    "The scatter plot suggests that there's a weak, positive correlation between the user ratings on Fandango and the user ratings on Rotten Tomatoes. The correlation is weak because for many x values, there are multiple corresponding y values. The correlation is positive because, in general, as x increases, y also increases.\n",
    "\n",
    "When using scatter plots to understand how 2 variables are correlated, it's usually not important which one is on the x-axis and which one is on the y-axis. This is because the relationship is still captured either way, even if the plots look a little different. If you want to instead understand how an independent variable affects a dependent variables, you want to put the independent one on the x-axis and the dependent one on the y-axis. Doing so helps emphasize the potential cause and effect relation.\n",
    "\n",
    "In our case, we're not exploring if the ratings from Fandango influence those on Rotten Tomatoes and we're instead looking to understand how much they agree. Let's see what happens when we flip the columns."
   ]
  },
  {
   "cell_type": "markdown",
   "metadata": {},
   "source": [
    "## 8. Benchmarking correlation\n",
    "\n",
    "The second scatter plot is a mirror reflection of the first second scatter plot. The nature of the correlation is still reflected, however, which is the important thing. Let's now generate scatter plots to see how Fandango ratings correlate with all 3 of the other review sites.\n",
    "\n",
    "When generating multiple scatter plots for the purpose of comparison, it's important that all plots share the same ranges in the x-axis and y-axis. In the 2 plots we generated in the last step, the ranges for both axes didn't match. We can use [Axes.set_xlim()](http://matplotlib.org/api/axes_api.html#matplotlib.axes.Axes.set_xlim) and [Axes.set_ylim()](http://matplotlib.org/api/axes_api.html#matplotlib.axes.Axes.set_ylim) to set the data limits for both axes:\n",
    "\n",
    ">```python\n",
    "ax.set_xlim(0, 5)\n",
    "ax.set_ylim(0, 5)\n",
    "```\n",
    "\n",
    "By default, matplotlib uses the minimal ranges for the data limits necessary to display all of the data we specify. By manually setting the data limits ranges to specific ranges for all plots, we're ensuring that we can accurately compare. We can even use the methods we just mentioned to zoom in on a part of the plots. For example, the following code will constrained the axes to the **4** to **5** range:\n",
    "\n",
    ">```python\n",
    "ax.set_xlim(4, 5)\n",
    "ax.set_ylim(4, 5)\n",
    "```\n",
    "\n",
    "This makes small changes in the actual values in the data appear larger in the plot. A difference of **0.1** in a plot that ranges from **0** to **5** is hard to visually observe. A difference of **0.1** in a plot that only ranges from **4** to **5** is easily visible since the difference is 1/10th of the range.\n",
    "\n",
    "<br>\n",
    "<div class=\"alert alert-info\">\n",
    "<b>Exercise Start.</b>\n",
    "</div>\n",
    "\n",
    "**Description**:\n",
    "\n",
    "1. For the Subplot associated with <span style=\"background-color: #F9EBEA; color:##C0392B\">ax1</span>:\n",
    "    - Generate a scatter plot with the <span style=\"background-color: #F9EBEA; color:##C0392B\">Fandango_Ratingvalue</span> column on the x-axis and the <span style=\"background-color: #F9EBEA; color:##C0392B\">RT_user_norm</span> column on the y-axis.\n",
    "    - Set the x-axis label to <span style=\"background-color: #F9EBEA; color:##C0392B\">\"Fandango\"</span> and the y-axis label to <span style=\"background-color: #F9EBEA; color:##C0392B\">\"Rotten Tomatoes\"</span>.\n",
    "    - Set the x-axis and y-axis data limits to range from **0** and **5**.\n",
    "2. For the Subplot associated with <span style=\"background-color: #F9EBEA; color:##C0392B\">ax2</span>:\n",
    "    - Generate a scatter plot with the <span style=\"background-color: #F9EBEA; color:##C0392B\">Fandango_Ratingvalue</span> column on the x-axis and the <span style=\"background-color: #F9EBEA; color:##C0392B\">Metacritic_user_nom</span> column on the y-axis.\n",
    "    - Set the x-axis label to <span style=\"background-color: #F9EBEA; color:##C0392B\">\"Fandango\"</span> and the y-axis label to <span style=\"background-color: #F9EBEA; color:##C0392B\">\"Metacritic\"</span>.\n",
    "    - Set the x-axis and y-axis data limits to range from **0** and **5**.\n",
    "3. For the Subplot associated with <span style=\"background-color: #F9EBEA; color:##C0392B\">ax3</span>:\n",
    "    - Generate a scatter plot with the <span style=\"background-color: #F9EBEA; color:##C0392B\">Fandango_Ratingvalue</span> column on the x-axis and the <span style=\"background-color: #F9EBEA; color:##C0392B\">IMDB_norm</span> column on the y-axis.\n",
    "    - Set the x-axis label to <span style=\"background-color: #F9EBEA; color:##C0392B\">\"Fandango\"</span> and the y-axis label to <span style=\"background-color: #F9EBEA; color:##C0392B\">\"IMDB\"</span>.\n",
    "    - Set the x-axis and y-axis data limits to range from **0** and **5**.\n",
    "4. Use <span style=\"background-color: #F9EBEA; color:##C0392B\">plt.show()</span> to display the plots."
   ]
  },
  {
   "cell_type": "code",
   "execution_count": 26,
   "metadata": {},
   "outputs": [
    {
     "data": {
      "image/png": "[encoded data removed]",
      "text/plain": [
       "<matplotlib.figure.Figure at 0x27d21e62e10>"
      ]
     },
     "metadata": {},
     "output_type": "display_data"
    },
    {
     "data": {
      "image/png": "[encoded data removed]",
      "text/plain": [
       "<matplotlib.figure.Figure at 0x27d220397f0>"
      ]
     },
     "metadata": {},
     "output_type": "display_data"
    },
    {
     "data": {
      "image/png": "[encoded data removed]",
      "text/plain": [
       "<matplotlib.figure.Figure at 0x27d2207a550>"
      ]
     },
     "metadata": {},
     "output_type": "display_data"
    }
   ],
   "source": [
    "fig, ax1 = plt.subplots()\n",
    "\n",
    "ax1.scatter(norm_reviews[\"Fandango_Ratingvalue\"],norm_reviews[\"RT_user_norm\"])\n",
    "#ax1.set_xlim(0, 5)\n",
    "#ax1.set_ylim(0, 5)\n",
    "plt.xlabel(\"Fandango\")\n",
    "plt.ylabel(\"Rotten Tomatoes\")\n",
    "\n",
    "\n",
    "fig, ax2 = plt.subplots()\n",
    "ax2.scatter(norm_reviews[\"Fandango_Ratingvalue\"],norm_reviews[\"Metacritic_user_nom\"]) \n",
    "#ax2.set_xlim(0, 5)\n",
    "#ax2.set_ylim(0, 5)\n",
    "plt.xlabel(\"Fandango\")\n",
    "plt.ylabel(\"Metacritic\")\n",
    "\n",
    "\n",
    "\n",
    "fig, ax3 = plt.subplots()\n",
    "ax3.scatter(norm_reviews[\"Fandango_Ratingvalue\"],norm_reviews[\"IMDB_norm\"]) \n",
    "#ax3.set_xlim(0, 5)\n",
    "#ax3.set_ylim(0, 5)\n",
    "plt.xlabel(\"Fandango\")\n",
    "plt.ylabel(\"IMDB\")\n",
    "\n",
    "\n",
    "plt.show()"
   ]
  },
  {
   "cell_type": "markdown",
   "metadata": {},
   "source": [
    "## 9. Next steps\n",
    "\n",
    "From the scatter plots, we can conclude that user ratings from IMDB and Fandango are the most similar. In addition, user ratings from Metacritic and Rotten Tomatoes have positive but weak correlations with user ratings from Fandango. We can also notice that user ratings from Metacritic and Rotten Tomatoes span a larger range of values than those from IMDB or Fandango. User ratings from Metacritic and Rotten Tomatoes range from 1 to 5. User ratings from Fandango range approximately from 2.5 to 5 while those from IMDB range approximately from 2 to 4.5.\n",
    "\n",
    "The scatter plots unfortunately only give us a cursory understanding of the distributions of user ratings from each review site. For example, if a hundred movies had the same average user rating from IMDB and Fandango in the dataset, we would only see a single marker in the scatter plot. In the next mission, we'll learn about two types of plots that help us understand distributions of values."
   ]
  }
 ],
 "metadata": {
  "kernelspec": {
   "display_name": "Python 3",
   "language": "python",
   "name": "python3"
  },
  "language_info": {
   "codemirror_mode": {
    "name": "ipython",
    "version": 3
   },
   "file_extension": ".py",
   "mimetype": "text/x-python",
   "name": "python",
   "nbconvert_exporter": "python",
   "pygments_lexer": "ipython3",
   "version": "3.6.4"
  }
 },
 "nbformat": 4,
 "nbformat_minor": 2
}
