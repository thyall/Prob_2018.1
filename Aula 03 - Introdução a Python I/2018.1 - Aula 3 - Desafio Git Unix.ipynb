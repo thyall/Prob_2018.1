{
 "cells": [
  {
   "cell_type": "code",
   "execution_count": 6,
   "metadata": {},
   "outputs": [],
   "source": [
    "# import necessary libraries\n",
    "import csv\n",
    "\n",
    "# log.csv was genereted as follows:\n",
    "# git log --encoding=latin-1 --pretty=\"%at,%aN\" > log.csv\n",
    "\n",
    "# open log.csv\n",
    "# the encoding must be explicit\n",
    "f = open(\"log.csv\", encoding='latin-1')\n",
    "\n",
    "# use methods of csv library to read the file\n",
    "csvreader = csv.reader(f)"
   ]
  },
  {
   "cell_type": "code",
   "execution_count": 7,
   "metadata": {},
   "outputs": [],
   "source": [
    "# convert the file to a list\n",
    "my_data = list(csvreader)"
   ]
  },
  {
   "cell_type": "code",
   "execution_count": 11,
   "metadata": {},
   "outputs": [],
   "source": [
    "'''\n",
    "    Create a dictionary with all contributers of linux project\n",
    "    and the number of commits, respectively \n",
    "'''\n",
    "\n",
    "contributers = {}\n",
    "\n",
    "for row in my_data:\n",
    "    user = row[1]\n",
    "    if user in contributers:\n",
    "        contributers[user] +=1\n",
    "    else:\n",
    "        contributers[user] = 1"
   ]
  },
  {
   "cell_type": "code",
   "execution_count": 16,
   "metadata": {},
   "outputs": [
    {
     "data": {
      "text/plain": [
       "[('Linus Torvalds', 24648),\n",
       " ('David S. Miller', 9813),\n",
       " ('Mark Brown', 7034),\n",
       " ('Takashi Iwai', 6353),\n",
       " ('Al Viro', 6176),\n",
       " ('H Hartley Sweeten', 5942),\n",
       " ('Arnd Bergmann', 5552),\n",
       " ('Mauro Carvalho Chehab', 5517),\n",
       " ('Ingo Molnar', 5493),\n",
       " ('Greg Kroah-Hartman', 4836)]"
      ]
     },
     "execution_count": 16,
     "metadata": {},
     "output_type": "execute_result"
    }
   ],
   "source": [
    "# Sorted the contributers according the number of commits\n",
    "sorted(contributers.items(), key=lambda x: x[1],reverse=True)[:10]"
   ]
  },
  {
   "cell_type": "code",
   "execution_count": 17,
   "metadata": {},
   "outputs": [
    {
     "data": {
      "text/plain": [
       "18086"
      ]
     },
     "execution_count": 17,
     "metadata": {},
     "output_type": "execute_result"
    }
   ],
   "source": [
    "# Number of contributers\n",
    "len(contributers)"
   ]
  },
  {
   "cell_type": "code",
   "execution_count": 19,
   "metadata": {},
   "outputs": [
    {
     "data": {
      "text/plain": [
       "738125"
      ]
     },
     "execution_count": 19,
     "metadata": {},
     "output_type": "execute_result"
    }
   ],
   "source": [
    "# Number of commits\n",
    "# Compare with github\n",
    "sum(contributers.values())"
   ]
  }
 ],
 "metadata": {
  "kernelspec": {
   "display_name": "Python 3",
   "language": "python",
   "name": "python3"
  },
  "language_info": {
   "codemirror_mode": {
    "name": "ipython",
    "version": 3
   },
   "file_extension": ".py",
   "mimetype": "text/x-python",
   "name": "python",
   "nbconvert_exporter": "python",
   "pygments_lexer": "ipython3",
   "version": "3.6.4"
  }
 },
 "nbformat": 4,
 "nbformat_minor": 2
}
